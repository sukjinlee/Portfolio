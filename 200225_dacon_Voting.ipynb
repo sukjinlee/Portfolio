{
 "cells": [
  {
   "cell_type": "markdown",
   "metadata": {},
   "source": [
    "# >> library 가져오기"
   ]
  },
  {
   "cell_type": "code",
   "execution_count": 1,
   "metadata": {},
   "outputs": [],
   "source": [
    "import numpy as np\n",
    "import pandas as pd\n",
    "%matplotlib inline\n",
    "import matplotlib.pylab as plt"
   ]
  },
  {
   "cell_type": "code",
   "execution_count": 2,
   "metadata": {},
   "outputs": [],
   "source": [
    "import time\n",
    "import random"
   ]
  },
  {
   "cell_type": "code",
   "execution_count": 3,
   "metadata": {},
   "outputs": [],
   "source": [
    "from sklearn import preprocessing\n",
    "from sklearn.preprocessing import LabelEncoder\n",
    "from sklearn.preprocessing import OneHotEncoder\n",
    "from sklearn.preprocessing import StandardScaler"
   ]
  },
  {
   "cell_type": "code",
   "execution_count": 4,
   "metadata": {},
   "outputs": [],
   "source": [
    "from sklearn.model_selection import train_test_split"
   ]
  },
  {
   "cell_type": "code",
   "execution_count": 5,
   "metadata": {},
   "outputs": [],
   "source": [
    "import seaborn as sns\n",
    "sns.set()"
   ]
  },
  {
   "cell_type": "code",
   "execution_count": 6,
   "metadata": {},
   "outputs": [],
   "source": [
    "from sklearn.model_selection import GridSearchCV,RandomizedSearchCV,learning_curve, cross_val_score\n",
    "from sklearn.preprocessing import StandardScaler, RobustScaler\n",
    "from sklearn.svm import SVR\n",
    "from sklearn.ensemble import RandomForestRegressor\n",
    "from sklearn.metrics import accuracy_score, mean_squared_error, log_loss\n",
    "\n",
    "from sklearn.ensemble import RandomForestClassifier\n",
    "from sklearn.cluster import KMeans"
   ]
  },
  {
   "cell_type": "code",
   "execution_count": 7,
   "metadata": {},
   "outputs": [],
   "source": [
    "from sklearn.model_selection import KFold, StratifiedKFold"
   ]
  },
  {
   "cell_type": "markdown",
   "metadata": {},
   "source": [
    "# >> 데이터 불러오기"
   ]
  },
  {
   "cell_type": "code",
   "execution_count": 8,
   "metadata": {},
   "outputs": [],
   "source": [
    "train = pd.read_csv(\"../data/dacon_galaxy/galaxy_train.csv\", index_col=0)\n",
    "test = pd.read_csv('../data/dacon_galaxy/galaxy_test.csv', index_col=0)\n",
    "sample_submission = pd.read_csv('../data/dacon_galaxy/sample_submission.csv', index_col=0)"
   ]
  },
  {
   "cell_type": "markdown",
   "metadata": {},
   "source": [
    "## type 타입 변환 (string obj >> integer)"
   ]
  },
  {
   "cell_type": "code",
   "execution_count": 9,
   "metadata": {},
   "outputs": [],
   "source": [
    "column_number = {}\n",
    "for i, column in enumerate(sample_submission.columns):\n",
    "    column_number[column] = i\n",
    "    \n",
    "def to_number(x, dic):\n",
    "    return dic[x]\n",
    "\n",
    "train['type_num'] = train['type'].apply(lambda x: to_number(x, column_number))"
   ]
  },
  {
   "cell_type": "code",
   "execution_count": 10,
   "metadata": {
    "scrolled": false
   },
   "outputs": [
    {
     "data": {
      "text/html": [
       "<div>\n",
       "<style scoped>\n",
       "    .dataframe tbody tr th:only-of-type {\n",
       "        vertical-align: middle;\n",
       "    }\n",
       "\n",
       "    .dataframe tbody tr th {\n",
       "        vertical-align: top;\n",
       "    }\n",
       "\n",
       "    .dataframe thead th {\n",
       "        text-align: right;\n",
       "    }\n",
       "</style>\n",
       "<table border=\"1\" class=\"dataframe\">\n",
       "  <thead>\n",
       "    <tr style=\"text-align: right;\">\n",
       "      <th></th>\n",
       "      <th>type</th>\n",
       "      <th>fiberID</th>\n",
       "      <th>psfMag_u</th>\n",
       "      <th>psfMag_g</th>\n",
       "      <th>psfMag_r</th>\n",
       "      <th>psfMag_i</th>\n",
       "      <th>psfMag_z</th>\n",
       "      <th>fiberMag_u</th>\n",
       "      <th>fiberMag_g</th>\n",
       "      <th>fiberMag_r</th>\n",
       "      <th>...</th>\n",
       "      <th>petroMag_g</th>\n",
       "      <th>petroMag_r</th>\n",
       "      <th>petroMag_i</th>\n",
       "      <th>petroMag_z</th>\n",
       "      <th>modelMag_u</th>\n",
       "      <th>modelMag_g</th>\n",
       "      <th>modelMag_r</th>\n",
       "      <th>modelMag_i</th>\n",
       "      <th>modelMag_z</th>\n",
       "      <th>type_num</th>\n",
       "    </tr>\n",
       "    <tr>\n",
       "      <th>id</th>\n",
       "      <th></th>\n",
       "      <th></th>\n",
       "      <th></th>\n",
       "      <th></th>\n",
       "      <th></th>\n",
       "      <th></th>\n",
       "      <th></th>\n",
       "      <th></th>\n",
       "      <th></th>\n",
       "      <th></th>\n",
       "      <th></th>\n",
       "      <th></th>\n",
       "      <th></th>\n",
       "      <th></th>\n",
       "      <th></th>\n",
       "      <th></th>\n",
       "      <th></th>\n",
       "      <th></th>\n",
       "      <th></th>\n",
       "      <th></th>\n",
       "      <th></th>\n",
       "    </tr>\n",
       "  </thead>\n",
       "  <tbody>\n",
       "    <tr>\n",
       "      <td>0</td>\n",
       "      <td>QSO</td>\n",
       "      <td>601</td>\n",
       "      <td>23.198224</td>\n",
       "      <td>21.431953</td>\n",
       "      <td>21.314148</td>\n",
       "      <td>21.176553</td>\n",
       "      <td>21.171444</td>\n",
       "      <td>22.581309</td>\n",
       "      <td>21.644453</td>\n",
       "      <td>21.657571</td>\n",
       "      <td>...</td>\n",
       "      <td>21.431636</td>\n",
       "      <td>21.478312</td>\n",
       "      <td>21.145409</td>\n",
       "      <td>20.422446</td>\n",
       "      <td>22.749241</td>\n",
       "      <td>21.465534</td>\n",
       "      <td>21.364187</td>\n",
       "      <td>21.020605</td>\n",
       "      <td>21.147340</td>\n",
       "      <td>8</td>\n",
       "    </tr>\n",
       "    <tr>\n",
       "      <td>1</td>\n",
       "      <td>QSO</td>\n",
       "      <td>788</td>\n",
       "      <td>21.431355</td>\n",
       "      <td>20.708104</td>\n",
       "      <td>20.678850</td>\n",
       "      <td>20.703420</td>\n",
       "      <td>20.473229</td>\n",
       "      <td>21.868797</td>\n",
       "      <td>21.029773</td>\n",
       "      <td>20.967054</td>\n",
       "      <td>...</td>\n",
       "      <td>20.778968</td>\n",
       "      <td>20.889705</td>\n",
       "      <td>20.639812</td>\n",
       "      <td>20.646660</td>\n",
       "      <td>21.492955</td>\n",
       "      <td>20.758527</td>\n",
       "      <td>20.753925</td>\n",
       "      <td>20.693389</td>\n",
       "      <td>20.512314</td>\n",
       "      <td>8</td>\n",
       "    </tr>\n",
       "    <tr>\n",
       "      <td>2</td>\n",
       "      <td>QSO</td>\n",
       "      <td>427</td>\n",
       "      <td>17.851451</td>\n",
       "      <td>16.727898</td>\n",
       "      <td>16.679677</td>\n",
       "      <td>16.694640</td>\n",
       "      <td>16.641788</td>\n",
       "      <td>18.171890</td>\n",
       "      <td>17.033098</td>\n",
       "      <td>16.999682</td>\n",
       "      <td>...</td>\n",
       "      <td>16.738784</td>\n",
       "      <td>16.688874</td>\n",
       "      <td>16.744210</td>\n",
       "      <td>16.808006</td>\n",
       "      <td>17.818063</td>\n",
       "      <td>16.697434</td>\n",
       "      <td>16.641249</td>\n",
       "      <td>16.660177</td>\n",
       "      <td>16.688928</td>\n",
       "      <td>8</td>\n",
       "    </tr>\n",
       "    <tr>\n",
       "      <td>3</td>\n",
       "      <td>QSO</td>\n",
       "      <td>864</td>\n",
       "      <td>20.789900</td>\n",
       "      <td>20.040371</td>\n",
       "      <td>19.926909</td>\n",
       "      <td>19.843840</td>\n",
       "      <td>19.463270</td>\n",
       "      <td>21.039030</td>\n",
       "      <td>20.317165</td>\n",
       "      <td>20.217898</td>\n",
       "      <td>...</td>\n",
       "      <td>19.993727</td>\n",
       "      <td>19.985531</td>\n",
       "      <td>19.750917</td>\n",
       "      <td>19.455117</td>\n",
       "      <td>20.770711</td>\n",
       "      <td>20.001699</td>\n",
       "      <td>19.889798</td>\n",
       "      <td>19.758113</td>\n",
       "      <td>19.552855</td>\n",
       "      <td>8</td>\n",
       "    </tr>\n",
       "    <tr>\n",
       "      <td>4</td>\n",
       "      <td>STAR_RED_DWARF</td>\n",
       "      <td>612</td>\n",
       "      <td>26.454969</td>\n",
       "      <td>23.058767</td>\n",
       "      <td>21.471406</td>\n",
       "      <td>19.504961</td>\n",
       "      <td>18.389096</td>\n",
       "      <td>25.700632</td>\n",
       "      <td>23.629122</td>\n",
       "      <td>21.742750</td>\n",
       "      <td>...</td>\n",
       "      <td>22.426929</td>\n",
       "      <td>21.673551</td>\n",
       "      <td>19.610012</td>\n",
       "      <td>18.376141</td>\n",
       "      <td>24.877052</td>\n",
       "      <td>23.147993</td>\n",
       "      <td>21.475342</td>\n",
       "      <td>19.487330</td>\n",
       "      <td>18.375655</td>\n",
       "      <td>10</td>\n",
       "    </tr>\n",
       "  </tbody>\n",
       "</table>\n",
       "<p>5 rows × 23 columns</p>\n",
       "</div>"
      ],
      "text/plain": [
       "              type  fiberID   psfMag_u   psfMag_g   psfMag_r   psfMag_i  \\\n",
       "id                                                                        \n",
       "0              QSO      601  23.198224  21.431953  21.314148  21.176553   \n",
       "1              QSO      788  21.431355  20.708104  20.678850  20.703420   \n",
       "2              QSO      427  17.851451  16.727898  16.679677  16.694640   \n",
       "3              QSO      864  20.789900  20.040371  19.926909  19.843840   \n",
       "4   STAR_RED_DWARF      612  26.454969  23.058767  21.471406  19.504961   \n",
       "\n",
       "     psfMag_z  fiberMag_u  fiberMag_g  fiberMag_r  ...  petroMag_g  \\\n",
       "id                                                 ...               \n",
       "0   21.171444   22.581309   21.644453   21.657571  ...   21.431636   \n",
       "1   20.473229   21.868797   21.029773   20.967054  ...   20.778968   \n",
       "2   16.641788   18.171890   17.033098   16.999682  ...   16.738784   \n",
       "3   19.463270   21.039030   20.317165   20.217898  ...   19.993727   \n",
       "4   18.389096   25.700632   23.629122   21.742750  ...   22.426929   \n",
       "\n",
       "    petroMag_r  petroMag_i  petroMag_z  modelMag_u  modelMag_g  modelMag_r  \\\n",
       "id                                                                           \n",
       "0    21.478312   21.145409   20.422446   22.749241   21.465534   21.364187   \n",
       "1    20.889705   20.639812   20.646660   21.492955   20.758527   20.753925   \n",
       "2    16.688874   16.744210   16.808006   17.818063   16.697434   16.641249   \n",
       "3    19.985531   19.750917   19.455117   20.770711   20.001699   19.889798   \n",
       "4    21.673551   19.610012   18.376141   24.877052   23.147993   21.475342   \n",
       "\n",
       "    modelMag_i  modelMag_z  type_num  \n",
       "id                                    \n",
       "0    21.020605   21.147340         8  \n",
       "1    20.693389   20.512314         8  \n",
       "2    16.660177   16.688928         8  \n",
       "3    19.758113   19.552855         8  \n",
       "4    19.487330   18.375655        10  \n",
       "\n",
       "[5 rows x 23 columns]"
      ]
     },
     "execution_count": 10,
     "metadata": {},
     "output_type": "execute_result"
    }
   ],
   "source": [
    "train.head()"
   ]
  },
  {
   "cell_type": "code",
   "execution_count": 25,
   "metadata": {},
   "outputs": [],
   "source": [
    "# train['isQSO'] = train['fiberID'].apply(lambda x: 1 if x >= 641 else 0)\n",
    "# test['isQSO'] = test['fiberID'].apply(lambda x: 1 if x >= 641 else 0)"
   ]
  },
  {
   "cell_type": "markdown",
   "metadata": {},
   "source": [
    "## Test fiberID >=641 데이터 Train에 붙이기"
   ]
  },
  {
   "cell_type": "code",
   "execution_count": 137,
   "metadata": {
    "scrolled": true
   },
   "outputs": [],
   "source": [
    "# test_concat = test[test['fiberID'] >= 641]\n",
    "# test_concat.loc[:,'type'] = \"QSO\"\n",
    "# train_test = pd.concat([train, test_concat])"
   ]
  },
  {
   "cell_type": "code",
   "execution_count": 140,
   "metadata": {},
   "outputs": [],
   "source": [
    "# train_test = train_test[train.columns]"
   ]
  },
  {
   "cell_type": "code",
   "execution_count": 10,
   "metadata": {
    "scrolled": false
   },
   "outputs": [],
   "source": [
    "# train_test"
   ]
  },
  {
   "cell_type": "markdown",
   "metadata": {},
   "source": [
    "# EDA"
   ]
  },
  {
   "cell_type": "code",
   "execution_count": 94,
   "metadata": {},
   "outputs": [],
   "source": [
    "import seaborn as sns"
   ]
  },
  {
   "cell_type": "code",
   "execution_count": 108,
   "metadata": {},
   "outputs": [
    {
     "name": "stdout",
     "output_type": "stream",
     "text": [
      "199991\n"
     ]
    }
   ],
   "source": [
    "train_2 = train.copy()\n",
    "print(len(train_2))"
   ]
  },
  {
   "cell_type": "code",
   "execution_count": 109,
   "metadata": {},
   "outputs": [
    {
     "name": "stdout",
     "output_type": "stream",
     "text": [
      "199945\n"
     ]
    }
   ],
   "source": [
    "# filter selection---> Boolean Indexing \n",
    "train_2 = train_2[(train_2[\"psfMag_u\"]>0) & (train_2[\"psfMag_u\"]<100)]\n",
    "print(len(train_2))"
   ]
  },
  {
   "cell_type": "code",
   "execution_count": 114,
   "metadata": {},
   "outputs": [
    {
     "data": {
      "text/plain": [
       "<matplotlib.axes._subplots.AxesSubplot at 0x7f429e5bdc90>"
      ]
     },
     "execution_count": 114,
     "metadata": {},
     "output_type": "execute_result"
    },
    {
     "data": {
      "image/png": "[encoded data removed]",
      "text/plain": [
       "<Figure size 936x360 with 1 Axes>"
      ]
     },
     "metadata": {},
     "output_type": "display_data"
    }
   ],
   "source": [
    "sns.scatterplot(x=\"fiberID\", \n",
    "                y=\"psfMag_u\", \n",
    "                hue=\"type\",\n",
    "                data=train_2)"
   ]
  },
  {
   "cell_type": "markdown",
   "metadata": {},
   "source": [
    "## 결측치 확인"
   ]
  },
  {
   "cell_type": "code",
   "execution_count": 142,
   "metadata": {
    "scrolled": true
   },
   "outputs": [
    {
     "name": "stdout",
     "output_type": "stream",
     "text": [
      "<class 'pandas.core.frame.DataFrame'>\n",
      "Int64Index: 200736 entries, 0 to 209998\n",
      "Data columns (total 22 columns):\n",
      "type          200736 non-null object\n",
      "fiberID       200736 non-null int64\n",
      "psfMag_u      200736 non-null float64\n",
      "psfMag_g      200736 non-null float64\n",
      "psfMag_r      200736 non-null float64\n",
      "psfMag_i      200736 non-null float64\n",
      "psfMag_z      200736 non-null float64\n",
      "fiberMag_u    200736 non-null float64\n",
      "fiberMag_g    200736 non-null float64\n",
      "fiberMag_r    200736 non-null float64\n",
      "fiberMag_i    200736 non-null float64\n",
      "fiberMag_z    200736 non-null float64\n",
      "petroMag_u    200736 non-null float64\n",
      "petroMag_g    200736 non-null float64\n",
      "petroMag_r    200736 non-null float64\n",
      "petroMag_i    200736 non-null float64\n",
      "petroMag_z    200736 non-null float64\n",
      "modelMag_u    200736 non-null float64\n",
      "modelMag_g    200736 non-null float64\n",
      "modelMag_r    200736 non-null float64\n",
      "modelMag_i    200736 non-null float64\n",
      "modelMag_z    200736 non-null float64\n",
      "dtypes: float64(20), int64(1), object(1)\n",
      "memory usage: 35.2+ MB\n"
     ]
    }
   ],
   "source": [
    "train_test.info()"
   ]
  },
  {
   "cell_type": "markdown",
   "metadata": {},
   "source": [
    "# >> Outlier 제거"
   ]
  },
  {
   "cell_type": "markdown",
   "metadata": {},
   "source": [
    "- test 기준에 맞춰보자"
   ]
  },
  {
   "cell_type": "code",
   "execution_count": 76,
   "metadata": {
    "scrolled": true
   },
   "outputs": [
    {
     "data": {
      "text/plain": [
       "<Figure size 936x360 with 0 Axes>"
      ]
     },
     "metadata": {},
     "output_type": "display_data"
    }
   ],
   "source": [
    "fig = plt.figure()\n",
    "plt.rcParams[\"figure.figsize\"] = (13,5)"
   ]
  },
  {
   "cell_type": "code",
   "execution_count": 31,
   "metadata": {
    "scrolled": true
   },
   "outputs": [
    {
     "data": {
      "text/plain": [
       "<matplotlib.axes._subplots.AxesSubplot at 0x7f4308e30fd0>"
      ]
     },
     "execution_count": 31,
     "metadata": {},
     "output_type": "execute_result"
    },
    {
     "data": {
      "image/png": "[encoded data removed]",
      "text/plain": [
       "<Figure size 936x360 with 1 Axes>"
      ]
     },
     "metadata": {},
     "output_type": "display_data"
    }
   ],
   "source": [
    "sns.boxplot('type_num', 'psfMag_r', data=train)"
   ]
  },
  {
   "cell_type": "code",
   "execution_count": 37,
   "metadata": {},
   "outputs": [
    {
     "data": {
      "text/html": [
       "<div>\n",
       "<style scoped>\n",
       "    .dataframe tbody tr th:only-of-type {\n",
       "        vertical-align: middle;\n",
       "    }\n",
       "\n",
       "    .dataframe tbody tr th {\n",
       "        vertical-align: top;\n",
       "    }\n",
       "\n",
       "    .dataframe thead th {\n",
       "        text-align: right;\n",
       "    }\n",
       "</style>\n",
       "<table border=\"1\" class=\"dataframe\">\n",
       "  <thead>\n",
       "    <tr style=\"text-align: right;\">\n",
       "      <th></th>\n",
       "      <th>type</th>\n",
       "      <th>fiberID</th>\n",
       "      <th>psfMag_u</th>\n",
       "      <th>psfMag_g</th>\n",
       "      <th>psfMag_r</th>\n",
       "      <th>psfMag_i</th>\n",
       "      <th>psfMag_z</th>\n",
       "      <th>fiberMag_u</th>\n",
       "      <th>fiberMag_g</th>\n",
       "      <th>fiberMag_r</th>\n",
       "      <th>...</th>\n",
       "      <th>petroMag_g</th>\n",
       "      <th>petroMag_r</th>\n",
       "      <th>petroMag_i</th>\n",
       "      <th>petroMag_z</th>\n",
       "      <th>modelMag_u</th>\n",
       "      <th>modelMag_g</th>\n",
       "      <th>modelMag_r</th>\n",
       "      <th>modelMag_i</th>\n",
       "      <th>modelMag_z</th>\n",
       "      <th>type_num</th>\n",
       "    </tr>\n",
       "  </thead>\n",
       "  <tbody>\n",
       "    <tr>\n",
       "      <td>0</td>\n",
       "      <td>QSO</td>\n",
       "      <td>601</td>\n",
       "      <td>23.198224</td>\n",
       "      <td>21.431953</td>\n",
       "      <td>21.314148</td>\n",
       "      <td>21.176553</td>\n",
       "      <td>21.171444</td>\n",
       "      <td>22.581309</td>\n",
       "      <td>21.644453</td>\n",
       "      <td>21.657571</td>\n",
       "      <td>...</td>\n",
       "      <td>21.431636</td>\n",
       "      <td>21.478312</td>\n",
       "      <td>21.145409</td>\n",
       "      <td>20.422446</td>\n",
       "      <td>22.749241</td>\n",
       "      <td>21.465534</td>\n",
       "      <td>21.364187</td>\n",
       "      <td>21.020605</td>\n",
       "      <td>21.147340</td>\n",
       "      <td>8</td>\n",
       "    </tr>\n",
       "    <tr>\n",
       "      <td>1</td>\n",
       "      <td>QSO</td>\n",
       "      <td>788</td>\n",
       "      <td>21.431355</td>\n",
       "      <td>20.708104</td>\n",
       "      <td>20.678850</td>\n",
       "      <td>20.703420</td>\n",
       "      <td>20.473229</td>\n",
       "      <td>21.868797</td>\n",
       "      <td>21.029773</td>\n",
       "      <td>20.967054</td>\n",
       "      <td>...</td>\n",
       "      <td>20.778968</td>\n",
       "      <td>20.889705</td>\n",
       "      <td>20.639812</td>\n",
       "      <td>20.646660</td>\n",
       "      <td>21.492955</td>\n",
       "      <td>20.758527</td>\n",
       "      <td>20.753925</td>\n",
       "      <td>20.693389</td>\n",
       "      <td>20.512314</td>\n",
       "      <td>8</td>\n",
       "    </tr>\n",
       "    <tr>\n",
       "      <td>2</td>\n",
       "      <td>QSO</td>\n",
       "      <td>427</td>\n",
       "      <td>17.851451</td>\n",
       "      <td>16.727898</td>\n",
       "      <td>16.679677</td>\n",
       "      <td>16.694640</td>\n",
       "      <td>16.641788</td>\n",
       "      <td>18.171890</td>\n",
       "      <td>17.033098</td>\n",
       "      <td>16.999682</td>\n",
       "      <td>...</td>\n",
       "      <td>16.738784</td>\n",
       "      <td>16.688874</td>\n",
       "      <td>16.744210</td>\n",
       "      <td>16.808006</td>\n",
       "      <td>17.818063</td>\n",
       "      <td>16.697434</td>\n",
       "      <td>16.641249</td>\n",
       "      <td>16.660177</td>\n",
       "      <td>16.688928</td>\n",
       "      <td>8</td>\n",
       "    </tr>\n",
       "    <tr>\n",
       "      <td>3</td>\n",
       "      <td>QSO</td>\n",
       "      <td>864</td>\n",
       "      <td>20.789900</td>\n",
       "      <td>20.040371</td>\n",
       "      <td>19.926909</td>\n",
       "      <td>19.843840</td>\n",
       "      <td>19.463270</td>\n",
       "      <td>21.039030</td>\n",
       "      <td>20.317165</td>\n",
       "      <td>20.217898</td>\n",
       "      <td>...</td>\n",
       "      <td>19.993727</td>\n",
       "      <td>19.985531</td>\n",
       "      <td>19.750917</td>\n",
       "      <td>19.455117</td>\n",
       "      <td>20.770711</td>\n",
       "      <td>20.001699</td>\n",
       "      <td>19.889798</td>\n",
       "      <td>19.758113</td>\n",
       "      <td>19.552855</td>\n",
       "      <td>8</td>\n",
       "    </tr>\n",
       "    <tr>\n",
       "      <td>4</td>\n",
       "      <td>STAR_RED_DWARF</td>\n",
       "      <td>612</td>\n",
       "      <td>26.454969</td>\n",
       "      <td>23.058767</td>\n",
       "      <td>21.471406</td>\n",
       "      <td>19.504961</td>\n",
       "      <td>18.389096</td>\n",
       "      <td>25.700632</td>\n",
       "      <td>23.629122</td>\n",
       "      <td>21.742750</td>\n",
       "      <td>...</td>\n",
       "      <td>22.426929</td>\n",
       "      <td>21.673551</td>\n",
       "      <td>19.610012</td>\n",
       "      <td>18.376141</td>\n",
       "      <td>24.877052</td>\n",
       "      <td>23.147993</td>\n",
       "      <td>21.475342</td>\n",
       "      <td>19.487330</td>\n",
       "      <td>18.375655</td>\n",
       "      <td>10</td>\n",
       "    </tr>\n",
       "  </tbody>\n",
       "</table>\n",
       "<p>5 rows × 23 columns</p>\n",
       "</div>"
      ],
      "text/plain": [
       "             type  fiberID   psfMag_u   psfMag_g   psfMag_r   psfMag_i  \\\n",
       "0             QSO      601  23.198224  21.431953  21.314148  21.176553   \n",
       "1             QSO      788  21.431355  20.708104  20.678850  20.703420   \n",
       "2             QSO      427  17.851451  16.727898  16.679677  16.694640   \n",
       "3             QSO      864  20.789900  20.040371  19.926909  19.843840   \n",
       "4  STAR_RED_DWARF      612  26.454969  23.058767  21.471406  19.504961   \n",
       "\n",
       "    psfMag_z  fiberMag_u  fiberMag_g  fiberMag_r  ...  petroMag_g  petroMag_r  \\\n",
       "0  21.171444   22.581309   21.644453   21.657571  ...   21.431636   21.478312   \n",
       "1  20.473229   21.868797   21.029773   20.967054  ...   20.778968   20.889705   \n",
       "2  16.641788   18.171890   17.033098   16.999682  ...   16.738784   16.688874   \n",
       "3  19.463270   21.039030   20.317165   20.217898  ...   19.993727   19.985531   \n",
       "4  18.389096   25.700632   23.629122   21.742750  ...   22.426929   21.673551   \n",
       "\n",
       "   petroMag_i  petroMag_z  modelMag_u  modelMag_g  modelMag_r  modelMag_i  \\\n",
       "0   21.145409   20.422446   22.749241   21.465534   21.364187   21.020605   \n",
       "1   20.639812   20.646660   21.492955   20.758527   20.753925   20.693389   \n",
       "2   16.744210   16.808006   17.818063   16.697434   16.641249   16.660177   \n",
       "3   19.750917   19.455117   20.770711   20.001699   19.889798   19.758113   \n",
       "4   19.610012   18.376141   24.877052   23.147993   21.475342   19.487330   \n",
       "\n",
       "   modelMag_z  type_num  \n",
       "0   21.147340         8  \n",
       "1   20.512314         8  \n",
       "2   16.688928         8  \n",
       "3   19.552855         8  \n",
       "4   18.375655        10  \n",
       "\n",
       "[5 rows x 23 columns]"
      ]
     },
     "execution_count": 37,
     "metadata": {},
     "output_type": "execute_result"
    }
   ],
   "source": [
    "train.head()"
   ]
  },
  {
   "cell_type": "code",
   "execution_count": 10,
   "metadata": {},
   "outputs": [
    {
     "data": {
      "text/plain": [
       "Index(['psfMag_u', 'psfMag_g', 'psfMag_r', 'psfMag_i', 'psfMag_z',\n",
       "       'fiberMag_u', 'fiberMag_g', 'fiberMag_r', 'fiberMag_i', 'fiberMag_z',\n",
       "       'petroMag_u', 'petroMag_g', 'petroMag_r', 'petroMag_i', 'petroMag_z',\n",
       "       'modelMag_u', 'modelMag_g', 'modelMag_r', 'modelMag_i'],\n",
       "      dtype='object')"
      ]
     },
     "execution_count": 10,
     "metadata": {},
     "output_type": "execute_result"
    }
   ],
   "source": [
    "train.columns[2:-2]"
   ]
  },
  {
   "cell_type": "code",
   "execution_count": 10,
   "metadata": {
    "scrolled": true
   },
   "outputs": [
    {
     "data": {
      "text/plain": [
       "(199880, 23)"
      ]
     },
     "execution_count": 10,
     "metadata": {},
     "output_type": "execute_result"
    }
   ],
   "source": [
    "for column in train.columns[2:-1]:\n",
    "    test_min_value = test[column].min()\n",
    "    test_max_value = test[column].max()\n",
    "\n",
    "    for column in train.columns[2:-1]:\n",
    "        train = train.drop(index=train[(train[column] <= test_min_value-100) | (train[column] >= test_max_value+100)].index)\n",
    "\n",
    "    train = train.reset_index(drop=True)\n",
    "    \n",
    "train.shape"
   ]
  },
  {
   "cell_type": "code",
   "execution_count": 150,
   "metadata": {},
   "outputs": [],
   "source": [
    "column_number = {}\n",
    "for i, column in enumerate(sample_submission.columns):\n",
    "    column_number[column] = i\n",
    "    \n",
    "def to_number(x, dic):\n",
    "    return dic[x]\n",
    "\n",
    "train['type_num'] = train['type'].apply(lambda x: to_number(x, column_number))"
   ]
  },
  {
   "cell_type": "code",
   "execution_count": 144,
   "metadata": {
    "scrolled": false
   },
   "outputs": [],
   "source": [
    "# for column in train_test.columns[2:-1]:\n",
    "#     train_test = train_test.drop(index=train_test[(train_test[column] < -100) | (train_test[column] > 100)].index)\n",
    "\n",
    "# train_test = train_test.reset_index(drop=True)"
   ]
  },
  {
   "cell_type": "markdown",
   "metadata": {},
   "source": [
    "### Outlier 제거 후"
   ]
  },
  {
   "cell_type": "code",
   "execution_count": 33,
   "metadata": {
    "scrolled": true
   },
   "outputs": [
    {
     "data": {
      "text/plain": [
       "<matplotlib.axes._subplots.AxesSubplot at 0x7f5a6d484dd0>"
      ]
     },
     "execution_count": 33,
     "metadata": {},
     "output_type": "execute_result"
    },
    {
     "data": {
      "image/png": "[encoded data removed]",
      "text/plain": [
       "<Figure size 936x360 with 1 Axes>"
      ]
     },
     "metadata": {},
     "output_type": "display_data"
    }
   ],
   "source": [
    "sns.boxplot('type_num', 'psfMag_r', data=train)"
   ]
  },
  {
   "cell_type": "code",
   "execution_count": 16,
   "metadata": {},
   "outputs": [],
   "source": [
    "# train['isSKY'] = train['type'].apply(lambda x: 1 if x == 'SKY' else 0)\n",
    "# train['isSeRed'] = train['type'].apply(lambda x: 1 if x == 'SERENDIPITY_RED' else 0)\n",
    "# train['isQSO'] = train['type'].apply(lambda x: 1 if x == 'QSO' else 0)\n",
    "# train['isWhiteDwarf'] = train['type'].apply(lambda x: 1 if x == 'STAR_WHITE_DWARF' else 0)\n",
    "# train['isDesc'] = train['type'].apply(lambda x: 1 if x in ['SERENDIPITY_FIRST','SERENDIPITY_MANUAL','STAR_CATY_VAR','STAR_SUB_DWARF'] else 0)"
   ]
  },
  {
   "cell_type": "markdown",
   "metadata": {},
   "source": [
    "# 각 Type의 데이터 개수 분포 확인"
   ]
  },
  {
   "cell_type": "code",
   "execution_count": 17,
   "metadata": {
    "scrolled": true
   },
   "outputs": [],
   "source": [
    "value_dist = train['type'].value_counts()"
   ]
  },
  {
   "cell_type": "code",
   "execution_count": 18,
   "metadata": {
    "scrolled": true
   },
   "outputs": [
    {
     "data": {
      "text/plain": [
       "QSO                    49666\n",
       "GALAXY                 37312\n",
       "SERENDIPITY_BLUE       21753\n",
       "SPECTROPHOTO_STD       14629\n",
       "REDDEN_STD             14616\n",
       "STAR_RED_DWARF         13749\n",
       "STAR_BHB               13493\n",
       "SERENDIPITY_FIRST       7130\n",
       "ROSAT_D                 6558\n",
       "STAR_CATY_VAR           6506\n",
       "SERENDIPITY_DISTANT     4653\n",
       "STAR_CARBON             3256\n",
       "SERENDIPITY_RED         2561\n",
       "STAR_WHITE_DWARF        2160\n",
       "STAR_SUB_DWARF          1154\n",
       "STAR_BROWN_DWARF         500\n",
       "SKY                      127\n",
       "SERENDIPITY_MANUAL        61\n",
       "STAR_PN                   13\n",
       "Name: type, dtype: int64"
      ]
     },
     "execution_count": 18,
     "metadata": {},
     "output_type": "execute_result"
    }
   ],
   "source": [
    "value_dist"
   ]
  },
  {
   "cell_type": "code",
   "execution_count": 19,
   "metadata": {
    "scrolled": true
   },
   "outputs": [
    {
     "data": {
      "text/plain": [
       "<BarContainer object of 19 artists>"
      ]
     },
     "execution_count": 19,
     "metadata": {},
     "output_type": "execute_result"
    },
    {
     "data": {
      "image/png": "[encoded data removed]",
      "text/plain": [
       "<Figure size 1440x360 with 1 Axes>"
      ]
     },
     "metadata": {},
     "output_type": "display_data"
    }
   ],
   "source": [
    "# 위의 type별 value_counts 도식화 표현\n",
    "fig = plt.figure(figsize=(20, 5))\n",
    "ax = plt.subplot(1, 1, 1)\n",
    "\n",
    "for label in ax.xaxis.get_ticklabels() :\n",
    "    label.set_rotation(45)\n",
    "\n",
    "ax.bar(value_dist.index, value_dist.values)"
   ]
  },
  {
   "cell_type": "code",
   "execution_count": 19,
   "metadata": {
    "scrolled": false
   },
   "outputs": [
    {
     "data": {
      "image/png": "[encoded data removed]",
      "text/plain": [
       "<Figure size 936x360 with 20 Axes>"
      ]
     },
     "metadata": {},
     "output_type": "display_data"
    }
   ],
   "source": [
    "# 데이터 개수가 아주 적은 category의 칼럼별 수치 분포도 boxplot() 도식화\n",
    "# 이 분포를 기준으로 random 난수 생성해서 데이터를 부풀려야할지는 나중에 정해야 함\n",
    "fig, ax = plt.subplots(4,5)\n",
    "idx_row = 0\n",
    "for idx, column in enumerate(train.columns[2:-1]):\n",
    "    sns.boxplot(train[train['type'] == 'STAR_PN'][column], ax=ax[idx_row,idx%5])\n",
    "    if idx%5 == 4:\n",
    "        idx_row += 1\n",
    "    \n",
    "fig.tight_layout()"
   ]
  },
  {
   "cell_type": "markdown",
   "metadata": {},
   "source": [
    "## 데이터가 가장 많은 QSO를 기준으로 49000여개로 데이터를 맞추기 위한 함수\n",
    "## 생략"
   ]
  },
  {
   "cell_type": "code",
   "execution_count": 21,
   "metadata": {},
   "outputs": [],
   "source": [
    "# def equalTypeNumber(df):\n",
    "#     dist_value = df['type'].value_counts()\n",
    "#     type_list = dist_value.index\n",
    "#     for idx, typeName in enumerate(type_list):\n",
    "#         if idx == 0:\n",
    "#             continue\n",
    "        \n",
    "#         # value_counts()의 결과를 토대로 데이터 개수가 가장 큰 QSO를 기준으로 한다.\n",
    "#         # 나머지 type에 대해 \n",
    "#         count = dist_value.values[0] % dist_value.values[idx]\n",
    "#         random_idx = random.sample(list(np.arange(0,len(df[df['type'] == typeName]),1)), count)\n",
    "#         sample_train = df.iloc[df[df['type'] == typeName].index[random_idx]]\n",
    "        \n",
    "#         duplicate = int(dist_value.values[0] / dist_value.values[idx])\n",
    "#         temp = df[df['type'] == typeName]\n",
    "        \n",
    "#         for i in range(duplicate - 1):\n",
    "#             tmp_idx1 = {original_idx : (new_idx + len(df)) for new_idx, original_idx in enumerate(temp.index)}\n",
    "#             temp.rename(index=tmp_idx1, inplace=True)\n",
    "#             df = df.append(temp)\n",
    "        \n",
    "#         tmp_idx2 = {original_idx : (new_idx + len(df)) for new_idx, original_idx in enumerate(sample_train.index)}\n",
    "#         sample_train.rename(index=tmp_idx2, inplace=True)\n",
    "#         df = df.append(sample_train)\n",
    "        \n",
    "#     return df"
   ]
  },
  {
   "cell_type": "code",
   "execution_count": 22,
   "metadata": {
    "scrolled": false
   },
   "outputs": [],
   "source": [
    "# train = equalTypeNumber(train)\n",
    "# train"
   ]
  },
  {
   "cell_type": "markdown",
   "metadata": {},
   "source": [
    "### 데이터 개수 동일화 결과 보기 - 생략"
   ]
  },
  {
   "cell_type": "code",
   "execution_count": 23,
   "metadata": {
    "scrolled": true
   },
   "outputs": [],
   "source": [
    "# value_dist = train['type'].value_counts()"
   ]
  },
  {
   "cell_type": "code",
   "execution_count": 24,
   "metadata": {
    "scrolled": false
   },
   "outputs": [],
   "source": [
    "# value_dist"
   ]
  },
  {
   "cell_type": "code",
   "execution_count": 25,
   "metadata": {
    "scrolled": false
   },
   "outputs": [],
   "source": [
    "# 동일화 한 이후로 그래프 표현\n",
    "\n",
    "# fig = plt.figure(figsize=(20, 5))\n",
    "# ax = plt.subplot(1, 1, 1)\n",
    "\n",
    "# for label in ax.xaxis.get_ticklabels() :\n",
    "#     label.set_rotation(45)\n",
    "\n",
    "# ax.bar(value_dist.index, value_dist.values)"
   ]
  },
  {
   "cell_type": "markdown",
   "metadata": {},
   "source": [
    "# Test Set 확인"
   ]
  },
  {
   "cell_type": "markdown",
   "metadata": {},
   "source": [
    "## Test set 결측치 확인"
   ]
  },
  {
   "cell_type": "code",
   "execution_count": 20,
   "metadata": {
    "scrolled": true
   },
   "outputs": [
    {
     "name": "stdout",
     "output_type": "stream",
     "text": [
      "<class 'pandas.core.frame.DataFrame'>\n",
      "Int64Index: 10009 entries, 199991 to 209999\n",
      "Data columns (total 21 columns):\n",
      "fiberID       10009 non-null int64\n",
      "psfMag_u      10009 non-null float64\n",
      "psfMag_g      10009 non-null float64\n",
      "psfMag_r      10009 non-null float64\n",
      "psfMag_i      10009 non-null float64\n",
      "psfMag_z      10009 non-null float64\n",
      "fiberMag_u    10009 non-null float64\n",
      "fiberMag_g    10009 non-null float64\n",
      "fiberMag_r    10009 non-null float64\n",
      "fiberMag_i    10009 non-null float64\n",
      "fiberMag_z    10009 non-null float64\n",
      "petroMag_u    10009 non-null float64\n",
      "petroMag_g    10009 non-null float64\n",
      "petroMag_r    10009 non-null float64\n",
      "petroMag_i    10009 non-null float64\n",
      "petroMag_z    10009 non-null float64\n",
      "modelMag_u    10009 non-null float64\n",
      "modelMag_g    10009 non-null float64\n",
      "modelMag_r    10009 non-null float64\n",
      "modelMag_i    10009 non-null float64\n",
      "modelMag_z    10009 non-null float64\n",
      "dtypes: float64(20), int64(1)\n",
      "memory usage: 1.7 MB\n"
     ]
    }
   ],
   "source": [
    "test.info()"
   ]
  },
  {
   "cell_type": "markdown",
   "metadata": {},
   "source": [
    "## Test Set boxplot 그래프로 데이터 분포 확인"
   ]
  },
  {
   "cell_type": "code",
   "execution_count": 60,
   "metadata": {},
   "outputs": [
    {
     "data": {
      "image/png": "[encoded data removed]",
      "text/plain": [
       "<Figure size 864x576 with 10 Axes>"
      ]
     },
     "metadata": {},
     "output_type": "display_data"
    }
   ],
   "source": [
    "# 함수로 칼럼별 그래프 그리는 코드 구성하기\n",
    "column_list = ['psfMag_u','psfMag_g','psfMag_r','psfMag_i','psfMag_z']\n",
    "fig, ax = plt.subplots(5,2, figsize=(12,8))\n",
    "for idx, column in enumerate(column_list):\n",
    "    sns.boxplot(train[column], ax=ax[idx,0])\n",
    "    sns.boxplot(test[column], ax=ax[idx,1])\n",
    "    \n",
    "fig.tight_layout()"
   ]
  },
  {
   "cell_type": "code",
   "execution_count": 54,
   "metadata": {},
   "outputs": [
    {
     "data": {
      "image/png": "[encoded data removed]",
      "text/plain": [
       "<Figure size 864x576 with 10 Axes>"
      ]
     },
     "metadata": {},
     "output_type": "display_data"
    }
   ],
   "source": [
    "# 함수로 칼럼별 그래프 그리는 코드 구성하기\n",
    "column_list = ['fiberMag_u','fiberMag_g','fiberMag_r','fiberMag_i','fiberMag_z']\n",
    "fig, ax = plt.subplots(5,2, figsize=(12,8))\n",
    "for idx, column in enumerate(column_list):\n",
    "    sns.boxplot(train[column], ax=ax[idx,0])\n",
    "    sns.boxplot(test[column], ax=ax[idx,1])\n",
    "    \n",
    "fig.tight_layout()"
   ]
  },
  {
   "cell_type": "code",
   "execution_count": 55,
   "metadata": {},
   "outputs": [
    {
     "data": {
      "image/png": "[encoded data removed]",
      "text/plain": [
       "<Figure size 864x576 with 10 Axes>"
      ]
     },
     "metadata": {},
     "output_type": "display_data"
    }
   ],
   "source": [
    "# 함수로 칼럼별 그래프 그리는 코드 구성하기\n",
    "column_list = ['petroMag_u','petroMag_g','petroMag_r','petroMag_i','petroMag_z']\n",
    "fig, ax = plt.subplots(5,2, figsize=(12,8))\n",
    "for idx, column in enumerate(column_list):\n",
    "    sns.boxplot(train[column], ax=ax[idx,0])\n",
    "    sns.boxplot(test[column], ax=ax[idx,1])\n",
    "    \n",
    "fig.tight_layout()"
   ]
  },
  {
   "cell_type": "code",
   "execution_count": 36,
   "metadata": {},
   "outputs": [
    {
     "data": {
      "image/png": "[encoded data removed]",
      "text/plain": [
       "<Figure size 864x576 with 10 Axes>"
      ]
     },
     "metadata": {},
     "output_type": "display_data"
    }
   ],
   "source": [
    "# 함수로 칼럼별 그래프 그리는 코드 구성하기\n",
    "column_list = ['modelMag_u','modelMag_g','modelMag_r','modelMag_i','modelMag_z']\n",
    "fig, ax = plt.subplots(5,2, figsize=(12,8))\n",
    "for idx, column in enumerate(column_list):\n",
    "    sns.boxplot(train[column], ax=ax[idx,0])\n",
    "    sns.boxplot(test[column], ax=ax[idx,1])\n",
    "    \n",
    "fig.tight_layout()"
   ]
  },
  {
   "cell_type": "markdown",
   "metadata": {},
   "source": [
    "# >> Model 돌리기 전 준비"
   ]
  },
  {
   "cell_type": "code",
   "execution_count": 154,
   "metadata": {
    "scrolled": true
   },
   "outputs": [
    {
     "data": {
      "text/html": [
       "<div>\n",
       "<style scoped>\n",
       "    .dataframe tbody tr th:only-of-type {\n",
       "        vertical-align: middle;\n",
       "    }\n",
       "\n",
       "    .dataframe tbody tr th {\n",
       "        vertical-align: top;\n",
       "    }\n",
       "\n",
       "    .dataframe thead th {\n",
       "        text-align: right;\n",
       "    }\n",
       "</style>\n",
       "<table border=\"1\" class=\"dataframe\">\n",
       "  <thead>\n",
       "    <tr style=\"text-align: right;\">\n",
       "      <th></th>\n",
       "      <th>type</th>\n",
       "      <th>fiberID</th>\n",
       "      <th>psfMag_u</th>\n",
       "      <th>psfMag_g</th>\n",
       "      <th>psfMag_r</th>\n",
       "      <th>psfMag_i</th>\n",
       "      <th>psfMag_z</th>\n",
       "      <th>fiberMag_u</th>\n",
       "      <th>fiberMag_g</th>\n",
       "      <th>fiberMag_r</th>\n",
       "      <th>...</th>\n",
       "      <th>petroMag_z</th>\n",
       "      <th>modelMag_u</th>\n",
       "      <th>modelMag_g</th>\n",
       "      <th>modelMag_r</th>\n",
       "      <th>modelMag_i</th>\n",
       "      <th>modelMag_z</th>\n",
       "      <th>type_num</th>\n",
       "      <th>xgb_weight</th>\n",
       "      <th>cat_weight</th>\n",
       "      <th>light_weight</th>\n",
       "    </tr>\n",
       "  </thead>\n",
       "  <tbody>\n",
       "    <tr>\n",
       "      <td>0</td>\n",
       "      <td>QSO</td>\n",
       "      <td>601</td>\n",
       "      <td>23.198224</td>\n",
       "      <td>21.431953</td>\n",
       "      <td>21.314148</td>\n",
       "      <td>21.176553</td>\n",
       "      <td>21.171444</td>\n",
       "      <td>22.581309</td>\n",
       "      <td>21.644453</td>\n",
       "      <td>21.657571</td>\n",
       "      <td>...</td>\n",
       "      <td>20.422446</td>\n",
       "      <td>22.749241</td>\n",
       "      <td>21.465534</td>\n",
       "      <td>21.364187</td>\n",
       "      <td>21.020605</td>\n",
       "      <td>21.147340</td>\n",
       "      <td>8</td>\n",
       "      <td>21.127592</td>\n",
       "      <td>19.998895</td>\n",
       "      <td>19.795851</td>\n",
       "    </tr>\n",
       "    <tr>\n",
       "      <td>1</td>\n",
       "      <td>QSO</td>\n",
       "      <td>788</td>\n",
       "      <td>21.431355</td>\n",
       "      <td>20.708104</td>\n",
       "      <td>20.678850</td>\n",
       "      <td>20.703420</td>\n",
       "      <td>20.473229</td>\n",
       "      <td>21.868797</td>\n",
       "      <td>21.029773</td>\n",
       "      <td>20.967054</td>\n",
       "      <td>...</td>\n",
       "      <td>20.646660</td>\n",
       "      <td>21.492955</td>\n",
       "      <td>20.758527</td>\n",
       "      <td>20.753925</td>\n",
       "      <td>20.693389</td>\n",
       "      <td>20.512314</td>\n",
       "      <td>8</td>\n",
       "      <td>20.430875</td>\n",
       "      <td>19.268012</td>\n",
       "      <td>19.158808</td>\n",
       "    </tr>\n",
       "    <tr>\n",
       "      <td>2</td>\n",
       "      <td>QSO</td>\n",
       "      <td>427</td>\n",
       "      <td>17.851451</td>\n",
       "      <td>16.727898</td>\n",
       "      <td>16.679677</td>\n",
       "      <td>16.694640</td>\n",
       "      <td>16.641788</td>\n",
       "      <td>18.171890</td>\n",
       "      <td>17.033098</td>\n",
       "      <td>16.999682</td>\n",
       "      <td>...</td>\n",
       "      <td>16.808006</td>\n",
       "      <td>17.818063</td>\n",
       "      <td>16.697434</td>\n",
       "      <td>16.641249</td>\n",
       "      <td>16.660177</td>\n",
       "      <td>16.688928</td>\n",
       "      <td>8</td>\n",
       "      <td>16.598349</td>\n",
       "      <td>15.714487</td>\n",
       "      <td>15.606215</td>\n",
       "    </tr>\n",
       "    <tr>\n",
       "      <td>3</td>\n",
       "      <td>QSO</td>\n",
       "      <td>864</td>\n",
       "      <td>20.789900</td>\n",
       "      <td>20.040371</td>\n",
       "      <td>19.926909</td>\n",
       "      <td>19.843840</td>\n",
       "      <td>19.463270</td>\n",
       "      <td>21.039030</td>\n",
       "      <td>20.317165</td>\n",
       "      <td>20.217898</td>\n",
       "      <td>...</td>\n",
       "      <td>19.455117</td>\n",
       "      <td>20.770711</td>\n",
       "      <td>20.001699</td>\n",
       "      <td>19.889798</td>\n",
       "      <td>19.758113</td>\n",
       "      <td>19.552855</td>\n",
       "      <td>8</td>\n",
       "      <td>19.609192</td>\n",
       "      <td>18.485342</td>\n",
       "      <td>18.368471</td>\n",
       "    </tr>\n",
       "    <tr>\n",
       "      <td>4</td>\n",
       "      <td>STAR_RED_DWARF</td>\n",
       "      <td>612</td>\n",
       "      <td>26.454969</td>\n",
       "      <td>23.058767</td>\n",
       "      <td>21.471406</td>\n",
       "      <td>19.504961</td>\n",
       "      <td>18.389096</td>\n",
       "      <td>25.700632</td>\n",
       "      <td>23.629122</td>\n",
       "      <td>21.742750</td>\n",
       "      <td>...</td>\n",
       "      <td>18.376141</td>\n",
       "      <td>24.877052</td>\n",
       "      <td>23.147993</td>\n",
       "      <td>21.475342</td>\n",
       "      <td>19.487330</td>\n",
       "      <td>18.375655</td>\n",
       "      <td>10</td>\n",
       "      <td>21.020033</td>\n",
       "      <td>20.187512</td>\n",
       "      <td>19.968629</td>\n",
       "    </tr>\n",
       "  </tbody>\n",
       "</table>\n",
       "<p>5 rows × 26 columns</p>\n",
       "</div>"
      ],
      "text/plain": [
       "             type  fiberID   psfMag_u   psfMag_g   psfMag_r   psfMag_i  \\\n",
       "0             QSO      601  23.198224  21.431953  21.314148  21.176553   \n",
       "1             QSO      788  21.431355  20.708104  20.678850  20.703420   \n",
       "2             QSO      427  17.851451  16.727898  16.679677  16.694640   \n",
       "3             QSO      864  20.789900  20.040371  19.926909  19.843840   \n",
       "4  STAR_RED_DWARF      612  26.454969  23.058767  21.471406  19.504961   \n",
       "\n",
       "    psfMag_z  fiberMag_u  fiberMag_g  fiberMag_r  ...  petroMag_z  modelMag_u  \\\n",
       "0  21.171444   22.581309   21.644453   21.657571  ...   20.422446   22.749241   \n",
       "1  20.473229   21.868797   21.029773   20.967054  ...   20.646660   21.492955   \n",
       "2  16.641788   18.171890   17.033098   16.999682  ...   16.808006   17.818063   \n",
       "3  19.463270   21.039030   20.317165   20.217898  ...   19.455117   20.770711   \n",
       "4  18.389096   25.700632   23.629122   21.742750  ...   18.376141   24.877052   \n",
       "\n",
       "   modelMag_g  modelMag_r  modelMag_i  modelMag_z  type_num  xgb_weight  \\\n",
       "0   21.465534   21.364187   21.020605   21.147340         8   21.127592   \n",
       "1   20.758527   20.753925   20.693389   20.512314         8   20.430875   \n",
       "2   16.697434   16.641249   16.660177   16.688928         8   16.598349   \n",
       "3   20.001699   19.889798   19.758113   19.552855         8   19.609192   \n",
       "4   23.147993   21.475342   19.487330   18.375655        10   21.020033   \n",
       "\n",
       "   cat_weight  light_weight  \n",
       "0   19.998895     19.795851  \n",
       "1   19.268012     19.158808  \n",
       "2   15.714487     15.606215  \n",
       "3   18.485342     18.368471  \n",
       "4   20.187512     19.968629  \n",
       "\n",
       "[5 rows x 26 columns]"
      ]
     },
     "execution_count": 154,
     "metadata": {},
     "output_type": "execute_result"
    }
   ],
   "source": [
    "train.head()"
   ]
  },
  {
   "cell_type": "code",
   "execution_count": 11,
   "metadata": {},
   "outputs": [],
   "source": [
    "# train set 정답지, 문제지 / test set 설정\n",
    "train_X = train.drop(columns=['type', 'type_num'], axis=1)\n",
    "train_y = train['type_num']\n",
    "test_x = test"
   ]
  },
  {
   "cell_type": "code",
   "execution_count": null,
   "metadata": {},
   "outputs": [],
   "source": [
    "# column_number = {}\n",
    "# for i, column in enumerate(sample_submission.columns):\n",
    "#     column_number[column] = i\n",
    "    \n",
    "# def to_number(x, dic):\n",
    "#     return dic[x]\n",
    "\n",
    "# train_test['type_num'] = train_test['type'].apply(lambda x: to_number(x, column_number))"
   ]
  },
  {
   "cell_type": "code",
   "execution_count": 149,
   "metadata": {},
   "outputs": [],
   "source": [
    "# # train set 정답지, 문제지 / test set 설정\n",
    "# train_X = train_test.drop(columns=['type', 'type_num'], axis=1)\n",
    "# train_y = train_test['type_num']\n",
    "# test_x = test"
   ]
  },
  {
   "cell_type": "code",
   "execution_count": 12,
   "metadata": {
    "scrolled": true
   },
   "outputs": [
    {
     "name": "stdout",
     "output_type": "stream",
     "text": [
      "(199880, 21)\n",
      "(199880,)\n",
      "(10009, 21)\n"
     ]
    }
   ],
   "source": [
    "print(train_X.shape)\n",
    "print(train_y.shape)\n",
    "print(test_x.shape)"
   ]
  },
  {
   "cell_type": "markdown",
   "metadata": {},
   "source": [
    "### Validation을 위한 train set split"
   ]
  },
  {
   "cell_type": "code",
   "execution_count": 45,
   "metadata": {},
   "outputs": [],
   "source": [
    "X_train, X_test, y_train, y_test = train_test_split(train_X, \n",
    "                                                    train_y, \n",
    "                                                    stratify = train_y,\n",
    "                                                    test_size=0.2, \n",
    "                                                    random_state=1234)"
   ]
  },
  {
   "cell_type": "markdown",
   "metadata": {},
   "source": [
    "### stratifiedKFold or KFold 사용 (데이터 정답지의 개수 분포를 보고 결정)"
   ]
  },
  {
   "cell_type": "code",
   "execution_count": 170,
   "metadata": {},
   "outputs": [],
   "source": [
    "# kfold = KFold(n_splits=6, random_state= 0, shuffle = True)\n",
    "kfold_s = StratifiedKFold(n_splits=7, random_state= 0, shuffle = True)"
   ]
  },
  {
   "cell_type": "markdown",
   "metadata": {},
   "source": [
    "# >> Model 돌리기"
   ]
  },
  {
   "cell_type": "markdown",
   "metadata": {},
   "source": [
    "### 모델 관련 library import"
   ]
  },
  {
   "cell_type": "code",
   "execution_count": 13,
   "metadata": {},
   "outputs": [],
   "source": [
    "import xgboost as xgb\n",
    "from xgboost import XGBClassifier\n",
    "# from sklearn.neighbors import KNeighborsClassifier\n",
    "# from sklearn.ensemble import RandomForestClassifier, RandomForestRegressor\n",
    "import catboost as catb\n",
    "from catboost import CatBoostClassifier\n",
    "import lightgbm\n",
    "from lightgbm import LGBMClassifier"
   ]
  },
  {
   "cell_type": "code",
   "execution_count": null,
   "metadata": {},
   "outputs": [],
   "source": [
    "# K-Nearest Neighbors Model\n",
    "# knn = KNeighborsClassifier(n_neighbors=20, weights='distance', n_jobs=-1)"
   ]
  },
  {
   "cell_type": "code",
   "execution_count": null,
   "metadata": {},
   "outputs": [],
   "source": [
    "# Random Forest Model\n",
    "# RF_cif = RandomForestClassifier(n_estimators=500, max_features=6, random_state=1234)"
   ]
  },
  {
   "cell_type": "code",
   "execution_count": 16,
   "metadata": {},
   "outputs": [],
   "source": [
    "# LGB = LGBMClassifier(random_state =1234, n_jobs = -1)"
   ]
  },
  {
   "cell_type": "code",
   "execution_count": null,
   "metadata": {},
   "outputs": [],
   "source": [
    "# LGBM parameter tuning\n",
    "# LGB = LGBMClassifier(random_state =1234, \n",
    "#                      n_jobs = -1,\n",
    "#                      devices='gpu')\n",
    "\n",
    "# lb_param_grid = {\n",
    "#     'learning_rate' : np.arange(0.1,0.15,0.01),\n",
    "#     'num_iterations' : [200],\n",
    "#     'max_bin' : [300],\n",
    "#     'num_leaves':[90],\n",
    "#     'max_depth' : [6,7,8],\n",
    "#     'min_child_weight': [0.1],\n",
    "#     'min_split_gain':[0.3]\n",
    "#     'device_type'=['gpu']\n",
    "#     'num_boost_round' : [1000]\n",
    "#}"
   ]
  },
  {
   "cell_type": "code",
   "execution_count": 14,
   "metadata": {},
   "outputs": [],
   "source": [
    "#XGboost Model\n",
    "XGBC = XGBClassifier(tree_method='gpu_hist', gpu_id=0, random_state=1234)"
   ]
  },
  {
   "cell_type": "code",
   "execution_count": 168,
   "metadata": {},
   "outputs": [],
   "source": [
    "#XGBoost parameter tuning\n",
    "\n",
    "xgc_param_grid = {\n",
    "    'n_estimators':[200] ,\n",
    "    'learning_rate' : [0.1],\n",
    "    #'eta': np.arange(0,0.3,0.1),\n",
    "    #'min_child_weight' : np.arange(4,7,1),\n",
    "    'max_depth' : [9]             \n",
    "}"
   ]
  },
  {
   "cell_type": "code",
   "execution_count": 171,
   "metadata": {},
   "outputs": [],
   "source": [
    "n_iter_search = 10\n",
    "xgv = RandomizedSearchCV(XGBC, \n",
    "                         xgc_param_grid, \n",
    "                             cv=kfold_s,\n",
    "                             n_jobs=-1,\n",
    "                             random_state=1234,\n",
    "                             scoring='neg_log_loss',\n",
    "                            n_iter=n_iter_search)"
   ]
  },
  {
   "cell_type": "code",
   "execution_count": 172,
   "metadata": {
    "scrolled": true
   },
   "outputs": [
    {
     "name": "stderr",
     "output_type": "stream",
     "text": [
      "/home/g21300602/anaconda3/lib/python3.7/site-packages/sklearn/model_selection/_search.py:266: UserWarning: The total space of parameters 1 is smaller than n_iter=10. Running 1 iterations. For exhaustive searches, use GridSearchCV.\n",
      "  % (grid_size, self.n_iter, grid_size), UserWarning)\n"
     ]
    },
    {
     "data": {
      "text/plain": [
       "RandomizedSearchCV(cv=StratifiedKFold(n_splits=7, random_state=0, shuffle=True),\n",
       "                   error_score='raise-deprecating',\n",
       "                   estimator=XGBClassifier(base_score=0.5, booster='gbtree',\n",
       "                                           colsample_bylevel=1,\n",
       "                                           colsample_bynode=1,\n",
       "                                           colsample_bytree=1, gamma=0,\n",
       "                                           gpu_id=0, learning_rate=0.1,\n",
       "                                           max_delta_step=0, max_depth=3,\n",
       "                                           min_child_weight=1, missing=None,\n",
       "                                           n_estimators=100, n_jobs=1,\n",
       "                                           nthr...\n",
       "                                           random_state=1234, reg_alpha=0,\n",
       "                                           reg_lambda=1, scale_pos_weight=1,\n",
       "                                           seed=None, silent=None, subsample=1,\n",
       "                                           tree_method='gpu_hist',\n",
       "                                           verbosity=1),\n",
       "                   iid='warn', n_iter=10, n_jobs=-1,\n",
       "                   param_distributions={'learning_rate': [0.1],\n",
       "                                        'max_depth': [9],\n",
       "                                        'n_estimators': [200]},\n",
       "                   pre_dispatch='2*n_jobs', random_state=1234, refit=True,\n",
       "                   return_train_score=False, scoring='neg_log_loss', verbose=0)"
      ]
     },
     "execution_count": 172,
     "metadata": {},
     "output_type": "execute_result"
    }
   ],
   "source": [
    "xgv.fit(train_X, train_y, verbose=True)"
   ]
  },
  {
   "cell_type": "code",
   "execution_count": 173,
   "metadata": {},
   "outputs": [
    {
     "data": {
      "text/plain": [
       "{'n_estimators': 200, 'max_depth': 9, 'learning_rate': 0.1}"
      ]
     },
     "execution_count": 173,
     "metadata": {},
     "output_type": "execute_result"
    }
   ],
   "source": [
    "xgv.best_params_"
   ]
  },
  {
   "cell_type": "code",
   "execution_count": 174,
   "metadata": {},
   "outputs": [
    {
     "data": {
      "text/plain": [
       "-0.36515120082735936"
      ]
     },
     "execution_count": 174,
     "metadata": {},
     "output_type": "execute_result"
    }
   ],
   "source": [
    "xgv.best_score_"
   ]
  },
  {
   "cell_type": "markdown",
   "metadata": {},
   "source": [
    "{'bagging_fraction': 0.5, 'feature_fraction': 0.1, 'lambda_l1': 0.1, 'lambda_l2': 0.2, 'max_depth': 4.0, 'min_child_weight': 0.1, 'min_split_gain': 0.3, 'num_leaves': 80.0}"
   ]
  },
  {
   "cell_type": "markdown",
   "metadata": {},
   "source": [
    "- Randomized Search"
   ]
  },
  {
   "cell_type": "code",
   "execution_count": null,
   "metadata": {
    "scrolled": true
   },
   "outputs": [
    {
     "name": "stderr",
     "output_type": "stream",
     "text": [
      "/home/g21300602/anaconda3/lib/python3.7/site-packages/lightgbm/engine.py:148: UserWarning: Found `num_iterations` in params. Will use it instead of argument\n",
      "  warnings.warn(\"Found `{}` in params. Will use it instead of argument\".format(alias))\n",
      "/home/g21300602/anaconda3/lib/python3.7/site-packages/lightgbm/engine.py:148: UserWarning: Found `num_iterations` in params. Will use it instead of argument\n",
      "  warnings.warn(\"Found `{}` in params. Will use it instead of argument\".format(alias))\n",
      "/home/g21300602/anaconda3/lib/python3.7/site-packages/lightgbm/engine.py:148: UserWarning: Found `num_iterations` in params. Will use it instead of argument\n",
      "  warnings.warn(\"Found `{}` in params. Will use it instead of argument\".format(alias))\n",
      "/home/g21300602/anaconda3/lib/python3.7/site-packages/lightgbm/engine.py:148: UserWarning: Found `num_iterations` in params. Will use it instead of argument\n",
      "  warnings.warn(\"Found `{}` in params. Will use it instead of argument\".format(alias))\n",
      "/home/g21300602/anaconda3/lib/python3.7/site-packages/lightgbm/engine.py:148: UserWarning: Found `num_iterations` in params. Will use it instead of argument\n",
      "  warnings.warn(\"Found `{}` in params. Will use it instead of argument\".format(alias))\n",
      "/home/g21300602/anaconda3/lib/python3.7/site-packages/lightgbm/engine.py:148: UserWarning: Found `num_iterations` in params. Will use it instead of argument\n",
      "  warnings.warn(\"Found `{}` in params. Will use it instead of argument\".format(alias))\n",
      "/home/g21300602/anaconda3/lib/python3.7/site-packages/lightgbm/engine.py:148: UserWarning: Found `num_iterations` in params. Will use it instead of argument\n",
      "  warnings.warn(\"Found `{}` in params. Will use it instead of argument\".format(alias))\n",
      "/home/g21300602/anaconda3/lib/python3.7/site-packages/lightgbm/engine.py:148: UserWarning: Found `num_iterations` in params. Will use it instead of argument\n",
      "  warnings.warn(\"Found `{}` in params. Will use it instead of argument\".format(alias))\n",
      "/home/g21300602/anaconda3/lib/python3.7/site-packages/lightgbm/engine.py:148: UserWarning: Found `num_iterations` in params. Will use it instead of argument\n",
      "  warnings.warn(\"Found `{}` in params. Will use it instead of argument\".format(alias))\n",
      "/home/g21300602/anaconda3/lib/python3.7/site-packages/lightgbm/engine.py:148: UserWarning: Found `num_iterations` in params. Will use it instead of argument\n",
      "  warnings.warn(\"Found `{}` in params. Will use it instead of argument\".format(alias))\n",
      "/home/g21300602/anaconda3/lib/python3.7/site-packages/lightgbm/engine.py:148: UserWarning: Found `num_iterations` in params. Will use it instead of argument\n",
      "  warnings.warn(\"Found `{}` in params. Will use it instead of argument\".format(alias))\n",
      "/home/g21300602/anaconda3/lib/python3.7/site-packages/lightgbm/engine.py:148: UserWarning: Found `num_iterations` in params. Will use it instead of argument\n",
      "  warnings.warn(\"Found `{}` in params. Will use it instead of argument\".format(alias))\n",
      "/home/g21300602/anaconda3/lib/python3.7/site-packages/lightgbm/engine.py:148: UserWarning: Found `num_iterations` in params. Will use it instead of argument\n",
      "  warnings.warn(\"Found `{}` in params. Will use it instead of argument\".format(alias))\n",
      "/home/g21300602/anaconda3/lib/python3.7/site-packages/lightgbm/engine.py:148: UserWarning: Found `num_iterations` in params. Will use it instead of argument\n",
      "  warnings.warn(\"Found `{}` in params. Will use it instead of argument\".format(alias))\n",
      "/home/g21300602/anaconda3/lib/python3.7/site-packages/lightgbm/engine.py:148: UserWarning: Found `num_iterations` in params. Will use it instead of argument\n",
      "  warnings.warn(\"Found `{}` in params. Will use it instead of argument\".format(alias))\n",
      "/home/g21300602/anaconda3/lib/python3.7/site-packages/lightgbm/engine.py:148: UserWarning: Found `num_iterations` in params. Will use it instead of argument\n",
      "  warnings.warn(\"Found `{}` in params. Will use it instead of argument\".format(alias))\n",
      "/home/g21300602/anaconda3/lib/python3.7/site-packages/lightgbm/engine.py:148: UserWarning: Found `num_iterations` in params. Will use it instead of argument\n",
      "  warnings.warn(\"Found `{}` in params. Will use it instead of argument\".format(alias))\n",
      "/home/g21300602/anaconda3/lib/python3.7/site-packages/lightgbm/engine.py:148: UserWarning: Found `num_iterations` in params. Will use it instead of argument\n",
      "  warnings.warn(\"Found `{}` in params. Will use it instead of argument\".format(alias))\n",
      "/home/g21300602/anaconda3/lib/python3.7/site-packages/lightgbm/engine.py:148: UserWarning: Found `num_iterations` in params. Will use it instead of argument\n",
      "  warnings.warn(\"Found `{}` in params. Will use it instead of argument\".format(alias))\n",
      "/home/g21300602/anaconda3/lib/python3.7/site-packages/lightgbm/engine.py:148: UserWarning: Found `num_iterations` in params. Will use it instead of argument\n",
      "  warnings.warn(\"Found `{}` in params. Will use it instead of argument\".format(alias))\n",
      "/home/g21300602/anaconda3/lib/python3.7/site-packages/lightgbm/engine.py:148: UserWarning: Found `num_iterations` in params. Will use it instead of argument\n",
      "  warnings.warn(\"Found `{}` in params. Will use it instead of argument\".format(alias))\n",
      "/home/g21300602/anaconda3/lib/python3.7/site-packages/lightgbm/engine.py:148: UserWarning: Found `num_iterations` in params. Will use it instead of argument\n",
      "  warnings.warn(\"Found `{}` in params. Will use it instead of argument\".format(alias))\n",
      "/home/g21300602/anaconda3/lib/python3.7/site-packages/lightgbm/engine.py:148: UserWarning: Found `num_iterations` in params. Will use it instead of argument\n",
      "  warnings.warn(\"Found `{}` in params. Will use it instead of argument\".format(alias))\n",
      "/home/g21300602/anaconda3/lib/python3.7/site-packages/lightgbm/engine.py:148: UserWarning: Found `num_iterations` in params. Will use it instead of argument\n",
      "  warnings.warn(\"Found `{}` in params. Will use it instead of argument\".format(alias))\n",
      "/home/g21300602/anaconda3/lib/python3.7/site-packages/lightgbm/engine.py:148: UserWarning: Found `num_iterations` in params. Will use it instead of argument\n",
      "  warnings.warn(\"Found `{}` in params. Will use it instead of argument\".format(alias))\n",
      "/home/g21300602/anaconda3/lib/python3.7/site-packages/lightgbm/engine.py:148: UserWarning: Found `num_iterations` in params. Will use it instead of argument\n",
      "  warnings.warn(\"Found `{}` in params. Will use it instead of argument\".format(alias))\n",
      "/home/g21300602/anaconda3/lib/python3.7/site-packages/lightgbm/engine.py:148: UserWarning: Found `num_iterations` in params. Will use it instead of argument\n",
      "  warnings.warn(\"Found `{}` in params. Will use it instead of argument\".format(alias))\n",
      "/home/g21300602/anaconda3/lib/python3.7/site-packages/lightgbm/engine.py:148: UserWarning: Found `num_iterations` in params. Will use it instead of argument\n",
      "  warnings.warn(\"Found `{}` in params. Will use it instead of argument\".format(alias))\n",
      "/home/g21300602/anaconda3/lib/python3.7/site-packages/lightgbm/engine.py:148: UserWarning: Found `num_iterations` in params. Will use it instead of argument\n",
      "  warnings.warn(\"Found `{}` in params. Will use it instead of argument\".format(alias))\n",
      "/home/g21300602/anaconda3/lib/python3.7/site-packages/lightgbm/engine.py:148: UserWarning: Found `num_iterations` in params. Will use it instead of argument\n",
      "  warnings.warn(\"Found `{}` in params. Will use it instead of argument\".format(alias))\n",
      "/home/g21300602/anaconda3/lib/python3.7/site-packages/lightgbm/engine.py:148: UserWarning: Found `num_iterations` in params. Will use it instead of argument\n",
      "  warnings.warn(\"Found `{}` in params. Will use it instead of argument\".format(alias))\n",
      "/home/g21300602/anaconda3/lib/python3.7/site-packages/lightgbm/engine.py:148: UserWarning: Found `num_iterations` in params. Will use it instead of argument\n",
      "  warnings.warn(\"Found `{}` in params. Will use it instead of argument\".format(alias))\n",
      "/home/g21300602/anaconda3/lib/python3.7/site-packages/lightgbm/engine.py:148: UserWarning: Found `num_iterations` in params. Will use it instead of argument\n",
      "  warnings.warn(\"Found `{}` in params. Will use it instead of argument\".format(alias))\n",
      "/home/g21300602/anaconda3/lib/python3.7/site-packages/lightgbm/engine.py:148: UserWarning: Found `num_iterations` in params. Will use it instead of argument\n",
      "  warnings.warn(\"Found `{}` in params. Will use it instead of argument\".format(alias))\n"
     ]
    },
    {
     "name": "stderr",
     "output_type": "stream",
     "text": [
      "/home/g21300602/anaconda3/lib/python3.7/site-packages/lightgbm/engine.py:148: UserWarning: Found `num_iterations` in params. Will use it instead of argument\n",
      "  warnings.warn(\"Found `{}` in params. Will use it instead of argument\".format(alias))\n",
      "/home/g21300602/anaconda3/lib/python3.7/site-packages/lightgbm/engine.py:148: UserWarning: Found `num_iterations` in params. Will use it instead of argument\n",
      "  warnings.warn(\"Found `{}` in params. Will use it instead of argument\".format(alias))\n",
      "/home/g21300602/anaconda3/lib/python3.7/site-packages/lightgbm/engine.py:148: UserWarning: Found `num_iterations` in params. Will use it instead of argument\n",
      "  warnings.warn(\"Found `{}` in params. Will use it instead of argument\".format(alias))\n",
      "/home/g21300602/anaconda3/lib/python3.7/site-packages/lightgbm/engine.py:148: UserWarning: Found `num_iterations` in params. Will use it instead of argument\n",
      "  warnings.warn(\"Found `{}` in params. Will use it instead of argument\".format(alias))\n",
      "/home/g21300602/anaconda3/lib/python3.7/site-packages/lightgbm/engine.py:148: UserWarning: Found `num_iterations` in params. Will use it instead of argument\n",
      "  warnings.warn(\"Found `{}` in params. Will use it instead of argument\".format(alias))\n",
      "/home/g21300602/anaconda3/lib/python3.7/site-packages/lightgbm/engine.py:148: UserWarning: Found `num_iterations` in params. Will use it instead of argument\n",
      "  warnings.warn(\"Found `{}` in params. Will use it instead of argument\".format(alias))\n",
      "/home/g21300602/anaconda3/lib/python3.7/site-packages/lightgbm/engine.py:148: UserWarning: Found `num_iterations` in params. Will use it instead of argument\n",
      "  warnings.warn(\"Found `{}` in params. Will use it instead of argument\".format(alias))\n",
      "/home/g21300602/anaconda3/lib/python3.7/site-packages/lightgbm/engine.py:148: UserWarning: Found `num_iterations` in params. Will use it instead of argument\n",
      "  warnings.warn(\"Found `{}` in params. Will use it instead of argument\".format(alias))\n",
      "/home/g21300602/anaconda3/lib/python3.7/site-packages/lightgbm/engine.py:148: UserWarning: Found `num_iterations` in params. Will use it instead of argument\n",
      "  warnings.warn(\"Found `{}` in params. Will use it instead of argument\".format(alias))\n",
      "/home/g21300602/anaconda3/lib/python3.7/site-packages/lightgbm/engine.py:148: UserWarning: Found `num_iterations` in params. Will use it instead of argument\n",
      "  warnings.warn(\"Found `{}` in params. Will use it instead of argument\".format(alias))\n",
      "/home/g21300602/anaconda3/lib/python3.7/site-packages/lightgbm/engine.py:148: UserWarning: Found `num_iterations` in params. Will use it instead of argument\n",
      "  warnings.warn(\"Found `{}` in params. Will use it instead of argument\".format(alias))\n",
      "/home/g21300602/anaconda3/lib/python3.7/site-packages/lightgbm/engine.py:148: UserWarning: Found `num_iterations` in params. Will use it instead of argument\n",
      "  warnings.warn(\"Found `{}` in params. Will use it instead of argument\".format(alias))\n",
      "/home/g21300602/anaconda3/lib/python3.7/site-packages/lightgbm/engine.py:148: UserWarning: Found `num_iterations` in params. Will use it instead of argument\n",
      "  warnings.warn(\"Found `{}` in params. Will use it instead of argument\".format(alias))\n",
      "/home/g21300602/anaconda3/lib/python3.7/site-packages/lightgbm/engine.py:148: UserWarning: Found `num_iterations` in params. Will use it instead of argument\n",
      "  warnings.warn(\"Found `{}` in params. Will use it instead of argument\".format(alias))\n",
      "/home/g21300602/anaconda3/lib/python3.7/site-packages/lightgbm/engine.py:148: UserWarning: Found `num_iterations` in params. Will use it instead of argument\n",
      "  warnings.warn(\"Found `{}` in params. Will use it instead of argument\".format(alias))\n",
      "/home/g21300602/anaconda3/lib/python3.7/site-packages/lightgbm/engine.py:148: UserWarning: Found `num_iterations` in params. Will use it instead of argument\n",
      "  warnings.warn(\"Found `{}` in params. Will use it instead of argument\".format(alias))\n",
      "/home/g21300602/anaconda3/lib/python3.7/site-packages/lightgbm/engine.py:148: UserWarning: Found `num_iterations` in params. Will use it instead of argument\n",
      "  warnings.warn(\"Found `{}` in params. Will use it instead of argument\".format(alias))\n",
      "/home/g21300602/anaconda3/lib/python3.7/site-packages/lightgbm/engine.py:148: UserWarning: Found `num_iterations` in params. Will use it instead of argument\n",
      "  warnings.warn(\"Found `{}` in params. Will use it instead of argument\".format(alias))\n",
      "/home/g21300602/anaconda3/lib/python3.7/site-packages/lightgbm/engine.py:148: UserWarning: Found `num_iterations` in params. Will use it instead of argument\n",
      "  warnings.warn(\"Found `{}` in params. Will use it instead of argument\".format(alias))\n",
      "/home/g21300602/anaconda3/lib/python3.7/site-packages/lightgbm/engine.py:148: UserWarning: Found `num_iterations` in params. Will use it instead of argument\n",
      "  warnings.warn(\"Found `{}` in params. Will use it instead of argument\".format(alias))\n",
      "/home/g21300602/anaconda3/lib/python3.7/site-packages/lightgbm/engine.py:148: UserWarning: Found `num_iterations` in params. Will use it instead of argument\n",
      "  warnings.warn(\"Found `{}` in params. Will use it instead of argument\".format(alias))\n",
      "/home/g21300602/anaconda3/lib/python3.7/site-packages/lightgbm/engine.py:148: UserWarning: Found `num_iterations` in params. Will use it instead of argument\n",
      "  warnings.warn(\"Found `{}` in params. Will use it instead of argument\".format(alias))\n",
      "/home/g21300602/anaconda3/lib/python3.7/site-packages/lightgbm/engine.py:148: UserWarning: Found `num_iterations` in params. Will use it instead of argument\n",
      "  warnings.warn(\"Found `{}` in params. Will use it instead of argument\".format(alias))\n",
      "/home/g21300602/anaconda3/lib/python3.7/site-packages/lightgbm/engine.py:148: UserWarning: Found `num_iterations` in params. Will use it instead of argument\n",
      "  warnings.warn(\"Found `{}` in params. Will use it instead of argument\".format(alias))\n",
      "/home/g21300602/anaconda3/lib/python3.7/site-packages/lightgbm/engine.py:148: UserWarning: Found `num_iterations` in params. Will use it instead of argument\n",
      "  warnings.warn(\"Found `{}` in params. Will use it instead of argument\".format(alias))\n",
      "/home/g21300602/anaconda3/lib/python3.7/site-packages/lightgbm/engine.py:148: UserWarning: Found `num_iterations` in params. Will use it instead of argument\n",
      "  warnings.warn(\"Found `{}` in params. Will use it instead of argument\".format(alias))\n",
      "/home/g21300602/anaconda3/lib/python3.7/site-packages/lightgbm/engine.py:148: UserWarning: Found `num_iterations` in params. Will use it instead of argument\n",
      "  warnings.warn(\"Found `{}` in params. Will use it instead of argument\".format(alias))\n",
      "/home/g21300602/anaconda3/lib/python3.7/site-packages/lightgbm/engine.py:148: UserWarning: Found `num_iterations` in params. Will use it instead of argument\n",
      "  warnings.warn(\"Found `{}` in params. Will use it instead of argument\".format(alias))\n",
      "/home/g21300602/anaconda3/lib/python3.7/site-packages/lightgbm/engine.py:148: UserWarning: Found `num_iterations` in params. Will use it instead of argument\n",
      "  warnings.warn(\"Found `{}` in params. Will use it instead of argument\".format(alias))\n",
      "/home/g21300602/anaconda3/lib/python3.7/site-packages/lightgbm/engine.py:148: UserWarning: Found `num_iterations` in params. Will use it instead of argument\n",
      "  warnings.warn(\"Found `{}` in params. Will use it instead of argument\".format(alias))\n"
     ]
    }
   ],
   "source": [
    "n_iter_search = 10\n",
    "lgbm = RandomizedSearchCV(LGB, \n",
    "                         lb_param_grid, \n",
    "                             cv=kfold_s,\n",
    "                             n_jobs=-1,\n",
    "                             random_state=1234,\n",
    "                             scoring='neg_log_loss',\n",
    "                            n_iter=n_iter_search)\n",
    "lgbm.fit(train_X, train_y)"
   ]
  },
  {
   "cell_type": "code",
   "execution_count": 19,
   "metadata": {
    "scrolled": false
   },
   "outputs": [
    {
     "data": {
      "text/plain": [
       "-0.38997145350164925"
      ]
     },
     "execution_count": 19,
     "metadata": {},
     "output_type": "execute_result"
    }
   ],
   "source": [
    "lgbm.best_score_"
   ]
  },
  {
   "cell_type": "code",
   "execution_count": 20,
   "metadata": {
    "scrolled": true
   },
   "outputs": [
    {
     "data": {
      "text/plain": [
       "LGBMClassifier(boosting_type='gbdt', class_weight=None, colsample_bytree=1.0,\n",
       "               devices='gpu', importance_type='split', learning_rate=0.1,\n",
       "               max_bin=300, max_depth=8, min_child_samples=20,\n",
       "               min_child_weight=0.1, min_split_gain=0.3, n_estimators=100,\n",
       "               n_jobs=-1, num_leaves=90, objective=None, random_state=1234,\n",
       "               reg_alpha=0.0, reg_lambda=0.0, silent=True, subsample=1.0,\n",
       "               subsample_for_bin=200000, subsample_freq=0)"
      ]
     },
     "execution_count": 20,
     "metadata": {},
     "output_type": "execute_result"
    }
   ],
   "source": [
    "lgbm.best_estimator_"
   ]
  },
  {
   "cell_type": "code",
   "execution_count": 44,
   "metadata": {
    "scrolled": true
   },
   "outputs": [],
   "source": [
    "lgbm_best = lgbm.best_estimator_"
   ]
  },
  {
   "cell_type": "code",
   "execution_count": null,
   "metadata": {},
   "outputs": [],
   "source": [
    "# LGB = LGBMClassifier(learning_rate=0.1, \n",
    "#                      num_iterations =200, \n",
    "#                      max_bin=300, \n",
    "#                      num_leaves =256, \n",
    "#                      boosting='dart',\n",
    "#                      random_state=1234, \n",
    "#                      n_jobs = -1)"
   ]
  },
  {
   "cell_type": "markdown",
   "metadata": {},
   "source": [
    "### Cross Validation"
   ]
  },
  {
   "cell_type": "code",
   "execution_count": null,
   "metadata": {},
   "outputs": [],
   "source": [
    "log_loss = cross_val_score(RF_cif, X_train, y_train, cv=kfold_s, scoring='neg_log_loss')"
   ]
  },
  {
   "cell_type": "markdown",
   "metadata": {},
   "source": [
    "# >> Validation을 통해 모델 성능 확인"
   ]
  },
  {
   "cell_type": "code",
   "execution_count": 46,
   "metadata": {},
   "outputs": [],
   "source": [
    "# Test with Test Set\n",
    "y_pred = lgbm_best.predict(X_test)"
   ]
  },
  {
   "cell_type": "code",
   "execution_count": 47,
   "metadata": {
    "scrolled": true
   },
   "outputs": [
    {
     "data": {
      "text/plain": [
       "0.9105257891840512"
      ]
     },
     "execution_count": 47,
     "metadata": {},
     "output_type": "execute_result"
    }
   ],
   "source": [
    "accuracy_score(y_test, y_pred)"
   ]
  },
  {
   "cell_type": "code",
   "execution_count": 48,
   "metadata": {
    "scrolled": true
   },
   "outputs": [
    {
     "data": {
      "text/plain": [
       "array([[ 5],\n",
       "       [15],\n",
       "       [ 4],\n",
       "       ...,\n",
       "       [ 8],\n",
       "       [11],\n",
       "       [ 8]])"
      ]
     },
     "execution_count": 48,
     "metadata": {},
     "output_type": "execute_result"
    }
   ],
   "source": [
    "y_pred"
   ]
  },
  {
   "cell_type": "code",
   "execution_count": 48,
   "metadata": {},
   "outputs": [
    {
     "data": {
      "text/plain": [
       "30667      5\n",
       "103239    15\n",
       "50562      4\n",
       "129161     6\n",
       "159805     5\n",
       "          ..\n",
       "195079    18\n",
       "165249     8\n",
       "183755    11\n",
       "163341    11\n",
       "196364     8\n",
       "Name: type_num, Length: 39978, dtype: int64"
      ]
     },
     "execution_count": 48,
     "metadata": {},
     "output_type": "execute_result"
    }
   ],
   "source": [
    "y_test"
   ]
  },
  {
   "cell_type": "markdown",
   "metadata": {},
   "source": [
    "- CatBoost 사용시 list로 변환해주어야 한다."
   ]
  },
  {
   "cell_type": "code",
   "execution_count": 49,
   "metadata": {
    "scrolled": false
   },
   "outputs": [],
   "source": [
    "# catboost predict 결과가 이중 numpy.array형태로 되어있어서 \n",
    "# 벗겨서 list로 만드는 작업\n",
    "y_pred_list = []\n",
    "for i in y_pred:\n",
    "    y_pred_list.append(int(i))"
   ]
  },
  {
   "cell_type": "markdown",
   "metadata": {},
   "source": [
    "- CatBoost 이외의 알고리즘은 변환해줄 필요 없다."
   ]
  },
  {
   "cell_type": "code",
   "execution_count": 50,
   "metadata": {},
   "outputs": [],
   "source": [
    "category = {}\n",
    "for i, column in enumerate(sample_submission.columns):\n",
    "    category[i] = column"
   ]
  },
  {
   "cell_type": "code",
   "execution_count": 51,
   "metadata": {
    "scrolled": true
   },
   "outputs": [
    {
     "name": "stdout",
     "output_type": "stream",
     "text": [
      "\u001b[1m\u001b[31mcategory0\tSTAR_WHITE_DWARF : 0.6597222222222222\u001b[0m\n",
      "category 1 \tSTAR_CATY_VAR : 0.9684857801691007\n",
      "category 2 \tSTAR_BROWN_DWARF : 0.88\n",
      "category 3 \tSERENDIPITY_RED : 0.94921875\n",
      "category 4 \tREDDEN_STD : 0.9798152582962709\n",
      "category 5 \tSTAR_BHB : 0.8999629492404594\n",
      "category 6 \tGALAXY : 0.98900951615065\n",
      "\u001b[1m\u001b[31mcategory7\tSERENDIPITY_DISTANT : 0.7089151450053706\u001b[0m\n",
      "category 8 \tQSO : 0.9097956307258633\n",
      "category 9 \tSKY : 0.96\n",
      "category 10 \tSTAR_RED_DWARF : 0.9894545454545455\n",
      "\u001b[1m\u001b[31mcategory11\tROSAT_D : 0.38443935926773454\u001b[0m\n",
      "\u001b[1m\u001b[31mcategory12\tSTAR_PN : 0.6666666666666666\u001b[0m\n",
      "\u001b[1m\u001b[31mcategory13\tSERENDIPITY_FIRST : 0.67671809256662\u001b[0m\n",
      "category 14 \tSTAR_CARBON : 0.9846390168970814\n",
      "category 15 \tSPECTROPHOTO_STD : 0.9702665755297334\n",
      "category 16 \tSTAR_SUB_DWARF : 0.9567099567099567\n",
      "\u001b[1m\u001b[31mcategory17\tSERENDIPITY_MANUAL : 0.8333333333333334\u001b[0m\n",
      "category 18 \tSERENDIPITY_BLUE : 0.9161112387956791\n"
     ]
    }
   ],
   "source": [
    "# 글자 색상 결정\n",
    "C_END = \"\\033[0m\"\n",
    "C_RED = \"\\033[31m\"\n",
    "C_BOLD = \"\\033[1m\"\n",
    "\n",
    "for cate in range(19):\n",
    "    prob = sum(((y_test == cate) & (y_test == y_pred_list))) / sum(y_test == cate)\n",
    "    if(prob < 0.85):\n",
    "        print(C_BOLD + C_RED + \"category\"+ str(cate) +\"\\t\"+ category[cate]+' : ' + str(prob) + C_END)\n",
    "    else:\n",
    "        print(\"category\",cate,\"\\t\"+ category[cate],':', prob)"
   ]
  },
  {
   "cell_type": "code",
   "execution_count": 27,
   "metadata": {
    "scrolled": true
   },
   "outputs": [
    {
     "data": {
      "text/html": [
       "<div>\n",
       "<style scoped>\n",
       "    .dataframe tbody tr th:only-of-type {\n",
       "        vertical-align: middle;\n",
       "    }\n",
       "\n",
       "    .dataframe tbody tr th {\n",
       "        vertical-align: top;\n",
       "    }\n",
       "\n",
       "    .dataframe thead th {\n",
       "        text-align: right;\n",
       "    }\n",
       "</style>\n",
       "<table border=\"1\" class=\"dataframe\">\n",
       "  <thead>\n",
       "    <tr style=\"text-align: right;\">\n",
       "      <th></th>\n",
       "      <th>type</th>\n",
       "      <th>fiberID</th>\n",
       "      <th>psfMag_u</th>\n",
       "      <th>psfMag_g</th>\n",
       "      <th>psfMag_r</th>\n",
       "      <th>psfMag_i</th>\n",
       "      <th>psfMag_z</th>\n",
       "      <th>fiberMag_u</th>\n",
       "      <th>fiberMag_g</th>\n",
       "      <th>fiberMag_r</th>\n",
       "      <th>...</th>\n",
       "      <th>petroMag_g</th>\n",
       "      <th>petroMag_r</th>\n",
       "      <th>petroMag_i</th>\n",
       "      <th>petroMag_z</th>\n",
       "      <th>modelMag_u</th>\n",
       "      <th>modelMag_g</th>\n",
       "      <th>modelMag_r</th>\n",
       "      <th>modelMag_i</th>\n",
       "      <th>modelMag_z</th>\n",
       "      <th>type_num</th>\n",
       "    </tr>\n",
       "  </thead>\n",
       "  <tbody>\n",
       "    <tr>\n",
       "      <td>0</td>\n",
       "      <td>QSO</td>\n",
       "      <td>601</td>\n",
       "      <td>23.198224</td>\n",
       "      <td>21.431953</td>\n",
       "      <td>21.314148</td>\n",
       "      <td>21.176553</td>\n",
       "      <td>21.171444</td>\n",
       "      <td>22.581309</td>\n",
       "      <td>21.644453</td>\n",
       "      <td>21.657571</td>\n",
       "      <td>...</td>\n",
       "      <td>21.431636</td>\n",
       "      <td>21.478312</td>\n",
       "      <td>21.145409</td>\n",
       "      <td>20.422446</td>\n",
       "      <td>22.749241</td>\n",
       "      <td>21.465534</td>\n",
       "      <td>21.364187</td>\n",
       "      <td>21.020605</td>\n",
       "      <td>21.147340</td>\n",
       "      <td>8</td>\n",
       "    </tr>\n",
       "    <tr>\n",
       "      <td>1</td>\n",
       "      <td>QSO</td>\n",
       "      <td>788</td>\n",
       "      <td>21.431355</td>\n",
       "      <td>20.708104</td>\n",
       "      <td>20.678850</td>\n",
       "      <td>20.703420</td>\n",
       "      <td>20.473229</td>\n",
       "      <td>21.868797</td>\n",
       "      <td>21.029773</td>\n",
       "      <td>20.967054</td>\n",
       "      <td>...</td>\n",
       "      <td>20.778968</td>\n",
       "      <td>20.889705</td>\n",
       "      <td>20.639812</td>\n",
       "      <td>20.646660</td>\n",
       "      <td>21.492955</td>\n",
       "      <td>20.758527</td>\n",
       "      <td>20.753925</td>\n",
       "      <td>20.693389</td>\n",
       "      <td>20.512314</td>\n",
       "      <td>8</td>\n",
       "    </tr>\n",
       "    <tr>\n",
       "      <td>2</td>\n",
       "      <td>QSO</td>\n",
       "      <td>427</td>\n",
       "      <td>17.851451</td>\n",
       "      <td>16.727898</td>\n",
       "      <td>16.679677</td>\n",
       "      <td>16.694640</td>\n",
       "      <td>16.641788</td>\n",
       "      <td>18.171890</td>\n",
       "      <td>17.033098</td>\n",
       "      <td>16.999682</td>\n",
       "      <td>...</td>\n",
       "      <td>16.738784</td>\n",
       "      <td>16.688874</td>\n",
       "      <td>16.744210</td>\n",
       "      <td>16.808006</td>\n",
       "      <td>17.818063</td>\n",
       "      <td>16.697434</td>\n",
       "      <td>16.641249</td>\n",
       "      <td>16.660177</td>\n",
       "      <td>16.688928</td>\n",
       "      <td>8</td>\n",
       "    </tr>\n",
       "    <tr>\n",
       "      <td>3</td>\n",
       "      <td>QSO</td>\n",
       "      <td>864</td>\n",
       "      <td>20.789900</td>\n",
       "      <td>20.040371</td>\n",
       "      <td>19.926909</td>\n",
       "      <td>19.843840</td>\n",
       "      <td>19.463270</td>\n",
       "      <td>21.039030</td>\n",
       "      <td>20.317165</td>\n",
       "      <td>20.217898</td>\n",
       "      <td>...</td>\n",
       "      <td>19.993727</td>\n",
       "      <td>19.985531</td>\n",
       "      <td>19.750917</td>\n",
       "      <td>19.455117</td>\n",
       "      <td>20.770711</td>\n",
       "      <td>20.001699</td>\n",
       "      <td>19.889798</td>\n",
       "      <td>19.758113</td>\n",
       "      <td>19.552855</td>\n",
       "      <td>8</td>\n",
       "    </tr>\n",
       "    <tr>\n",
       "      <td>4</td>\n",
       "      <td>STAR_RED_DWARF</td>\n",
       "      <td>612</td>\n",
       "      <td>26.454969</td>\n",
       "      <td>23.058767</td>\n",
       "      <td>21.471406</td>\n",
       "      <td>19.504961</td>\n",
       "      <td>18.389096</td>\n",
       "      <td>25.700632</td>\n",
       "      <td>23.629122</td>\n",
       "      <td>21.742750</td>\n",
       "      <td>...</td>\n",
       "      <td>22.426929</td>\n",
       "      <td>21.673551</td>\n",
       "      <td>19.610012</td>\n",
       "      <td>18.376141</td>\n",
       "      <td>24.877052</td>\n",
       "      <td>23.147993</td>\n",
       "      <td>21.475342</td>\n",
       "      <td>19.487330</td>\n",
       "      <td>18.375655</td>\n",
       "      <td>10</td>\n",
       "    </tr>\n",
       "    <tr>\n",
       "      <td>...</td>\n",
       "      <td>...</td>\n",
       "      <td>...</td>\n",
       "      <td>...</td>\n",
       "      <td>...</td>\n",
       "      <td>...</td>\n",
       "      <td>...</td>\n",
       "      <td>...</td>\n",
       "      <td>...</td>\n",
       "      <td>...</td>\n",
       "      <td>...</td>\n",
       "      <td>...</td>\n",
       "      <td>...</td>\n",
       "      <td>...</td>\n",
       "      <td>...</td>\n",
       "      <td>...</td>\n",
       "      <td>...</td>\n",
       "      <td>...</td>\n",
       "      <td>...</td>\n",
       "      <td>...</td>\n",
       "      <td>...</td>\n",
       "      <td>...</td>\n",
       "    </tr>\n",
       "    <tr>\n",
       "      <td>199875</td>\n",
       "      <td>QSO</td>\n",
       "      <td>568</td>\n",
       "      <td>20.630780</td>\n",
       "      <td>20.437920</td>\n",
       "      <td>20.050756</td>\n",
       "      <td>20.020974</td>\n",
       "      <td>19.959646</td>\n",
       "      <td>20.948519</td>\n",
       "      <td>20.726709</td>\n",
       "      <td>20.311562</td>\n",
       "      <td>...</td>\n",
       "      <td>20.536338</td>\n",
       "      <td>20.126561</td>\n",
       "      <td>20.102815</td>\n",
       "      <td>19.796722</td>\n",
       "      <td>20.783295</td>\n",
       "      <td>20.326879</td>\n",
       "      <td>20.014046</td>\n",
       "      <td>20.061940</td>\n",
       "      <td>19.862513</td>\n",
       "      <td>8</td>\n",
       "    </tr>\n",
       "    <tr>\n",
       "      <td>199876</td>\n",
       "      <td>GALAXY</td>\n",
       "      <td>362</td>\n",
       "      <td>25.283695</td>\n",
       "      <td>22.807243</td>\n",
       "      <td>21.069792</td>\n",
       "      <td>20.187531</td>\n",
       "      <td>19.595598</td>\n",
       "      <td>26.677671</td>\n",
       "      <td>22.818723</td>\n",
       "      <td>20.786120</td>\n",
       "      <td>...</td>\n",
       "      <td>22.250489</td>\n",
       "      <td>20.091693</td>\n",
       "      <td>18.985791</td>\n",
       "      <td>18.803354</td>\n",
       "      <td>26.921903</td>\n",
       "      <td>21.952440</td>\n",
       "      <td>19.776321</td>\n",
       "      <td>18.990039</td>\n",
       "      <td>18.528306</td>\n",
       "      <td>6</td>\n",
       "    </tr>\n",
       "    <tr>\n",
       "      <td>199877</td>\n",
       "      <td>STAR_RED_DWARF</td>\n",
       "      <td>146</td>\n",
       "      <td>23.609826</td>\n",
       "      <td>21.902709</td>\n",
       "      <td>20.330747</td>\n",
       "      <td>18.457535</td>\n",
       "      <td>17.326771</td>\n",
       "      <td>24.320816</td>\n",
       "      <td>22.287946</td>\n",
       "      <td>20.711737</td>\n",
       "      <td>...</td>\n",
       "      <td>22.132993</td>\n",
       "      <td>20.329624</td>\n",
       "      <td>18.507337</td>\n",
       "      <td>17.418521</td>\n",
       "      <td>24.503460</td>\n",
       "      <td>21.897599</td>\n",
       "      <td>20.420524</td>\n",
       "      <td>18.443126</td>\n",
       "      <td>17.331724</td>\n",
       "      <td>10</td>\n",
       "    </tr>\n",
       "    <tr>\n",
       "      <td>199878</td>\n",
       "      <td>GALAXY</td>\n",
       "      <td>85</td>\n",
       "      <td>21.172003</td>\n",
       "      <td>20.561208</td>\n",
       "      <td>20.031754</td>\n",
       "      <td>19.793644</td>\n",
       "      <td>19.540471</td>\n",
       "      <td>21.704126</td>\n",
       "      <td>20.469748</td>\n",
       "      <td>19.872089</td>\n",
       "      <td>...</td>\n",
       "      <td>18.065559</td>\n",
       "      <td>17.501307</td>\n",
       "      <td>17.180639</td>\n",
       "      <td>17.175205</td>\n",
       "      <td>19.109086</td>\n",
       "      <td>18.004976</td>\n",
       "      <td>17.440331</td>\n",
       "      <td>17.193743</td>\n",
       "      <td>16.969854</td>\n",
       "      <td>6</td>\n",
       "    </tr>\n",
       "    <tr>\n",
       "      <td>199879</td>\n",
       "      <td>QSO</td>\n",
       "      <td>964</td>\n",
       "      <td>20.624498</td>\n",
       "      <td>20.122276</td>\n",
       "      <td>20.332241</td>\n",
       "      <td>20.360527</td>\n",
       "      <td>19.953043</td>\n",
       "      <td>20.931572</td>\n",
       "      <td>20.432758</td>\n",
       "      <td>20.678753</td>\n",
       "      <td>...</td>\n",
       "      <td>20.129721</td>\n",
       "      <td>20.415419</td>\n",
       "      <td>20.559018</td>\n",
       "      <td>19.816157</td>\n",
       "      <td>20.748047</td>\n",
       "      <td>20.116332</td>\n",
       "      <td>20.327396</td>\n",
       "      <td>20.217198</td>\n",
       "      <td>19.995023</td>\n",
       "      <td>8</td>\n",
       "    </tr>\n",
       "  </tbody>\n",
       "</table>\n",
       "<p>199880 rows × 23 columns</p>\n",
       "</div>"
      ],
      "text/plain": [
       "                  type  fiberID   psfMag_u   psfMag_g   psfMag_r   psfMag_i  \\\n",
       "0                  QSO      601  23.198224  21.431953  21.314148  21.176553   \n",
       "1                  QSO      788  21.431355  20.708104  20.678850  20.703420   \n",
       "2                  QSO      427  17.851451  16.727898  16.679677  16.694640   \n",
       "3                  QSO      864  20.789900  20.040371  19.926909  19.843840   \n",
       "4       STAR_RED_DWARF      612  26.454969  23.058767  21.471406  19.504961   \n",
       "...                ...      ...        ...        ...        ...        ...   \n",
       "199875             QSO      568  20.630780  20.437920  20.050756  20.020974   \n",
       "199876          GALAXY      362  25.283695  22.807243  21.069792  20.187531   \n",
       "199877  STAR_RED_DWARF      146  23.609826  21.902709  20.330747  18.457535   \n",
       "199878          GALAXY       85  21.172003  20.561208  20.031754  19.793644   \n",
       "199879             QSO      964  20.624498  20.122276  20.332241  20.360527   \n",
       "\n",
       "         psfMag_z  fiberMag_u  fiberMag_g  fiberMag_r  ...  petroMag_g  \\\n",
       "0       21.171444   22.581309   21.644453   21.657571  ...   21.431636   \n",
       "1       20.473229   21.868797   21.029773   20.967054  ...   20.778968   \n",
       "2       16.641788   18.171890   17.033098   16.999682  ...   16.738784   \n",
       "3       19.463270   21.039030   20.317165   20.217898  ...   19.993727   \n",
       "4       18.389096   25.700632   23.629122   21.742750  ...   22.426929   \n",
       "...           ...         ...         ...         ...  ...         ...   \n",
       "199875  19.959646   20.948519   20.726709   20.311562  ...   20.536338   \n",
       "199876  19.595598   26.677671   22.818723   20.786120  ...   22.250489   \n",
       "199877  17.326771   24.320816   22.287946   20.711737  ...   22.132993   \n",
       "199878  19.540471   21.704126   20.469748   19.872089  ...   18.065559   \n",
       "199879  19.953043   20.931572   20.432758   20.678753  ...   20.129721   \n",
       "\n",
       "        petroMag_r  petroMag_i  petroMag_z  modelMag_u  modelMag_g  \\\n",
       "0        21.478312   21.145409   20.422446   22.749241   21.465534   \n",
       "1        20.889705   20.639812   20.646660   21.492955   20.758527   \n",
       "2        16.688874   16.744210   16.808006   17.818063   16.697434   \n",
       "3        19.985531   19.750917   19.455117   20.770711   20.001699   \n",
       "4        21.673551   19.610012   18.376141   24.877052   23.147993   \n",
       "...            ...         ...         ...         ...         ...   \n",
       "199875   20.126561   20.102815   19.796722   20.783295   20.326879   \n",
       "199876   20.091693   18.985791   18.803354   26.921903   21.952440   \n",
       "199877   20.329624   18.507337   17.418521   24.503460   21.897599   \n",
       "199878   17.501307   17.180639   17.175205   19.109086   18.004976   \n",
       "199879   20.415419   20.559018   19.816157   20.748047   20.116332   \n",
       "\n",
       "        modelMag_r  modelMag_i  modelMag_z  type_num  \n",
       "0        21.364187   21.020605   21.147340         8  \n",
       "1        20.753925   20.693389   20.512314         8  \n",
       "2        16.641249   16.660177   16.688928         8  \n",
       "3        19.889798   19.758113   19.552855         8  \n",
       "4        21.475342   19.487330   18.375655        10  \n",
       "...            ...         ...         ...       ...  \n",
       "199875   20.014046   20.061940   19.862513         8  \n",
       "199876   19.776321   18.990039   18.528306         6  \n",
       "199877   20.420524   18.443126   17.331724        10  \n",
       "199878   17.440331   17.193743   16.969854         6  \n",
       "199879   20.327396   20.217198   19.995023         8  \n",
       "\n",
       "[199880 rows x 23 columns]"
      ]
     },
     "execution_count": 27,
     "metadata": {},
     "output_type": "execute_result"
    }
   ],
   "source": [
    "train"
   ]
  },
  {
   "cell_type": "code",
   "execution_count": 17,
   "metadata": {
    "scrolled": false
   },
   "outputs": [],
   "source": [
    "xgb_feature = xgb_model.feature_importances_\n",
    "cat_feature = catb_model.feature_importances_ / 100\n",
    "lgbm_feature = lgbm_model.feature_importances_ / sum(lgbm_model.feature_importances_)"
   ]
  },
  {
   "cell_type": "code",
   "execution_count": 18,
   "metadata": {},
   "outputs": [],
   "source": [
    "xgb_feature_importance = {}\n",
    "cat_feature_importance = {}\n",
    "lgbm_feature_importance = {}\n",
    "\n",
    "for idx, column in enumerate(train.columns[1:-1]):\n",
    "    xgb_feature_importance[column] = xgb_feature[idx]\n",
    "    cat_feature_importance[column] = cat_feature[idx]\n",
    "    lgbm_feature_importance[column] = lgbm_feature[idx]"
   ]
  },
  {
   "cell_type": "code",
   "execution_count": 19,
   "metadata": {},
   "outputs": [
    {
     "data": {
      "image/png": "[encoded data removed]",
      "text/plain": [
       "<Figure size 720x864 with 3 Axes>"
      ]
     },
     "metadata": {},
     "output_type": "display_data"
    }
   ],
   "source": [
    "fig, (ax1, ax2, ax3) = plt.subplots(3, 1, figsize=(10,12))\n",
    "\n",
    "ax1.barh(list(xgb_feature_importance.keys()), list(xgb_feature_importance.values()))\n",
    "ax1.set(title='xgboost feature importance')\n",
    "\n",
    "ax2.barh(list(cat_feature_importance.keys()), list(cat_feature_importance.values()))\n",
    "ax2.set(title='catboost feature importance')\n",
    "\n",
    "ax3.barh(list(lgbm_feature_importance.keys()), list(lgbm_feature_importance.values()))\n",
    "ax3.set(title='lightGBM feature importance')\n",
    "\n",
    "fig.tight_layout()\n",
    "plt.show()"
   ]
  },
  {
   "cell_type": "code",
   "execution_count": 153,
   "metadata": {
    "scrolled": false
   },
   "outputs": [],
   "source": [
    "train['xgb_weight'] = train[train.columns[2:-1]].apply(lambda x : sum(np.array(x)*xgb_feature[1:]), axis=1)\n",
    "train['cat_weight'] = train[train.columns[2:-2]].apply(lambda x : sum(np.array(x)*cat_feature[1:]), axis=1)\n",
    "train['light_weight'] = train[train.columns[2:-3]].apply(lambda x : sum(np.array(x)*lgbm_feature[1:]), axis=1)"
   ]
  },
  {
   "cell_type": "code",
   "execution_count": 158,
   "metadata": {},
   "outputs": [],
   "source": [
    "test['xgb_weight'] = test[test.columns[1:]].apply(lambda x : sum(np.array(x)*xgb_feature[1:]), axis=1)\n",
    "test['cat_weight'] = test[test.columns[1:-1]].apply(lambda x : sum(np.array(x)*cat_feature[1:]), axis=1)\n",
    "test['light_weight'] = test[test.columns[1:-2]].apply(lambda x : sum(np.array(x)*lgbm_feature[1:]), axis=1)"
   ]
  },
  {
   "cell_type": "code",
   "execution_count": 159,
   "metadata": {},
   "outputs": [
    {
     "data": {
      "text/html": [
       "<div>\n",
       "<style scoped>\n",
       "    .dataframe tbody tr th:only-of-type {\n",
       "        vertical-align: middle;\n",
       "    }\n",
       "\n",
       "    .dataframe tbody tr th {\n",
       "        vertical-align: top;\n",
       "    }\n",
       "\n",
       "    .dataframe thead th {\n",
       "        text-align: right;\n",
       "    }\n",
       "</style>\n",
       "<table border=\"1\" class=\"dataframe\">\n",
       "  <thead>\n",
       "    <tr style=\"text-align: right;\">\n",
       "      <th></th>\n",
       "      <th>fiberID</th>\n",
       "      <th>psfMag_u</th>\n",
       "      <th>psfMag_g</th>\n",
       "      <th>psfMag_r</th>\n",
       "      <th>psfMag_i</th>\n",
       "      <th>psfMag_z</th>\n",
       "      <th>fiberMag_u</th>\n",
       "      <th>fiberMag_g</th>\n",
       "      <th>fiberMag_r</th>\n",
       "      <th>fiberMag_i</th>\n",
       "      <th>...</th>\n",
       "      <th>petroMag_i</th>\n",
       "      <th>petroMag_z</th>\n",
       "      <th>modelMag_u</th>\n",
       "      <th>modelMag_g</th>\n",
       "      <th>modelMag_r</th>\n",
       "      <th>modelMag_i</th>\n",
       "      <th>modelMag_z</th>\n",
       "      <th>xgb_weight</th>\n",
       "      <th>cat_weight</th>\n",
       "      <th>light_weight</th>\n",
       "    </tr>\n",
       "    <tr>\n",
       "      <th>id</th>\n",
       "      <th></th>\n",
       "      <th></th>\n",
       "      <th></th>\n",
       "      <th></th>\n",
       "      <th></th>\n",
       "      <th></th>\n",
       "      <th></th>\n",
       "      <th></th>\n",
       "      <th></th>\n",
       "      <th></th>\n",
       "      <th></th>\n",
       "      <th></th>\n",
       "      <th></th>\n",
       "      <th></th>\n",
       "      <th></th>\n",
       "      <th></th>\n",
       "      <th></th>\n",
       "      <th></th>\n",
       "      <th></th>\n",
       "      <th></th>\n",
       "      <th></th>\n",
       "    </tr>\n",
       "  </thead>\n",
       "  <tbody>\n",
       "    <tr>\n",
       "      <td>199991</td>\n",
       "      <td>251</td>\n",
       "      <td>23.817399</td>\n",
       "      <td>22.508963</td>\n",
       "      <td>20.981106</td>\n",
       "      <td>18.517316</td>\n",
       "      <td>17.076079</td>\n",
       "      <td>25.053890</td>\n",
       "      <td>23.167848</td>\n",
       "      <td>21.335901</td>\n",
       "      <td>18.835858</td>\n",
       "      <td>...</td>\n",
       "      <td>18.584486</td>\n",
       "      <td>17.154284</td>\n",
       "      <td>25.391534</td>\n",
       "      <td>22.499435</td>\n",
       "      <td>21.011918</td>\n",
       "      <td>18.499341</td>\n",
       "      <td>17.091474</td>\n",
       "      <td>20.124594</td>\n",
       "      <td>19.254133</td>\n",
       "      <td>19.073271</td>\n",
       "    </tr>\n",
       "    <tr>\n",
       "      <td>199992</td>\n",
       "      <td>386</td>\n",
       "      <td>22.806983</td>\n",
       "      <td>21.937111</td>\n",
       "      <td>20.335770</td>\n",
       "      <td>20.000512</td>\n",
       "      <td>19.527369</td>\n",
       "      <td>22.498565</td>\n",
       "      <td>22.186000</td>\n",
       "      <td>20.618879</td>\n",
       "      <td>20.301204</td>\n",
       "      <td>...</td>\n",
       "      <td>19.967204</td>\n",
       "      <td>19.683671</td>\n",
       "      <td>22.475338</td>\n",
       "      <td>21.853442</td>\n",
       "      <td>20.173169</td>\n",
       "      <td>19.796757</td>\n",
       "      <td>19.567372</td>\n",
       "      <td>20.460507</td>\n",
       "      <td>19.326412</td>\n",
       "      <td>19.166452</td>\n",
       "    </tr>\n",
       "    <tr>\n",
       "      <td>199993</td>\n",
       "      <td>232</td>\n",
       "      <td>21.024250</td>\n",
       "      <td>19.235669</td>\n",
       "      <td>18.304061</td>\n",
       "      <td>17.808608</td>\n",
       "      <td>17.380113</td>\n",
       "      <td>21.205546</td>\n",
       "      <td>19.439533</td>\n",
       "      <td>18.344433</td>\n",
       "      <td>17.909690</td>\n",
       "      <td>...</td>\n",
       "      <td>17.158519</td>\n",
       "      <td>16.843986</td>\n",
       "      <td>20.579314</td>\n",
       "      <td>18.653338</td>\n",
       "      <td>17.562108</td>\n",
       "      <td>17.120529</td>\n",
       "      <td>16.708748</td>\n",
       "      <td>18.013877</td>\n",
       "      <td>17.167994</td>\n",
       "      <td>17.024388</td>\n",
       "    </tr>\n",
       "    <tr>\n",
       "      <td>199994</td>\n",
       "      <td>557</td>\n",
       "      <td>20.503424</td>\n",
       "      <td>20.286261</td>\n",
       "      <td>20.197204</td>\n",
       "      <td>20.162419</td>\n",
       "      <td>20.059832</td>\n",
       "      <td>20.976132</td>\n",
       "      <td>20.611498</td>\n",
       "      <td>20.567262</td>\n",
       "      <td>20.479318</td>\n",
       "      <td>...</td>\n",
       "      <td>20.206574</td>\n",
       "      <td>20.212342</td>\n",
       "      <td>20.479879</td>\n",
       "      <td>20.280943</td>\n",
       "      <td>20.150499</td>\n",
       "      <td>20.206221</td>\n",
       "      <td>20.092909</td>\n",
       "      <td>19.889153</td>\n",
       "      <td>18.696481</td>\n",
       "      <td>18.609537</td>\n",
       "    </tr>\n",
       "    <tr>\n",
       "      <td>199995</td>\n",
       "      <td>75</td>\n",
       "      <td>24.244851</td>\n",
       "      <td>22.668237</td>\n",
       "      <td>21.239333</td>\n",
       "      <td>19.284777</td>\n",
       "      <td>18.235939</td>\n",
       "      <td>25.681860</td>\n",
       "      <td>22.935289</td>\n",
       "      <td>21.642456</td>\n",
       "      <td>19.624926</td>\n",
       "      <td>...</td>\n",
       "      <td>19.299120</td>\n",
       "      <td>18.307526</td>\n",
       "      <td>25.489360</td>\n",
       "      <td>22.857290</td>\n",
       "      <td>21.191862</td>\n",
       "      <td>19.237964</td>\n",
       "      <td>18.280368</td>\n",
       "      <td>20.685057</td>\n",
       "      <td>19.764256</td>\n",
       "      <td>19.545800</td>\n",
       "    </tr>\n",
       "    <tr>\n",
       "      <td>...</td>\n",
       "      <td>...</td>\n",
       "      <td>...</td>\n",
       "      <td>...</td>\n",
       "      <td>...</td>\n",
       "      <td>...</td>\n",
       "      <td>...</td>\n",
       "      <td>...</td>\n",
       "      <td>...</td>\n",
       "      <td>...</td>\n",
       "      <td>...</td>\n",
       "      <td>...</td>\n",
       "      <td>...</td>\n",
       "      <td>...</td>\n",
       "      <td>...</td>\n",
       "      <td>...</td>\n",
       "      <td>...</td>\n",
       "      <td>...</td>\n",
       "      <td>...</td>\n",
       "      <td>...</td>\n",
       "      <td>...</td>\n",
       "      <td>...</td>\n",
       "    </tr>\n",
       "    <tr>\n",
       "      <td>209995</td>\n",
       "      <td>389</td>\n",
       "      <td>19.765035</td>\n",
       "      <td>19.542406</td>\n",
       "      <td>19.439286</td>\n",
       "      <td>19.357957</td>\n",
       "      <td>19.357305</td>\n",
       "      <td>20.093308</td>\n",
       "      <td>19.827172</td>\n",
       "      <td>19.714033</td>\n",
       "      <td>19.686861</td>\n",
       "      <td>...</td>\n",
       "      <td>19.303361</td>\n",
       "      <td>19.483389</td>\n",
       "      <td>19.792181</td>\n",
       "      <td>19.536518</td>\n",
       "      <td>19.432463</td>\n",
       "      <td>19.376445</td>\n",
       "      <td>19.354976</td>\n",
       "      <td>19.147674</td>\n",
       "      <td>18.023053</td>\n",
       "      <td>17.936422</td>\n",
       "    </tr>\n",
       "    <tr>\n",
       "      <td>209996</td>\n",
       "      <td>247</td>\n",
       "      <td>19.960030</td>\n",
       "      <td>19.609379</td>\n",
       "      <td>19.325949</td>\n",
       "      <td>19.391290</td>\n",
       "      <td>19.258862</td>\n",
       "      <td>20.319914</td>\n",
       "      <td>19.928523</td>\n",
       "      <td>19.696262</td>\n",
       "      <td>19.763771</td>\n",
       "      <td>...</td>\n",
       "      <td>19.460517</td>\n",
       "      <td>19.390865</td>\n",
       "      <td>20.066552</td>\n",
       "      <td>19.604800</td>\n",
       "      <td>19.334113</td>\n",
       "      <td>19.401240</td>\n",
       "      <td>19.159412</td>\n",
       "      <td>19.171408</td>\n",
       "      <td>18.043001</td>\n",
       "      <td>17.959318</td>\n",
       "    </tr>\n",
       "    <tr>\n",
       "      <td>209997</td>\n",
       "      <td>941</td>\n",
       "      <td>21.221899</td>\n",
       "      <td>20.276182</td>\n",
       "      <td>20.090775</td>\n",
       "      <td>19.927208</td>\n",
       "      <td>19.766732</td>\n",
       "      <td>21.254454</td>\n",
       "      <td>20.551190</td>\n",
       "      <td>20.365800</td>\n",
       "      <td>20.200872</td>\n",
       "      <td>...</td>\n",
       "      <td>20.058801</td>\n",
       "      <td>19.988363</td>\n",
       "      <td>21.045501</td>\n",
       "      <td>20.255485</td>\n",
       "      <td>20.141549</td>\n",
       "      <td>19.906014</td>\n",
       "      <td>19.953932</td>\n",
       "      <td>19.866317</td>\n",
       "      <td>18.755832</td>\n",
       "      <td>18.622138</td>\n",
       "    </tr>\n",
       "    <tr>\n",
       "      <td>209998</td>\n",
       "      <td>674</td>\n",
       "      <td>21.625469</td>\n",
       "      <td>21.624585</td>\n",
       "      <td>21.093379</td>\n",
       "      <td>21.191775</td>\n",
       "      <td>21.186596</td>\n",
       "      <td>22.042942</td>\n",
       "      <td>21.950139</td>\n",
       "      <td>21.610805</td>\n",
       "      <td>21.501469</td>\n",
       "      <td>...</td>\n",
       "      <td>21.196019</td>\n",
       "      <td>21.331529</td>\n",
       "      <td>21.700769</td>\n",
       "      <td>21.589489</td>\n",
       "      <td>21.128330</td>\n",
       "      <td>21.430526</td>\n",
       "      <td>21.220902</td>\n",
       "      <td>21.050755</td>\n",
       "      <td>19.774797</td>\n",
       "      <td>19.700223</td>\n",
       "    </tr>\n",
       "    <tr>\n",
       "      <td>209999</td>\n",
       "      <td>358</td>\n",
       "      <td>17.438361</td>\n",
       "      <td>16.531405</td>\n",
       "      <td>16.186019</td>\n",
       "      <td>16.034888</td>\n",
       "      <td>15.995932</td>\n",
       "      <td>17.747088</td>\n",
       "      <td>16.836321</td>\n",
       "      <td>16.501623</td>\n",
       "      <td>16.373316</td>\n",
       "      <td>...</td>\n",
       "      <td>16.103483</td>\n",
       "      <td>16.052459</td>\n",
       "      <td>17.444318</td>\n",
       "      <td>16.530546</td>\n",
       "      <td>16.176274</td>\n",
       "      <td>16.045822</td>\n",
       "      <td>15.995814</td>\n",
       "      <td>16.132383</td>\n",
       "      <td>15.269617</td>\n",
       "      <td>15.164204</td>\n",
       "    </tr>\n",
       "  </tbody>\n",
       "</table>\n",
       "<p>10009 rows × 24 columns</p>\n",
       "</div>"
      ],
      "text/plain": [
       "        fiberID   psfMag_u   psfMag_g   psfMag_r   psfMag_i   psfMag_z  \\\n",
       "id                                                                       \n",
       "199991      251  23.817399  22.508963  20.981106  18.517316  17.076079   \n",
       "199992      386  22.806983  21.937111  20.335770  20.000512  19.527369   \n",
       "199993      232  21.024250  19.235669  18.304061  17.808608  17.380113   \n",
       "199994      557  20.503424  20.286261  20.197204  20.162419  20.059832   \n",
       "199995       75  24.244851  22.668237  21.239333  19.284777  18.235939   \n",
       "...         ...        ...        ...        ...        ...        ...   \n",
       "209995      389  19.765035  19.542406  19.439286  19.357957  19.357305   \n",
       "209996      247  19.960030  19.609379  19.325949  19.391290  19.258862   \n",
       "209997      941  21.221899  20.276182  20.090775  19.927208  19.766732   \n",
       "209998      674  21.625469  21.624585  21.093379  21.191775  21.186596   \n",
       "209999      358  17.438361  16.531405  16.186019  16.034888  15.995932   \n",
       "\n",
       "        fiberMag_u  fiberMag_g  fiberMag_r  fiberMag_i  ...  petroMag_i  \\\n",
       "id                                                      ...               \n",
       "199991   25.053890   23.167848   21.335901   18.835858  ...   18.584486   \n",
       "199992   22.498565   22.186000   20.618879   20.301204  ...   19.967204   \n",
       "199993   21.205546   19.439533   18.344433   17.909690  ...   17.158519   \n",
       "199994   20.976132   20.611498   20.567262   20.479318  ...   20.206574   \n",
       "199995   25.681860   22.935289   21.642456   19.624926  ...   19.299120   \n",
       "...            ...         ...         ...         ...  ...         ...   \n",
       "209995   20.093308   19.827172   19.714033   19.686861  ...   19.303361   \n",
       "209996   20.319914   19.928523   19.696262   19.763771  ...   19.460517   \n",
       "209997   21.254454   20.551190   20.365800   20.200872  ...   20.058801   \n",
       "209998   22.042942   21.950139   21.610805   21.501469  ...   21.196019   \n",
       "209999   17.747088   16.836321   16.501623   16.373316  ...   16.103483   \n",
       "\n",
       "        petroMag_z  modelMag_u  modelMag_g  modelMag_r  modelMag_i  \\\n",
       "id                                                                   \n",
       "199991   17.154284   25.391534   22.499435   21.011918   18.499341   \n",
       "199992   19.683671   22.475338   21.853442   20.173169   19.796757   \n",
       "199993   16.843986   20.579314   18.653338   17.562108   17.120529   \n",
       "199994   20.212342   20.479879   20.280943   20.150499   20.206221   \n",
       "199995   18.307526   25.489360   22.857290   21.191862   19.237964   \n",
       "...            ...         ...         ...         ...         ...   \n",
       "209995   19.483389   19.792181   19.536518   19.432463   19.376445   \n",
       "209996   19.390865   20.066552   19.604800   19.334113   19.401240   \n",
       "209997   19.988363   21.045501   20.255485   20.141549   19.906014   \n",
       "209998   21.331529   21.700769   21.589489   21.128330   21.430526   \n",
       "209999   16.052459   17.444318   16.530546   16.176274   16.045822   \n",
       "\n",
       "        modelMag_z  xgb_weight  cat_weight  light_weight  \n",
       "id                                                        \n",
       "199991   17.091474   20.124594   19.254133     19.073271  \n",
       "199992   19.567372   20.460507   19.326412     19.166452  \n",
       "199993   16.708748   18.013877   17.167994     17.024388  \n",
       "199994   20.092909   19.889153   18.696481     18.609537  \n",
       "199995   18.280368   20.685057   19.764256     19.545800  \n",
       "...            ...         ...         ...           ...  \n",
       "209995   19.354976   19.147674   18.023053     17.936422  \n",
       "209996   19.159412   19.171408   18.043001     17.959318  \n",
       "209997   19.953932   19.866317   18.755832     18.622138  \n",
       "209998   21.220902   21.050755   19.774797     19.700223  \n",
       "209999   15.995814   16.132383   15.269617     15.164204  \n",
       "\n",
       "[10009 rows x 24 columns]"
      ]
     },
     "execution_count": 159,
     "metadata": {},
     "output_type": "execute_result"
    }
   ],
   "source": [
    "test"
   ]
  },
  {
   "cell_type": "markdown",
   "metadata": {},
   "source": [
    "### -> 다시 위로 올라가서 정답지, 문제지 나누기"
   ]
  },
  {
   "cell_type": "markdown",
   "metadata": {},
   "source": [
    "# Voting"
   ]
  },
  {
   "cell_type": "code",
   "execution_count": 15,
   "metadata": {},
   "outputs": [],
   "source": [
    "from joblib import dump, load\n",
    "from sklearn.ensemble import VotingClassifier"
   ]
  },
  {
   "cell_type": "code",
   "execution_count": 16,
   "metadata": {
    "scrolled": true
   },
   "outputs": [
    {
     "name": "stderr",
     "output_type": "stream",
     "text": [
      "/home/g21300602/anaconda3/lib/python3.7/site-packages/sklearn/base.py:306: UserWarning: Trying to unpickle estimator LabelEncoder from version 0.21.2 when using version 0.21.3. This might lead to breaking code or invalid results. Use at your own risk.\n",
      "  UserWarning)\n"
     ]
    }
   ],
   "source": [
    "catb_model = load('pkl_file/200220_CAT_QSO.pkl')\n",
    "xgb_model = load('pkl_file/200222_xgb_feature_weighting.pkl')\n",
    "lgbm_model = load('pkl_file/200222_LGBM.pkl')"
   ]
  },
  {
   "cell_type": "code",
   "execution_count": 36,
   "metadata": {
    "scrolled": true
   },
   "outputs": [
    {
     "name": "stdout",
     "output_type": "stream",
     "text": [
      "0:\tlearn: 0.7293276\ttotal: 154ms\tremaining: 2m 33s\n",
      "1:\tlearn: 0.7455573\ttotal: 301ms\tremaining: 2m 30s\n",
      "2:\tlearn: 0.7558885\ttotal: 447ms\tremaining: 2m 28s\n",
      "3:\tlearn: 0.7587202\ttotal: 595ms\tremaining: 2m 28s\n",
      "4:\tlearn: 0.7673304\ttotal: 741ms\tremaining: 2m 27s\n",
      "5:\tlearn: 0.7686362\ttotal: 888ms\tremaining: 2m 27s\n",
      "6:\tlearn: 0.7721083\ttotal: 1.04s\tremaining: 2m 28s\n",
      "7:\tlearn: 0.7806584\ttotal: 1.19s\tremaining: 2m 27s\n",
      "8:\tlearn: 0.7820792\ttotal: 1.34s\tremaining: 2m 27s\n",
      "9:\tlearn: 0.7872273\ttotal: 1.48s\tremaining: 2m 26s\n",
      "10:\tlearn: 0.7929258\ttotal: 1.63s\tremaining: 2m 26s\n",
      "11:\tlearn: 0.7956774\ttotal: 1.77s\tremaining: 2m 25s\n",
      "12:\tlearn: 0.7990995\ttotal: 1.92s\tremaining: 2m 25s\n",
      "13:\tlearn: 0.8006204\ttotal: 2.06s\tremaining: 2m 24s\n",
      "14:\tlearn: 0.8036622\ttotal: 2.19s\tremaining: 2m 24s\n",
      "15:\tlearn: 0.8051581\ttotal: 2.34s\tremaining: 2m 23s\n",
      "16:\tlearn: 0.8068041\ttotal: 2.48s\tremaining: 2m 23s\n",
      "17:\tlearn: 0.8111467\ttotal: 2.62s\tremaining: 2m 22s\n",
      "18:\tlearn: 0.8129027\ttotal: 2.76s\tremaining: 2m 22s\n",
      "19:\tlearn: 0.8139884\ttotal: 2.89s\tremaining: 2m 21s\n",
      "20:\tlearn: 0.8159145\ttotal: 3.03s\tremaining: 2m 21s\n",
      "21:\tlearn: 0.8179658\ttotal: 3.16s\tremaining: 2m 20s\n",
      "22:\tlearn: 0.8193516\ttotal: 3.31s\tremaining: 2m 20s\n",
      "23:\tlearn: 0.8203422\ttotal: 3.46s\tremaining: 2m 20s\n",
      "24:\tlearn: 0.8211827\ttotal: 3.61s\tremaining: 2m 20s\n",
      "25:\tlearn: 0.8224285\ttotal: 3.81s\tremaining: 2m 22s\n",
      "26:\tlearn: 0.8227837\ttotal: 3.98s\tremaining: 2m 23s\n",
      "27:\tlearn: 0.8244697\ttotal: 4.13s\tremaining: 2m 23s\n",
      "28:\tlearn: 0.8249099\ttotal: 4.28s\tremaining: 2m 23s\n",
      "29:\tlearn: 0.8257555\ttotal: 4.42s\tremaining: 2m 22s\n",
      "30:\tlearn: 0.8273364\ttotal: 4.57s\tremaining: 2m 22s\n",
      "31:\tlearn: 0.8274715\ttotal: 4.68s\tremaining: 2m 21s\n",
      "32:\tlearn: 0.8276616\ttotal: 4.82s\tremaining: 2m 21s\n",
      "33:\tlearn: 0.8289123\ttotal: 4.96s\tremaining: 2m 20s\n",
      "34:\tlearn: 0.8302832\ttotal: 5.09s\tremaining: 2m 20s\n",
      "35:\tlearn: 0.8308485\ttotal: 5.22s\tremaining: 2m 19s\n",
      "36:\tlearn: 0.8315189\ttotal: 5.36s\tremaining: 2m 19s\n",
      "37:\tlearn: 0.8324295\ttotal: 5.5s\tremaining: 2m 19s\n",
      "38:\tlearn: 0.8330849\ttotal: 5.64s\tremaining: 2m 19s\n",
      "39:\tlearn: 0.8338953\ttotal: 5.78s\tremaining: 2m 18s\n",
      "40:\tlearn: 0.8347559\ttotal: 5.93s\tremaining: 2m 18s\n",
      "41:\tlearn: 0.8354463\ttotal: 6.07s\tremaining: 2m 18s\n",
      "42:\tlearn: 0.8363718\ttotal: 6.22s\tremaining: 2m 18s\n",
      "43:\tlearn: 0.8377877\ttotal: 6.36s\tremaining: 2m 18s\n",
      "44:\tlearn: 0.8380628\ttotal: 6.49s\tremaining: 2m 17s\n",
      "45:\tlearn: 0.8388883\ttotal: 6.64s\tremaining: 2m 17s\n",
      "46:\tlearn: 0.8398489\ttotal: 6.79s\tremaining: 2m 17s\n",
      "47:\tlearn: 0.8402291\ttotal: 6.92s\tremaining: 2m 17s\n",
      "48:\tlearn: 0.8403242\ttotal: 7.05s\tremaining: 2m 16s\n",
      "49:\tlearn: 0.8412047\ttotal: 7.2s\tremaining: 2m 16s\n",
      "50:\tlearn: 0.8419402\ttotal: 7.35s\tremaining: 2m 16s\n",
      "51:\tlearn: 0.8423054\ttotal: 7.49s\tremaining: 2m 16s\n",
      "52:\tlearn: 0.8428307\ttotal: 7.62s\tremaining: 2m 16s\n",
      "53:\tlearn: 0.8429558\ttotal: 7.74s\tremaining: 2m 15s\n",
      "54:\tlearn: 0.8434911\ttotal: 7.87s\tremaining: 2m 15s\n",
      "55:\tlearn: 0.8443716\ttotal: 8.02s\tremaining: 2m 15s\n",
      "56:\tlearn: 0.8450070\ttotal: 8.17s\tremaining: 2m 15s\n",
      "57:\tlearn: 0.8457825\ttotal: 8.32s\tremaining: 2m 15s\n",
      "58:\tlearn: 0.8462928\ttotal: 8.47s\tremaining: 2m 15s\n",
      "59:\tlearn: 0.8468281\ttotal: 8.62s\tremaining: 2m 14s\n",
      "60:\tlearn: 0.8471783\ttotal: 8.75s\tremaining: 2m 14s\n",
      "61:\tlearn: 0.8475685\ttotal: 8.89s\tremaining: 2m 14s\n",
      "62:\tlearn: 0.8477086\ttotal: 9.03s\tremaining: 2m 14s\n",
      "63:\tlearn: 0.8482890\ttotal: 9.18s\tremaining: 2m 14s\n",
      "64:\tlearn: 0.8487042\ttotal: 9.32s\tremaining: 2m 14s\n",
      "65:\tlearn: 0.8488943\ttotal: 9.45s\tremaining: 2m 13s\n",
      "66:\tlearn: 0.8491095\ttotal: 9.59s\tremaining: 2m 13s\n",
      "67:\tlearn: 0.8495547\ttotal: 9.73s\tremaining: 2m 13s\n",
      "68:\tlearn: 0.8501501\ttotal: 9.89s\tremaining: 2m 13s\n",
      "69:\tlearn: 0.8505403\ttotal: 10s\tremaining: 2m 13s\n",
      "70:\tlearn: 0.8506404\ttotal: 10.2s\tremaining: 2m 13s\n",
      "71:\tlearn: 0.8510606\ttotal: 10.3s\tremaining: 2m 13s\n",
      "72:\tlearn: 0.8512307\ttotal: 10.5s\tremaining: 2m 12s\n",
      "73:\tlearn: 0.8514058\ttotal: 10.6s\tremaining: 2m 12s\n",
      "74:\tlearn: 0.8517360\ttotal: 10.7s\tremaining: 2m 12s\n",
      "75:\tlearn: 0.8520712\ttotal: 10.9s\tremaining: 2m 12s\n",
      "76:\tlearn: 0.8525715\ttotal: 11s\tremaining: 2m 12s\n",
      "77:\tlearn: 0.8527617\ttotal: 11.2s\tremaining: 2m 12s\n",
      "78:\tlearn: 0.8532219\ttotal: 11.3s\tremaining: 2m 11s\n",
      "79:\tlearn: 0.8534571\ttotal: 11.5s\tremaining: 2m 11s\n",
      "80:\tlearn: 0.8539073\ttotal: 11.6s\tremaining: 2m 11s\n",
      "81:\tlearn: 0.8542826\ttotal: 11.8s\tremaining: 2m 11s\n",
      "82:\tlearn: 0.8544527\ttotal: 11.9s\tremaining: 2m 11s\n",
      "83:\tlearn: 0.8546078\ttotal: 12.1s\tremaining: 2m 11s\n",
      "84:\tlearn: 0.8547278\ttotal: 12.2s\tremaining: 2m 11s\n",
      "85:\tlearn: 0.8550630\ttotal: 12.3s\tremaining: 2m 11s\n",
      "86:\tlearn: 0.8554583\ttotal: 12.5s\tremaining: 2m 10s\n",
      "87:\tlearn: 0.8557635\ttotal: 12.6s\tremaining: 2m 10s\n",
      "88:\tlearn: 0.8558135\ttotal: 12.8s\tremaining: 2m 10s\n",
      "89:\tlearn: 0.8560486\ttotal: 12.9s\tremaining: 2m 10s\n",
      "90:\tlearn: 0.8563688\ttotal: 13.1s\tremaining: 2m 10s\n",
      "91:\tlearn: 0.8564739\ttotal: 13.2s\tremaining: 2m 10s\n",
      "92:\tlearn: 0.8567340\ttotal: 13.3s\tremaining: 2m 9s\n",
      "93:\tlearn: 0.8568441\ttotal: 13.5s\tremaining: 2m 9s\n",
      "94:\tlearn: 0.8569392\ttotal: 13.6s\tremaining: 2m 9s\n",
      "95:\tlearn: 0.8571843\ttotal: 13.7s\tremaining: 2m 9s\n",
      "96:\tlearn: 0.8572594\ttotal: 13.9s\tremaining: 2m 8s\n",
      "97:\tlearn: 0.8576296\ttotal: 14s\tremaining: 2m 8s\n",
      "98:\tlearn: 0.8577196\ttotal: 14.1s\tremaining: 2m 8s\n",
      "99:\tlearn: 0.8580698\ttotal: 14.3s\tremaining: 2m 8s\n",
      "100:\tlearn: 0.8582149\ttotal: 14.4s\tremaining: 2m 8s\n",
      "101:\tlearn: 0.8585101\ttotal: 14.6s\tremaining: 2m 8s\n",
      "102:\tlearn: 0.8587152\ttotal: 14.7s\tremaining: 2m 8s\n",
      "103:\tlearn: 0.8589454\ttotal: 14.9s\tremaining: 2m 8s\n",
      "104:\tlearn: 0.8590154\ttotal: 15s\tremaining: 2m 7s\n",
      "105:\tlearn: 0.8591905\ttotal: 15.2s\tremaining: 2m 7s\n",
      "106:\tlearn: 0.8592906\ttotal: 15.3s\tremaining: 2m 7s\n",
      "107:\tlearn: 0.8593756\ttotal: 15.4s\tremaining: 2m 7s\n",
      "108:\tlearn: 0.8596658\ttotal: 15.6s\tremaining: 2m 7s\n",
      "109:\tlearn: 0.8597959\ttotal: 15.7s\tremaining: 2m 7s\n",
      "110:\tlearn: 0.8599059\ttotal: 15.9s\tremaining: 2m 7s\n",
      "111:\tlearn: 0.8600160\ttotal: 16s\tremaining: 2m 6s\n",
      "112:\tlearn: 0.8602962\ttotal: 16.2s\tremaining: 2m 6s\n",
      "113:\tlearn: 0.8605813\ttotal: 16.3s\tremaining: 2m 6s\n",
      "114:\tlearn: 0.8607715\ttotal: 16.4s\tremaining: 2m 6s\n",
      "115:\tlearn: 0.8608465\ttotal: 16.6s\tremaining: 2m 6s\n",
      "116:\tlearn: 0.8609766\ttotal: 16.7s\tremaining: 2m 6s\n",
      "117:\tlearn: 0.8612117\ttotal: 16.9s\tremaining: 2m 6s\n",
      "118:\tlearn: 0.8613468\ttotal: 17s\tremaining: 2m 5s\n",
      "119:\tlearn: 0.8616070\ttotal: 17.1s\tremaining: 2m 5s\n",
      "120:\tlearn: 0.8616570\ttotal: 17.3s\tremaining: 2m 5s\n",
      "121:\tlearn: 0.8618071\ttotal: 17.4s\tremaining: 2m 5s\n",
      "122:\tlearn: 0.8619172\ttotal: 17.6s\tremaining: 2m 5s\n",
      "123:\tlearn: 0.8620022\ttotal: 17.7s\tremaining: 2m 5s\n",
      "124:\tlearn: 0.8621273\ttotal: 17.8s\tremaining: 2m 4s\n",
      "125:\tlearn: 0.8621573\ttotal: 18s\tremaining: 2m 4s\n",
      "126:\tlearn: 0.8624074\ttotal: 18.1s\tremaining: 2m 4s\n",
      "127:\tlearn: 0.8626126\ttotal: 18.3s\tremaining: 2m 4s\n",
      "128:\tlearn: 0.8626626\ttotal: 18.4s\tremaining: 2m 4s\n",
      "129:\tlearn: 0.8626426\ttotal: 18.5s\tremaining: 2m 4s\n",
      "130:\tlearn: 0.8630828\ttotal: 18.7s\tremaining: 2m 3s\n",
      "131:\tlearn: 0.8633230\ttotal: 18.8s\tremaining: 2m 3s\n",
      "132:\tlearn: 0.8634681\ttotal: 19s\tremaining: 2m 3s\n",
      "133:\tlearn: 0.8636432\ttotal: 19.1s\tremaining: 2m 3s\n",
      "134:\tlearn: 0.8637683\ttotal: 19.3s\tremaining: 2m 3s\n",
      "135:\tlearn: 0.8639784\ttotal: 19.4s\tremaining: 2m 3s\n",
      "136:\tlearn: 0.8640734\ttotal: 19.6s\tremaining: 2m 3s\n",
      "137:\tlearn: 0.8641735\ttotal: 19.7s\tremaining: 2m 3s\n",
      "138:\tlearn: 0.8642886\ttotal: 19.9s\tremaining: 2m 3s\n",
      "139:\tlearn: 0.8644287\ttotal: 20s\tremaining: 2m 2s\n",
      "140:\tlearn: 0.8645087\ttotal: 20.1s\tremaining: 2m 2s\n",
      "141:\tlearn: 0.8645587\ttotal: 20.3s\tremaining: 2m 2s\n",
      "142:\tlearn: 0.8647188\ttotal: 20.4s\tremaining: 2m 2s\n",
      "143:\tlearn: 0.8648139\ttotal: 20.6s\tremaining: 2m 2s\n",
      "144:\tlearn: 0.8649590\ttotal: 20.7s\tremaining: 2m 2s\n",
      "145:\tlearn: 0.8651291\ttotal: 20.9s\tremaining: 2m 2s\n",
      "146:\tlearn: 0.8652041\ttotal: 21s\tremaining: 2m 1s\n",
      "147:\tlearn: 0.8653042\ttotal: 21.1s\tremaining: 2m 1s\n",
      "148:\tlearn: 0.8654993\ttotal: 21.3s\tremaining: 2m 1s\n",
      "149:\tlearn: 0.8654993\ttotal: 21.4s\tremaining: 2m 1s\n",
      "150:\tlearn: 0.8657494\ttotal: 21.6s\tremaining: 2m 1s\n",
      "151:\tlearn: 0.8658645\ttotal: 21.8s\tremaining: 2m 1s\n",
      "152:\tlearn: 0.8660296\ttotal: 21.9s\tremaining: 2m 1s\n",
      "153:\tlearn: 0.8660947\ttotal: 22s\tremaining: 2m 1s\n",
      "154:\tlearn: 0.8661297\ttotal: 22.2s\tremaining: 2m\n",
      "155:\tlearn: 0.8661647\ttotal: 22.3s\tremaining: 2m\n",
      "156:\tlearn: 0.8661497\ttotal: 22.4s\tremaining: 2m\n",
      "157:\tlearn: 0.8662548\ttotal: 22.6s\tremaining: 2m\n",
      "158:\tlearn: 0.8664299\ttotal: 22.7s\tremaining: 2m\n",
      "159:\tlearn: 0.8664649\ttotal: 22.9s\tremaining: 2m\n"
     ]
    },
    {
     "name": "stdout",
     "output_type": "stream",
     "text": [
      "160:\tlearn: 0.8666250\ttotal: 23s\tremaining: 1m 59s\n",
      "161:\tlearn: 0.8667851\ttotal: 23.1s\tremaining: 1m 59s\n",
      "162:\tlearn: 0.8668351\ttotal: 23.3s\tremaining: 1m 59s\n",
      "163:\tlearn: 0.8669502\ttotal: 23.4s\tremaining: 1m 59s\n",
      "164:\tlearn: 0.8669952\ttotal: 23.6s\tremaining: 1m 59s\n",
      "165:\tlearn: 0.8672504\ttotal: 23.7s\tremaining: 1m 59s\n",
      "166:\tlearn: 0.8673754\ttotal: 23.9s\tremaining: 1m 59s\n",
      "167:\tlearn: 0.8675005\ttotal: 24s\tremaining: 1m 58s\n",
      "168:\tlearn: 0.8676556\ttotal: 24.2s\tremaining: 1m 58s\n",
      "169:\tlearn: 0.8677657\ttotal: 24.3s\tremaining: 1m 58s\n",
      "170:\tlearn: 0.8677507\ttotal: 24.4s\tremaining: 1m 58s\n",
      "171:\tlearn: 0.8679658\ttotal: 24.6s\tremaining: 1m 58s\n",
      "172:\tlearn: 0.8679658\ttotal: 24.7s\tremaining: 1m 58s\n",
      "173:\tlearn: 0.8682459\ttotal: 24.9s\tremaining: 1m 58s\n",
      "174:\tlearn: 0.8685011\ttotal: 25s\tremaining: 1m 57s\n",
      "175:\tlearn: 0.8685661\ttotal: 25.2s\tremaining: 1m 57s\n",
      "176:\tlearn: 0.8686312\ttotal: 25.3s\tremaining: 1m 57s\n",
      "177:\tlearn: 0.8687462\ttotal: 25.5s\tremaining: 1m 57s\n",
      "178:\tlearn: 0.8687513\ttotal: 25.6s\tremaining: 1m 57s\n",
      "179:\tlearn: 0.8689514\ttotal: 25.7s\tremaining: 1m 57s\n",
      "180:\tlearn: 0.8690314\ttotal: 25.9s\tremaining: 1m 57s\n",
      "181:\tlearn: 0.8690965\ttotal: 26s\tremaining: 1m 56s\n",
      "182:\tlearn: 0.8691715\ttotal: 26.1s\tremaining: 1m 56s\n",
      "183:\tlearn: 0.8691915\ttotal: 26.3s\tremaining: 1m 56s\n",
      "184:\tlearn: 0.8692616\ttotal: 26.4s\tremaining: 1m 56s\n",
      "185:\tlearn: 0.8692816\ttotal: 26.6s\tremaining: 1m 56s\n",
      "186:\tlearn: 0.8694066\ttotal: 26.7s\tremaining: 1m 56s\n",
      "187:\tlearn: 0.8695467\ttotal: 26.8s\tremaining: 1m 55s\n",
      "188:\tlearn: 0.8696468\ttotal: 27s\tremaining: 1m 55s\n",
      "189:\tlearn: 0.8698419\ttotal: 27.1s\tremaining: 1m 55s\n",
      "190:\tlearn: 0.8700520\ttotal: 27.3s\tremaining: 1m 55s\n",
      "191:\tlearn: 0.8700470\ttotal: 27.4s\tremaining: 1m 55s\n",
      "192:\tlearn: 0.8701021\ttotal: 27.6s\tremaining: 1m 55s\n",
      "193:\tlearn: 0.8701721\ttotal: 27.7s\tremaining: 1m 55s\n",
      "194:\tlearn: 0.8703422\ttotal: 27.9s\tremaining: 1m 54s\n",
      "195:\tlearn: 0.8703872\ttotal: 28s\tremaining: 1m 54s\n",
      "196:\tlearn: 0.8706624\ttotal: 28.1s\tremaining: 1m 54s\n",
      "197:\tlearn: 0.8706974\ttotal: 28.3s\tremaining: 1m 54s\n",
      "198:\tlearn: 0.8707575\ttotal: 28.4s\tremaining: 1m 54s\n",
      "199:\tlearn: 0.8708625\ttotal: 28.6s\tremaining: 1m 54s\n",
      "200:\tlearn: 0.8710927\ttotal: 28.7s\tremaining: 1m 54s\n",
      "201:\tlearn: 0.8712277\ttotal: 28.9s\tremaining: 1m 54s\n",
      "202:\tlearn: 0.8712828\ttotal: 29s\tremaining: 1m 53s\n",
      "203:\tlearn: 0.8713528\ttotal: 29.2s\tremaining: 1m 53s\n",
      "204:\tlearn: 0.8713978\ttotal: 29.3s\tremaining: 1m 53s\n",
      "205:\tlearn: 0.8713628\ttotal: 29.4s\tremaining: 1m 53s\n",
      "206:\tlearn: 0.8714028\ttotal: 29.6s\tremaining: 1m 53s\n",
      "207:\tlearn: 0.8716630\ttotal: 29.7s\tremaining: 1m 53s\n",
      "208:\tlearn: 0.8716780\ttotal: 29.9s\tremaining: 1m 53s\n",
      "209:\tlearn: 0.8717781\ttotal: 30s\tremaining: 1m 52s\n",
      "210:\tlearn: 0.8717931\ttotal: 30.1s\tremaining: 1m 52s\n",
      "211:\tlearn: 0.8718231\ttotal: 30.3s\tremaining: 1m 52s\n",
      "212:\tlearn: 0.8719482\ttotal: 30.4s\tremaining: 1m 52s\n",
      "213:\tlearn: 0.8720032\ttotal: 30.6s\tremaining: 1m 52s\n",
      "214:\tlearn: 0.8720832\ttotal: 30.7s\tremaining: 1m 52s\n",
      "215:\tlearn: 0.8721683\ttotal: 30.9s\tremaining: 1m 51s\n",
      "216:\tlearn: 0.8721433\ttotal: 31s\tremaining: 1m 51s\n",
      "217:\tlearn: 0.8722483\ttotal: 31.1s\tremaining: 1m 51s\n",
      "218:\tlearn: 0.8723384\ttotal: 31.3s\tremaining: 1m 51s\n",
      "219:\tlearn: 0.8724735\ttotal: 31.4s\tremaining: 1m 51s\n",
      "220:\tlearn: 0.8725936\ttotal: 31.6s\tremaining: 1m 51s\n",
      "221:\tlearn: 0.8726436\ttotal: 31.7s\tremaining: 1m 51s\n",
      "222:\tlearn: 0.8726986\ttotal: 31.8s\tremaining: 1m 50s\n",
      "223:\tlearn: 0.8727386\ttotal: 32s\tremaining: 1m 50s\n",
      "224:\tlearn: 0.8728137\ttotal: 32.1s\tremaining: 1m 50s\n",
      "225:\tlearn: 0.8728987\ttotal: 32.3s\tremaining: 1m 50s\n",
      "226:\tlearn: 0.8729087\ttotal: 32.4s\tremaining: 1m 50s\n",
      "227:\tlearn: 0.8728937\ttotal: 32.6s\tremaining: 1m 50s\n",
      "228:\tlearn: 0.8729788\ttotal: 32.7s\tremaining: 1m 50s\n",
      "229:\tlearn: 0.8730038\ttotal: 32.9s\tremaining: 1m 50s\n",
      "230:\tlearn: 0.8730989\ttotal: 33s\tremaining: 1m 49s\n",
      "231:\tlearn: 0.8731739\ttotal: 33.1s\tremaining: 1m 49s\n",
      "232:\tlearn: 0.8732790\ttotal: 33.3s\tremaining: 1m 49s\n",
      "233:\tlearn: 0.8733440\ttotal: 33.4s\tremaining: 1m 49s\n",
      "234:\tlearn: 0.8733590\ttotal: 33.6s\tremaining: 1m 49s\n",
      "235:\tlearn: 0.8733890\ttotal: 33.7s\tremaining: 1m 49s\n",
      "236:\tlearn: 0.8735341\ttotal: 33.8s\tremaining: 1m 48s\n",
      "237:\tlearn: 0.8736992\ttotal: 34s\tremaining: 1m 48s\n",
      "238:\tlearn: 0.8737593\ttotal: 34.1s\tremaining: 1m 48s\n",
      "239:\tlearn: 0.8738143\ttotal: 34.3s\tremaining: 1m 48s\n",
      "240:\tlearn: 0.8738243\ttotal: 34.4s\tremaining: 1m 48s\n",
      "241:\tlearn: 0.8739844\ttotal: 34.6s\tremaining: 1m 48s\n",
      "242:\tlearn: 0.8739894\ttotal: 34.7s\tremaining: 1m 48s\n",
      "243:\tlearn: 0.8740995\ttotal: 34.8s\tremaining: 1m 47s\n",
      "244:\tlearn: 0.8741295\ttotal: 35s\tremaining: 1m 47s\n",
      "245:\tlearn: 0.8743146\ttotal: 35.1s\tremaining: 1m 47s\n",
      "246:\tlearn: 0.8744897\ttotal: 35.3s\tremaining: 1m 47s\n",
      "247:\tlearn: 0.8745697\ttotal: 35.4s\tremaining: 1m 47s\n",
      "248:\tlearn: 0.8746598\ttotal: 35.5s\tremaining: 1m 47s\n",
      "249:\tlearn: 0.8746748\ttotal: 35.7s\tremaining: 1m 47s\n",
      "250:\tlearn: 0.8748249\ttotal: 35.8s\tremaining: 1m 46s\n",
      "251:\tlearn: 0.8748599\ttotal: 36s\tremaining: 1m 46s\n",
      "252:\tlearn: 0.8748499\ttotal: 36.1s\tremaining: 1m 46s\n",
      "253:\tlearn: 0.8748949\ttotal: 36.3s\tremaining: 1m 46s\n",
      "254:\tlearn: 0.8749600\ttotal: 36.4s\tremaining: 1m 46s\n",
      "255:\tlearn: 0.8750150\ttotal: 36.5s\tremaining: 1m 46s\n",
      "256:\tlearn: 0.8751001\ttotal: 36.7s\tremaining: 1m 46s\n",
      "257:\tlearn: 0.8751851\ttotal: 36.8s\tremaining: 1m 45s\n",
      "258:\tlearn: 0.8751901\ttotal: 37s\tremaining: 1m 45s\n",
      "259:\tlearn: 0.8752051\ttotal: 37.1s\tremaining: 1m 45s\n",
      "260:\tlearn: 0.8752552\ttotal: 37.3s\tremaining: 1m 45s\n",
      "261:\tlearn: 0.8753352\ttotal: 37.4s\tremaining: 1m 45s\n",
      "262:\tlearn: 0.8754052\ttotal: 37.5s\tremaining: 1m 45s\n",
      "263:\tlearn: 0.8754703\ttotal: 37.7s\tremaining: 1m 45s\n",
      "264:\tlearn: 0.8756154\ttotal: 37.9s\tremaining: 1m 44s\n",
      "265:\tlearn: 0.8758755\ttotal: 38s\tremaining: 1m 44s\n",
      "266:\tlearn: 0.8759155\ttotal: 38.1s\tremaining: 1m 44s\n",
      "267:\tlearn: 0.8759506\ttotal: 38.3s\tremaining: 1m 44s\n",
      "268:\tlearn: 0.8759756\ttotal: 38.4s\tremaining: 1m 44s\n",
      "269:\tlearn: 0.8761257\ttotal: 38.6s\tremaining: 1m 44s\n",
      "270:\tlearn: 0.8762207\ttotal: 38.7s\tremaining: 1m 44s\n",
      "271:\tlearn: 0.8761807\ttotal: 38.9s\tremaining: 1m 44s\n",
      "272:\tlearn: 0.8761257\ttotal: 39s\tremaining: 1m 43s\n",
      "273:\tlearn: 0.8762858\ttotal: 39.2s\tremaining: 1m 43s\n",
      "274:\tlearn: 0.8763808\ttotal: 39.3s\tremaining: 1m 43s\n",
      "275:\tlearn: 0.8764809\ttotal: 39.5s\tremaining: 1m 43s\n",
      "276:\tlearn: 0.8766160\ttotal: 39.6s\tremaining: 1m 43s\n",
      "277:\tlearn: 0.8766610\ttotal: 39.7s\tremaining: 1m 43s\n",
      "278:\tlearn: 0.8768661\ttotal: 39.9s\tremaining: 1m 43s\n",
      "279:\tlearn: 0.8769962\ttotal: 40s\tremaining: 1m 42s\n",
      "280:\tlearn: 0.8771113\ttotal: 40.2s\tremaining: 1m 42s\n",
      "281:\tlearn: 0.8771863\ttotal: 40.3s\tremaining: 1m 42s\n",
      "282:\tlearn: 0.8772864\ttotal: 40.5s\tremaining: 1m 42s\n",
      "283:\tlearn: 0.8773114\ttotal: 40.6s\tremaining: 1m 42s\n",
      "284:\tlearn: 0.8774565\ttotal: 40.8s\tremaining: 1m 42s\n",
      "285:\tlearn: 0.8774465\ttotal: 40.9s\tremaining: 1m 42s\n",
      "286:\tlearn: 0.8775315\ttotal: 41.1s\tremaining: 1m 42s\n",
      "287:\tlearn: 0.8776266\ttotal: 41.2s\tremaining: 1m 41s\n",
      "288:\tlearn: 0.8776966\ttotal: 41.4s\tremaining: 1m 41s\n",
      "289:\tlearn: 0.8777567\ttotal: 41.5s\tremaining: 1m 41s\n",
      "290:\tlearn: 0.8777917\ttotal: 41.6s\tremaining: 1m 41s\n",
      "291:\tlearn: 0.8777717\ttotal: 41.8s\tremaining: 1m 41s\n",
      "292:\tlearn: 0.8778767\ttotal: 41.9s\tremaining: 1m 41s\n",
      "293:\tlearn: 0.8779268\ttotal: 42s\tremaining: 1m 40s\n",
      "294:\tlearn: 0.8779868\ttotal: 42.2s\tremaining: 1m 40s\n",
      "295:\tlearn: 0.8779768\ttotal: 42.3s\tremaining: 1m 40s\n",
      "296:\tlearn: 0.8781019\ttotal: 42.5s\tremaining: 1m 40s\n",
      "297:\tlearn: 0.8781719\ttotal: 42.6s\tremaining: 1m 40s\n",
      "298:\tlearn: 0.8782720\ttotal: 42.8s\tremaining: 1m 40s\n",
      "299:\tlearn: 0.8783370\ttotal: 42.9s\tremaining: 1m 40s\n",
      "300:\tlearn: 0.8783720\ttotal: 43s\tremaining: 1m 39s\n",
      "301:\tlearn: 0.8783670\ttotal: 43.2s\tremaining: 1m 39s\n",
      "302:\tlearn: 0.8784321\ttotal: 43.3s\tremaining: 1m 39s\n",
      "303:\tlearn: 0.8784821\ttotal: 43.5s\tremaining: 1m 39s\n",
      "304:\tlearn: 0.8785221\ttotal: 43.6s\tremaining: 1m 39s\n",
      "305:\tlearn: 0.8786722\ttotal: 43.7s\tremaining: 1m 39s\n",
      "306:\tlearn: 0.8788623\ttotal: 43.9s\tremaining: 1m 39s\n",
      "307:\tlearn: 0.8789374\ttotal: 44s\tremaining: 1m 38s\n",
      "308:\tlearn: 0.8789624\ttotal: 44.2s\tremaining: 1m 38s\n",
      "309:\tlearn: 0.8790174\ttotal: 44.3s\tremaining: 1m 38s\n",
      "310:\tlearn: 0.8790274\ttotal: 44.5s\tremaining: 1m 38s\n",
      "311:\tlearn: 0.8791775\ttotal: 44.6s\tremaining: 1m 38s\n",
      "312:\tlearn: 0.8792275\ttotal: 44.7s\tremaining: 1m 38s\n",
      "313:\tlearn: 0.8793676\ttotal: 44.9s\tremaining: 1m 38s\n",
      "314:\tlearn: 0.8793476\ttotal: 45s\tremaining: 1m 37s\n",
      "315:\tlearn: 0.8794327\ttotal: 45.2s\tremaining: 1m 37s\n"
     ]
    },
    {
     "name": "stdout",
     "output_type": "stream",
     "text": [
      "316:\tlearn: 0.8794827\ttotal: 45.4s\tremaining: 1m 37s\n",
      "317:\tlearn: 0.8795978\ttotal: 45.5s\tremaining: 1m 37s\n",
      "318:\tlearn: 0.8796878\ttotal: 45.6s\tremaining: 1m 37s\n",
      "319:\tlearn: 0.8798179\ttotal: 45.8s\tremaining: 1m 37s\n",
      "320:\tlearn: 0.8799280\ttotal: 45.9s\tremaining: 1m 37s\n",
      "321:\tlearn: 0.8799630\ttotal: 46.1s\tremaining: 1m 37s\n",
      "322:\tlearn: 0.8799630\ttotal: 46.2s\tremaining: 1m 36s\n",
      "323:\tlearn: 0.8801181\ttotal: 46.4s\tremaining: 1m 36s\n",
      "324:\tlearn: 0.8801281\ttotal: 46.5s\tremaining: 1m 36s\n",
      "325:\tlearn: 0.8801781\ttotal: 46.6s\tremaining: 1m 36s\n",
      "326:\tlearn: 0.8802331\ttotal: 46.8s\tremaining: 1m 36s\n",
      "327:\tlearn: 0.8802982\ttotal: 46.9s\tremaining: 1m 36s\n",
      "328:\tlearn: 0.8803432\ttotal: 47.1s\tremaining: 1m 36s\n",
      "329:\tlearn: 0.8803882\ttotal: 47.2s\tremaining: 1m 35s\n",
      "330:\tlearn: 0.8804633\ttotal: 47.4s\tremaining: 1m 35s\n",
      "331:\tlearn: 0.8804733\ttotal: 47.5s\tremaining: 1m 35s\n",
      "332:\tlearn: 0.8805433\ttotal: 47.6s\tremaining: 1m 35s\n",
      "333:\tlearn: 0.8805383\ttotal: 47.8s\tremaining: 1m 35s\n",
      "334:\tlearn: 0.8807134\ttotal: 47.9s\tremaining: 1m 35s\n",
      "335:\tlearn: 0.8808135\ttotal: 48.1s\tremaining: 1m 34s\n",
      "336:\tlearn: 0.8807835\ttotal: 48.2s\tremaining: 1m 34s\n",
      "337:\tlearn: 0.8808735\ttotal: 48.4s\tremaining: 1m 34s\n",
      "338:\tlearn: 0.8808935\ttotal: 48.5s\tremaining: 1m 34s\n",
      "339:\tlearn: 0.8810336\ttotal: 48.6s\tremaining: 1m 34s\n",
      "340:\tlearn: 0.8810736\ttotal: 48.8s\tremaining: 1m 34s\n",
      "341:\tlearn: 0.8810436\ttotal: 48.9s\tremaining: 1m 34s\n",
      "342:\tlearn: 0.8811887\ttotal: 49.1s\tremaining: 1m 34s\n",
      "343:\tlearn: 0.8811937\ttotal: 49.2s\tremaining: 1m 33s\n",
      "344:\tlearn: 0.8811737\ttotal: 49.4s\tremaining: 1m 33s\n",
      "345:\tlearn: 0.8812838\ttotal: 49.5s\tremaining: 1m 33s\n",
      "346:\tlearn: 0.8813388\ttotal: 49.7s\tremaining: 1m 33s\n",
      "347:\tlearn: 0.8814339\ttotal: 49.8s\tremaining: 1m 33s\n",
      "348:\tlearn: 0.8814389\ttotal: 49.9s\tremaining: 1m 33s\n",
      "349:\tlearn: 0.8815089\ttotal: 50.1s\tremaining: 1m 33s\n",
      "350:\tlearn: 0.8816290\ttotal: 50.2s\tremaining: 1m 32s\n",
      "351:\tlearn: 0.8816940\ttotal: 50.4s\tremaining: 1m 32s\n",
      "352:\tlearn: 0.8817841\ttotal: 50.5s\tremaining: 1m 32s\n",
      "353:\tlearn: 0.8817891\ttotal: 50.7s\tremaining: 1m 32s\n",
      "354:\tlearn: 0.8818791\ttotal: 50.8s\tremaining: 1m 32s\n",
      "355:\tlearn: 0.8819392\ttotal: 51s\tremaining: 1m 32s\n",
      "356:\tlearn: 0.8819392\ttotal: 51.1s\tremaining: 1m 32s\n",
      "357:\tlearn: 0.8819942\ttotal: 51.2s\tremaining: 1m 31s\n",
      "358:\tlearn: 0.8821043\ttotal: 51.4s\tremaining: 1m 31s\n",
      "359:\tlearn: 0.8821193\ttotal: 51.5s\tremaining: 1m 31s\n",
      "360:\tlearn: 0.8821343\ttotal: 51.6s\tremaining: 1m 31s\n",
      "361:\tlearn: 0.8821943\ttotal: 51.8s\tremaining: 1m 31s\n",
      "362:\tlearn: 0.8822794\ttotal: 51.9s\tremaining: 1m 31s\n",
      "363:\tlearn: 0.8823694\ttotal: 52.1s\tremaining: 1m 30s\n",
      "364:\tlearn: 0.8824445\ttotal: 52.2s\tremaining: 1m 30s\n",
      "365:\tlearn: 0.8825045\ttotal: 52.4s\tremaining: 1m 30s\n",
      "366:\tlearn: 0.8826696\ttotal: 52.5s\tremaining: 1m 30s\n",
      "367:\tlearn: 0.8826596\ttotal: 52.7s\tremaining: 1m 30s\n",
      "368:\tlearn: 0.8826696\ttotal: 52.8s\tremaining: 1m 30s\n",
      "369:\tlearn: 0.8827346\ttotal: 52.9s\tremaining: 1m 30s\n",
      "370:\tlearn: 0.8828347\ttotal: 53.1s\tremaining: 1m 29s\n",
      "371:\tlearn: 0.8828797\ttotal: 53.2s\tremaining: 1m 29s\n",
      "372:\tlearn: 0.8828847\ttotal: 53.3s\tremaining: 1m 29s\n",
      "373:\tlearn: 0.8828947\ttotal: 53.5s\tremaining: 1m 29s\n",
      "374:\tlearn: 0.8829448\ttotal: 53.6s\tremaining: 1m 29s\n",
      "375:\tlearn: 0.8830048\ttotal: 53.8s\tremaining: 1m 29s\n",
      "376:\tlearn: 0.8830949\ttotal: 53.9s\tremaining: 1m 29s\n",
      "377:\tlearn: 0.8830648\ttotal: 54.1s\tremaining: 1m 28s\n",
      "378:\tlearn: 0.8830899\ttotal: 54.2s\tremaining: 1m 28s\n",
      "379:\tlearn: 0.8831449\ttotal: 54.3s\tremaining: 1m 28s\n",
      "380:\tlearn: 0.8831299\ttotal: 54.5s\tremaining: 1m 28s\n",
      "381:\tlearn: 0.8832149\ttotal: 54.6s\tremaining: 1m 28s\n",
      "382:\tlearn: 0.8832149\ttotal: 54.7s\tremaining: 1m 28s\n",
      "383:\tlearn: 0.8832349\ttotal: 54.9s\tremaining: 1m 28s\n",
      "384:\tlearn: 0.8832650\ttotal: 55s\tremaining: 1m 27s\n",
      "385:\tlearn: 0.8833600\ttotal: 55.2s\tremaining: 1m 27s\n",
      "386:\tlearn: 0.8834150\ttotal: 55.3s\tremaining: 1m 27s\n",
      "387:\tlearn: 0.8834751\ttotal: 55.5s\tremaining: 1m 27s\n",
      "388:\tlearn: 0.8835151\ttotal: 55.6s\tremaining: 1m 27s\n",
      "389:\tlearn: 0.8835451\ttotal: 55.7s\tremaining: 1m 27s\n",
      "390:\tlearn: 0.8835501\ttotal: 55.9s\tremaining: 1m 27s\n",
      "391:\tlearn: 0.8835902\ttotal: 56s\tremaining: 1m 26s\n",
      "392:\tlearn: 0.8836502\ttotal: 56.1s\tremaining: 1m 26s\n",
      "393:\tlearn: 0.8836752\ttotal: 56.3s\tremaining: 1m 26s\n",
      "394:\tlearn: 0.8836702\ttotal: 56.4s\tremaining: 1m 26s\n",
      "395:\tlearn: 0.8837553\ttotal: 56.6s\tremaining: 1m 26s\n",
      "396:\tlearn: 0.8838253\ttotal: 56.7s\tremaining: 1m 26s\n",
      "397:\tlearn: 0.8838053\ttotal: 56.8s\tremaining: 1m 25s\n",
      "398:\tlearn: 0.8838353\ttotal: 57s\tremaining: 1m 25s\n",
      "399:\tlearn: 0.8838503\ttotal: 57.1s\tremaining: 1m 25s\n",
      "400:\tlearn: 0.8838503\ttotal: 57.3s\tremaining: 1m 25s\n",
      "401:\tlearn: 0.8839053\ttotal: 57.4s\tremaining: 1m 25s\n",
      "402:\tlearn: 0.8839103\ttotal: 57.5s\tremaining: 1m 25s\n",
      "403:\tlearn: 0.8839404\ttotal: 57.7s\tremaining: 1m 25s\n",
      "404:\tlearn: 0.8840154\ttotal: 57.8s\tremaining: 1m 24s\n",
      "405:\tlearn: 0.8840304\ttotal: 57.9s\tremaining: 1m 24s\n",
      "406:\tlearn: 0.8841305\ttotal: 58.1s\tremaining: 1m 24s\n",
      "407:\tlearn: 0.8841405\ttotal: 58.2s\tremaining: 1m 24s\n",
      "408:\tlearn: 0.8841605\ttotal: 58.4s\tremaining: 1m 24s\n",
      "409:\tlearn: 0.8842806\ttotal: 58.5s\tremaining: 1m 24s\n",
      "410:\tlearn: 0.8842656\ttotal: 58.7s\tremaining: 1m 24s\n",
      "411:\tlearn: 0.8843756\ttotal: 58.8s\tremaining: 1m 23s\n",
      "412:\tlearn: 0.8843956\ttotal: 59s\tremaining: 1m 23s\n",
      "413:\tlearn: 0.8844657\ttotal: 59.1s\tremaining: 1m 23s\n",
      "414:\tlearn: 0.8845007\ttotal: 59.3s\tremaining: 1m 23s\n",
      "415:\tlearn: 0.8845257\ttotal: 59.4s\tremaining: 1m 23s\n",
      "416:\tlearn: 0.8845807\ttotal: 59.5s\tremaining: 1m 23s\n",
      "417:\tlearn: 0.8846758\ttotal: 59.7s\tremaining: 1m 23s\n",
      "418:\tlearn: 0.8847158\ttotal: 59.9s\tremaining: 1m 22s\n",
      "419:\tlearn: 0.8847609\ttotal: 60s\tremaining: 1m 22s\n",
      "420:\tlearn: 0.8849109\ttotal: 1m\tremaining: 1m 22s\n",
      "421:\tlearn: 0.8849410\ttotal: 1m\tremaining: 1m 22s\n",
      "422:\tlearn: 0.8849860\ttotal: 1m\tremaining: 1m 22s\n",
      "423:\tlearn: 0.8850510\ttotal: 1m\tremaining: 1m 22s\n",
      "424:\tlearn: 0.8850360\ttotal: 1m\tremaining: 1m 22s\n",
      "425:\tlearn: 0.8851011\ttotal: 1m\tremaining: 1m 22s\n",
      "426:\tlearn: 0.8851311\ttotal: 1m 1s\tremaining: 1m 21s\n",
      "427:\tlearn: 0.8851511\ttotal: 1m 1s\tremaining: 1m 21s\n",
      "428:\tlearn: 0.8852111\ttotal: 1m 1s\tremaining: 1m 21s\n",
      "429:\tlearn: 0.8852011\ttotal: 1m 1s\tremaining: 1m 21s\n",
      "430:\tlearn: 0.8853012\ttotal: 1m 1s\tremaining: 1m 21s\n",
      "431:\tlearn: 0.8853362\ttotal: 1m 1s\tremaining: 1m 21s\n",
      "432:\tlearn: 0.8854263\ttotal: 1m 1s\tremaining: 1m 21s\n",
      "433:\tlearn: 0.8854763\ttotal: 1m 2s\tremaining: 1m 20s\n",
      "434:\tlearn: 0.8855563\ttotal: 1m 2s\tremaining: 1m 20s\n",
      "435:\tlearn: 0.8856314\ttotal: 1m 2s\tremaining: 1m 20s\n",
      "436:\tlearn: 0.8857114\ttotal: 1m 2s\tremaining: 1m 20s\n",
      "437:\tlearn: 0.8857765\ttotal: 1m 2s\tremaining: 1m 20s\n",
      "438:\tlearn: 0.8858215\ttotal: 1m 2s\tremaining: 1m 20s\n",
      "439:\tlearn: 0.8858815\ttotal: 1m 2s\tremaining: 1m 20s\n",
      "440:\tlearn: 0.8859316\ttotal: 1m 3s\tremaining: 1m 19s\n",
      "441:\tlearn: 0.8859616\ttotal: 1m 3s\tremaining: 1m 19s\n",
      "442:\tlearn: 0.8859866\ttotal: 1m 3s\tremaining: 1m 19s\n",
      "443:\tlearn: 0.8860516\ttotal: 1m 3s\tremaining: 1m 19s\n",
      "444:\tlearn: 0.8861017\ttotal: 1m 3s\tremaining: 1m 19s\n",
      "445:\tlearn: 0.8860266\ttotal: 1m 3s\tremaining: 1m 19s\n",
      "446:\tlearn: 0.8860716\ttotal: 1m 3s\tremaining: 1m 19s\n",
      "447:\tlearn: 0.8862017\ttotal: 1m 4s\tremaining: 1m 18s\n",
      "448:\tlearn: 0.8863018\ttotal: 1m 4s\tremaining: 1m 18s\n",
      "449:\tlearn: 0.8863118\ttotal: 1m 4s\tremaining: 1m 18s\n",
      "450:\tlearn: 0.8863068\ttotal: 1m 4s\tremaining: 1m 18s\n",
      "451:\tlearn: 0.8863668\ttotal: 1m 4s\tremaining: 1m 18s\n",
      "452:\tlearn: 0.8863668\ttotal: 1m 4s\tremaining: 1m 18s\n",
      "453:\tlearn: 0.8864219\ttotal: 1m 4s\tremaining: 1m 17s\n",
      "454:\tlearn: 0.8864869\ttotal: 1m 4s\tremaining: 1m 17s\n",
      "455:\tlearn: 0.8865219\ttotal: 1m 5s\tremaining: 1m 17s\n",
      "456:\tlearn: 0.8865920\ttotal: 1m 5s\tremaining: 1m 17s\n",
      "457:\tlearn: 0.8866570\ttotal: 1m 5s\tremaining: 1m 17s\n",
      "458:\tlearn: 0.8866920\ttotal: 1m 5s\tremaining: 1m 17s\n",
      "459:\tlearn: 0.8867320\ttotal: 1m 5s\tremaining: 1m 17s\n",
      "460:\tlearn: 0.8867871\ttotal: 1m 5s\tremaining: 1m 16s\n",
      "461:\tlearn: 0.8868171\ttotal: 1m 5s\tremaining: 1m 16s\n",
      "462:\tlearn: 0.8868671\ttotal: 1m 6s\tremaining: 1m 16s\n",
      "463:\tlearn: 0.8868871\ttotal: 1m 6s\tremaining: 1m 16s\n",
      "464:\tlearn: 0.8869972\ttotal: 1m 6s\tremaining: 1m 16s\n",
      "465:\tlearn: 0.8870522\ttotal: 1m 6s\tremaining: 1m 16s\n",
      "466:\tlearn: 0.8871723\ttotal: 1m 6s\tremaining: 1m 16s\n",
      "467:\tlearn: 0.8872624\ttotal: 1m 6s\tremaining: 1m 16s\n",
      "468:\tlearn: 0.8872874\ttotal: 1m 7s\tremaining: 1m 15s\n",
      "469:\tlearn: 0.8873774\ttotal: 1m 7s\tremaining: 1m 15s\n",
      "470:\tlearn: 0.8874675\ttotal: 1m 7s\tremaining: 1m 15s\n",
      "471:\tlearn: 0.8875025\ttotal: 1m 7s\tremaining: 1m 15s\n"
     ]
    },
    {
     "name": "stdout",
     "output_type": "stream",
     "text": [
      "472:\tlearn: 0.8876126\ttotal: 1m 7s\tremaining: 1m 15s\n",
      "473:\tlearn: 0.8876376\ttotal: 1m 7s\tremaining: 1m 15s\n",
      "474:\tlearn: 0.8876526\ttotal: 1m 7s\tremaining: 1m 14s\n",
      "475:\tlearn: 0.8876876\ttotal: 1m 7s\tremaining: 1m 14s\n",
      "476:\tlearn: 0.8877226\ttotal: 1m 8s\tremaining: 1m 14s\n",
      "477:\tlearn: 0.8877026\ttotal: 1m 8s\tremaining: 1m 14s\n",
      "478:\tlearn: 0.8878677\ttotal: 1m 8s\tremaining: 1m 14s\n",
      "479:\tlearn: 0.8879027\ttotal: 1m 8s\tremaining: 1m 14s\n",
      "480:\tlearn: 0.8879278\ttotal: 1m 8s\tremaining: 1m 14s\n",
      "481:\tlearn: 0.8879428\ttotal: 1m 8s\tremaining: 1m 13s\n",
      "482:\tlearn: 0.8879278\ttotal: 1m 8s\tremaining: 1m 13s\n",
      "483:\tlearn: 0.8879478\ttotal: 1m 9s\tremaining: 1m 13s\n",
      "484:\tlearn: 0.8881179\ttotal: 1m 9s\tremaining: 1m 13s\n",
      "485:\tlearn: 0.8881629\ttotal: 1m 9s\tremaining: 1m 13s\n",
      "486:\tlearn: 0.8881779\ttotal: 1m 9s\tremaining: 1m 13s\n",
      "487:\tlearn: 0.8882530\ttotal: 1m 9s\tremaining: 1m 13s\n",
      "488:\tlearn: 0.8882630\ttotal: 1m 9s\tremaining: 1m 12s\n",
      "489:\tlearn: 0.8883380\ttotal: 1m 9s\tremaining: 1m 12s\n",
      "490:\tlearn: 0.8883780\ttotal: 1m 10s\tremaining: 1m 12s\n",
      "491:\tlearn: 0.8884831\ttotal: 1m 10s\tremaining: 1m 12s\n",
      "492:\tlearn: 0.8885131\ttotal: 1m 10s\tremaining: 1m 12s\n",
      "493:\tlearn: 0.8885882\ttotal: 1m 10s\tremaining: 1m 12s\n",
      "494:\tlearn: 0.8886282\ttotal: 1m 10s\tremaining: 1m 12s\n",
      "495:\tlearn: 0.8886482\ttotal: 1m 10s\tremaining: 1m 11s\n",
      "496:\tlearn: 0.8887082\ttotal: 1m 10s\tremaining: 1m 11s\n",
      "497:\tlearn: 0.8887583\ttotal: 1m 11s\tremaining: 1m 11s\n",
      "498:\tlearn: 0.8888083\ttotal: 1m 11s\tremaining: 1m 11s\n",
      "499:\tlearn: 0.8888533\ttotal: 1m 11s\tremaining: 1m 11s\n",
      "500:\tlearn: 0.8888783\ttotal: 1m 11s\tremaining: 1m 11s\n",
      "501:\tlearn: 0.8888583\ttotal: 1m 11s\tremaining: 1m 11s\n",
      "502:\tlearn: 0.8889534\ttotal: 1m 11s\tremaining: 1m 10s\n",
      "503:\tlearn: 0.8889884\ttotal: 1m 11s\tremaining: 1m 10s\n",
      "504:\tlearn: 0.8890034\ttotal: 1m 12s\tremaining: 1m 10s\n",
      "505:\tlearn: 0.8890084\ttotal: 1m 12s\tremaining: 1m 10s\n",
      "506:\tlearn: 0.8891235\ttotal: 1m 12s\tremaining: 1m 10s\n",
      "507:\tlearn: 0.8892185\ttotal: 1m 12s\tremaining: 1m 10s\n",
      "508:\tlearn: 0.8893036\ttotal: 1m 12s\tremaining: 1m 10s\n",
      "509:\tlearn: 0.8892886\ttotal: 1m 12s\tremaining: 1m 10s\n",
      "510:\tlearn: 0.8894337\ttotal: 1m 13s\tremaining: 1m 9s\n",
      "511:\tlearn: 0.8894787\ttotal: 1m 13s\tremaining: 1m 9s\n",
      "512:\tlearn: 0.8895737\ttotal: 1m 13s\tremaining: 1m 9s\n",
      "513:\tlearn: 0.8895487\ttotal: 1m 13s\tremaining: 1m 9s\n",
      "514:\tlearn: 0.8896138\ttotal: 1m 13s\tremaining: 1m 9s\n",
      "515:\tlearn: 0.8896438\ttotal: 1m 13s\tremaining: 1m 9s\n",
      "516:\tlearn: 0.8897539\ttotal: 1m 13s\tremaining: 1m 9s\n",
      "517:\tlearn: 0.8898089\ttotal: 1m 14s\tremaining: 1m 8s\n",
      "518:\tlearn: 0.8899840\ttotal: 1m 14s\tremaining: 1m 8s\n",
      "519:\tlearn: 0.8900590\ttotal: 1m 14s\tremaining: 1m 8s\n",
      "520:\tlearn: 0.8900790\ttotal: 1m 14s\tremaining: 1m 8s\n",
      "521:\tlearn: 0.8901841\ttotal: 1m 14s\tremaining: 1m 8s\n",
      "522:\tlearn: 0.8902091\ttotal: 1m 14s\tremaining: 1m 8s\n",
      "523:\tlearn: 0.8903292\ttotal: 1m 14s\tremaining: 1m 8s\n",
      "524:\tlearn: 0.8903742\ttotal: 1m 15s\tremaining: 1m 7s\n",
      "525:\tlearn: 0.8904142\ttotal: 1m 15s\tremaining: 1m 7s\n",
      "526:\tlearn: 0.8904393\ttotal: 1m 15s\tremaining: 1m 7s\n",
      "527:\tlearn: 0.8905393\ttotal: 1m 15s\tremaining: 1m 7s\n",
      "528:\tlearn: 0.8905643\ttotal: 1m 15s\tremaining: 1m 7s\n",
      "529:\tlearn: 0.8907144\ttotal: 1m 15s\tremaining: 1m 7s\n",
      "530:\tlearn: 0.8906794\ttotal: 1m 15s\tremaining: 1m 7s\n",
      "531:\tlearn: 0.8907695\ttotal: 1m 16s\tremaining: 1m 6s\n",
      "532:\tlearn: 0.8907845\ttotal: 1m 16s\tremaining: 1m 6s\n",
      "533:\tlearn: 0.8907795\ttotal: 1m 16s\tremaining: 1m 6s\n",
      "534:\tlearn: 0.8907845\ttotal: 1m 16s\tremaining: 1m 6s\n",
      "535:\tlearn: 0.8909696\ttotal: 1m 16s\tremaining: 1m 6s\n",
      "536:\tlearn: 0.8910246\ttotal: 1m 16s\tremaining: 1m 6s\n",
      "537:\tlearn: 0.8910446\ttotal: 1m 16s\tremaining: 1m 6s\n",
      "538:\tlearn: 0.8911447\ttotal: 1m 17s\tremaining: 1m 5s\n",
      "539:\tlearn: 0.8912097\ttotal: 1m 17s\tremaining: 1m 5s\n",
      "540:\tlearn: 0.8912097\ttotal: 1m 17s\tremaining: 1m 5s\n",
      "541:\tlearn: 0.8912648\ttotal: 1m 17s\tremaining: 1m 5s\n",
      "542:\tlearn: 0.8912948\ttotal: 1m 17s\tremaining: 1m 5s\n",
      "543:\tlearn: 0.8913248\ttotal: 1m 17s\tremaining: 1m 5s\n",
      "544:\tlearn: 0.8913548\ttotal: 1m 17s\tremaining: 1m 5s\n",
      "545:\tlearn: 0.8913748\ttotal: 1m 18s\tremaining: 1m 4s\n",
      "546:\tlearn: 0.8914048\ttotal: 1m 18s\tremaining: 1m 4s\n",
      "547:\tlearn: 0.8914499\ttotal: 1m 18s\tremaining: 1m 4s\n",
      "548:\tlearn: 0.8914699\ttotal: 1m 18s\tremaining: 1m 4s\n",
      "549:\tlearn: 0.8914549\ttotal: 1m 18s\tremaining: 1m 4s\n",
      "550:\tlearn: 0.8915749\ttotal: 1m 18s\tremaining: 1m 4s\n",
      "551:\tlearn: 0.8916350\ttotal: 1m 18s\tremaining: 1m 4s\n",
      "552:\tlearn: 0.8917450\ttotal: 1m 19s\tremaining: 1m 3s\n",
      "553:\tlearn: 0.8918851\ttotal: 1m 19s\tremaining: 1m 3s\n",
      "554:\tlearn: 0.8919051\ttotal: 1m 19s\tremaining: 1m 3s\n",
      "555:\tlearn: 0.8920202\ttotal: 1m 19s\tremaining: 1m 3s\n",
      "556:\tlearn: 0.8920602\ttotal: 1m 19s\tremaining: 1m 3s\n",
      "557:\tlearn: 0.8921303\ttotal: 1m 19s\tremaining: 1m 3s\n",
      "558:\tlearn: 0.8921203\ttotal: 1m 19s\tremaining: 1m 3s\n",
      "559:\tlearn: 0.8921053\ttotal: 1m 20s\tremaining: 1m 2s\n",
      "560:\tlearn: 0.8921603\ttotal: 1m 20s\tremaining: 1m 2s\n",
      "561:\tlearn: 0.8922003\ttotal: 1m 20s\tremaining: 1m 2s\n",
      "562:\tlearn: 0.8921953\ttotal: 1m 20s\tremaining: 1m 2s\n",
      "563:\tlearn: 0.8921503\ttotal: 1m 20s\tremaining: 1m 2s\n",
      "564:\tlearn: 0.8921903\ttotal: 1m 20s\tremaining: 1m 2s\n",
      "565:\tlearn: 0.8923054\ttotal: 1m 21s\tremaining: 1m 2s\n",
      "566:\tlearn: 0.8923304\ttotal: 1m 21s\tremaining: 1m 1s\n",
      "567:\tlearn: 0.8923704\ttotal: 1m 21s\tremaining: 1m 1s\n",
      "568:\tlearn: 0.8923604\ttotal: 1m 21s\tremaining: 1m 1s\n",
      "569:\tlearn: 0.8924405\ttotal: 1m 21s\tremaining: 1m 1s\n",
      "570:\tlearn: 0.8924255\ttotal: 1m 21s\tremaining: 1m 1s\n",
      "571:\tlearn: 0.8925205\ttotal: 1m 21s\tremaining: 1m 1s\n",
      "572:\tlearn: 0.8925505\ttotal: 1m 22s\tremaining: 1m 1s\n",
      "573:\tlearn: 0.8925805\ttotal: 1m 22s\tremaining: 1m\n",
      "574:\tlearn: 0.8926556\ttotal: 1m 22s\tremaining: 1m\n",
      "575:\tlearn: 0.8927507\ttotal: 1m 22s\tremaining: 1m\n",
      "576:\tlearn: 0.8927306\ttotal: 1m 22s\tremaining: 1m\n",
      "577:\tlearn: 0.8929107\ttotal: 1m 22s\tremaining: 1m\n",
      "578:\tlearn: 0.8929258\ttotal: 1m 22s\tremaining: 1m\n",
      "579:\tlearn: 0.8930358\ttotal: 1m 23s\tremaining: 1m\n",
      "580:\tlearn: 0.8930708\ttotal: 1m 23s\tremaining: 1m\n",
      "581:\tlearn: 0.8930508\ttotal: 1m 23s\tremaining: 59.9s\n",
      "582:\tlearn: 0.8931909\ttotal: 1m 23s\tremaining: 59.7s\n",
      "583:\tlearn: 0.8932710\ttotal: 1m 23s\tremaining: 59.6s\n",
      "584:\tlearn: 0.8932760\ttotal: 1m 23s\tremaining: 59.4s\n",
      "585:\tlearn: 0.8932259\ttotal: 1m 23s\tremaining: 59.3s\n",
      "586:\tlearn: 0.8933410\ttotal: 1m 24s\tremaining: 59.1s\n",
      "587:\tlearn: 0.8933310\ttotal: 1m 24s\tremaining: 59s\n",
      "588:\tlearn: 0.8933760\ttotal: 1m 24s\tremaining: 58.9s\n",
      "589:\tlearn: 0.8933960\ttotal: 1m 24s\tremaining: 58.7s\n",
      "590:\tlearn: 0.8934110\ttotal: 1m 24s\tremaining: 58.6s\n",
      "591:\tlearn: 0.8934611\ttotal: 1m 24s\tremaining: 58.4s\n",
      "592:\tlearn: 0.8934661\ttotal: 1m 24s\tremaining: 58.3s\n",
      "593:\tlearn: 0.8935511\ttotal: 1m 25s\tremaining: 58.1s\n",
      "594:\tlearn: 0.8935561\ttotal: 1m 25s\tremaining: 58s\n",
      "595:\tlearn: 0.8936462\ttotal: 1m 25s\tremaining: 57.9s\n",
      "596:\tlearn: 0.8937462\ttotal: 1m 25s\tremaining: 57.7s\n",
      "597:\tlearn: 0.8937563\ttotal: 1m 25s\tremaining: 57.6s\n",
      "598:\tlearn: 0.8937713\ttotal: 1m 25s\tremaining: 57.4s\n",
      "599:\tlearn: 0.8938363\ttotal: 1m 25s\tremaining: 57.3s\n",
      "600:\tlearn: 0.8939013\ttotal: 1m 26s\tremaining: 57.2s\n",
      "601:\tlearn: 0.8939013\ttotal: 1m 26s\tremaining: 57s\n",
      "602:\tlearn: 0.8939314\ttotal: 1m 26s\tremaining: 56.9s\n",
      "603:\tlearn: 0.8939063\ttotal: 1m 26s\tremaining: 56.7s\n",
      "604:\tlearn: 0.8941065\ttotal: 1m 26s\tremaining: 56.6s\n",
      "605:\tlearn: 0.8941215\ttotal: 1m 26s\tremaining: 56.4s\n",
      "606:\tlearn: 0.8942415\ttotal: 1m 26s\tremaining: 56.3s\n",
      "607:\tlearn: 0.8942816\ttotal: 1m 27s\tremaining: 56.2s\n",
      "608:\tlearn: 0.8942816\ttotal: 1m 27s\tremaining: 56s\n",
      "609:\tlearn: 0.8943416\ttotal: 1m 27s\tremaining: 55.9s\n",
      "610:\tlearn: 0.8943616\ttotal: 1m 27s\tremaining: 55.7s\n",
      "611:\tlearn: 0.8944016\ttotal: 1m 27s\tremaining: 55.6s\n",
      "612:\tlearn: 0.8944116\ttotal: 1m 27s\tremaining: 55.5s\n",
      "613:\tlearn: 0.8945017\ttotal: 1m 27s\tremaining: 55.3s\n",
      "614:\tlearn: 0.8945717\ttotal: 1m 28s\tremaining: 55.2s\n",
      "615:\tlearn: 0.8946018\ttotal: 1m 28s\tremaining: 55s\n",
      "616:\tlearn: 0.8946668\ttotal: 1m 28s\tremaining: 54.9s\n",
      "617:\tlearn: 0.8948469\ttotal: 1m 28s\tremaining: 54.7s\n",
      "618:\tlearn: 0.8948669\ttotal: 1m 28s\tremaining: 54.6s\n",
      "619:\tlearn: 0.8948569\ttotal: 1m 28s\tremaining: 54.4s\n",
      "620:\tlearn: 0.8949470\ttotal: 1m 28s\tremaining: 54.3s\n",
      "621:\tlearn: 0.8949570\ttotal: 1m 29s\tremaining: 54.2s\n",
      "622:\tlearn: 0.8949870\ttotal: 1m 29s\tremaining: 54s\n",
      "623:\tlearn: 0.8949970\ttotal: 1m 29s\tremaining: 53.9s\n",
      "624:\tlearn: 0.8950120\ttotal: 1m 29s\tremaining: 53.7s\n",
      "625:\tlearn: 0.8950220\ttotal: 1m 29s\tremaining: 53.6s\n",
      "626:\tlearn: 0.8950220\ttotal: 1m 29s\tremaining: 53.4s\n",
      "627:\tlearn: 0.8950420\ttotal: 1m 29s\tremaining: 53.3s\n"
     ]
    },
    {
     "name": "stdout",
     "output_type": "stream",
     "text": [
      "628:\tlearn: 0.8950921\ttotal: 1m 30s\tremaining: 53.1s\n",
      "629:\tlearn: 0.8950971\ttotal: 1m 30s\tremaining: 53s\n",
      "630:\tlearn: 0.8952371\ttotal: 1m 30s\tremaining: 52.9s\n",
      "631:\tlearn: 0.8952572\ttotal: 1m 30s\tremaining: 52.7s\n",
      "632:\tlearn: 0.8952772\ttotal: 1m 30s\tremaining: 52.5s\n",
      "633:\tlearn: 0.8952421\ttotal: 1m 30s\tremaining: 52.4s\n",
      "634:\tlearn: 0.8952522\ttotal: 1m 30s\tremaining: 52.3s\n",
      "635:\tlearn: 0.8953372\ttotal: 1m 31s\tremaining: 52.1s\n",
      "636:\tlearn: 0.8953322\ttotal: 1m 31s\tremaining: 52s\n",
      "637:\tlearn: 0.8953572\ttotal: 1m 31s\tremaining: 51.8s\n",
      "638:\tlearn: 0.8953922\ttotal: 1m 31s\tremaining: 51.7s\n",
      "639:\tlearn: 0.8954973\ttotal: 1m 31s\tremaining: 51.5s\n",
      "640:\tlearn: 0.8954823\ttotal: 1m 31s\tremaining: 51.4s\n",
      "641:\tlearn: 0.8955323\ttotal: 1m 31s\tremaining: 51.3s\n",
      "642:\tlearn: 0.8955523\ttotal: 1m 32s\tremaining: 51.1s\n",
      "643:\tlearn: 0.8955523\ttotal: 1m 32s\tremaining: 51s\n",
      "644:\tlearn: 0.8955523\ttotal: 1m 32s\tremaining: 50.8s\n",
      "645:\tlearn: 0.8955773\ttotal: 1m 32s\tremaining: 50.7s\n",
      "646:\tlearn: 0.8956324\ttotal: 1m 32s\tremaining: 50.5s\n",
      "647:\tlearn: 0.8956674\ttotal: 1m 32s\tremaining: 50.4s\n",
      "648:\tlearn: 0.8956774\ttotal: 1m 32s\tremaining: 50.3s\n",
      "649:\tlearn: 0.8956474\ttotal: 1m 33s\tremaining: 50.1s\n",
      "650:\tlearn: 0.8956974\ttotal: 1m 33s\tremaining: 50s\n",
      "651:\tlearn: 0.8957224\ttotal: 1m 33s\tremaining: 49.8s\n",
      "652:\tlearn: 0.8957625\ttotal: 1m 33s\tremaining: 49.7s\n",
      "653:\tlearn: 0.8957975\ttotal: 1m 33s\tremaining: 49.5s\n",
      "654:\tlearn: 0.8957925\ttotal: 1m 33s\tremaining: 49.4s\n",
      "655:\tlearn: 0.8958775\ttotal: 1m 33s\tremaining: 49.3s\n",
      "656:\tlearn: 0.8958825\ttotal: 1m 34s\tremaining: 49.1s\n",
      "657:\tlearn: 0.8958925\ttotal: 1m 34s\tremaining: 49s\n",
      "658:\tlearn: 0.8959876\ttotal: 1m 34s\tremaining: 48.8s\n",
      "659:\tlearn: 0.8960276\ttotal: 1m 34s\tremaining: 48.7s\n",
      "660:\tlearn: 0.8960726\ttotal: 1m 34s\tremaining: 48.5s\n",
      "661:\tlearn: 0.8961177\ttotal: 1m 34s\tremaining: 48.4s\n",
      "662:\tlearn: 0.8961077\ttotal: 1m 34s\tremaining: 48.2s\n",
      "663:\tlearn: 0.8961827\ttotal: 1m 35s\tremaining: 48.1s\n",
      "664:\tlearn: 0.8962027\ttotal: 1m 35s\tremaining: 47.9s\n",
      "665:\tlearn: 0.8962127\ttotal: 1m 35s\tremaining: 47.8s\n",
      "666:\tlearn: 0.8962978\ttotal: 1m 35s\tremaining: 47.6s\n",
      "667:\tlearn: 0.8963178\ttotal: 1m 35s\tremaining: 47.5s\n",
      "668:\tlearn: 0.8964429\ttotal: 1m 35s\tremaining: 47.4s\n",
      "669:\tlearn: 0.8964829\ttotal: 1m 35s\tremaining: 47.2s\n",
      "670:\tlearn: 0.8966380\ttotal: 1m 36s\tremaining: 47.1s\n",
      "671:\tlearn: 0.8966630\ttotal: 1m 36s\tremaining: 46.9s\n",
      "672:\tlearn: 0.8966730\ttotal: 1m 36s\tremaining: 46.8s\n",
      "673:\tlearn: 0.8967430\ttotal: 1m 36s\tremaining: 46.7s\n",
      "674:\tlearn: 0.8967831\ttotal: 1m 36s\tremaining: 46.5s\n",
      "675:\tlearn: 0.8968131\ttotal: 1m 36s\tremaining: 46.4s\n",
      "676:\tlearn: 0.8969382\ttotal: 1m 36s\tremaining: 46.2s\n",
      "677:\tlearn: 0.8969782\ttotal: 1m 37s\tremaining: 46.1s\n",
      "678:\tlearn: 0.8970432\ttotal: 1m 37s\tremaining: 45.9s\n",
      "679:\tlearn: 0.8971483\ttotal: 1m 37s\tremaining: 45.8s\n",
      "680:\tlearn: 0.8972133\ttotal: 1m 37s\tremaining: 45.7s\n",
      "681:\tlearn: 0.8972183\ttotal: 1m 37s\tremaining: 45.5s\n",
      "682:\tlearn: 0.8973384\ttotal: 1m 37s\tremaining: 45.4s\n",
      "683:\tlearn: 0.8973584\ttotal: 1m 37s\tremaining: 45.2s\n",
      "684:\tlearn: 0.8973534\ttotal: 1m 38s\tremaining: 45.1s\n",
      "685:\tlearn: 0.8974285\ttotal: 1m 38s\tremaining: 44.9s\n",
      "686:\tlearn: 0.8974435\ttotal: 1m 38s\tremaining: 44.8s\n",
      "687:\tlearn: 0.8975035\ttotal: 1m 38s\tremaining: 44.7s\n",
      "688:\tlearn: 0.8974935\ttotal: 1m 38s\tremaining: 44.5s\n",
      "689:\tlearn: 0.8975785\ttotal: 1m 38s\tremaining: 44.4s\n",
      "690:\tlearn: 0.8976736\ttotal: 1m 38s\tremaining: 44.2s\n",
      "691:\tlearn: 0.8977286\ttotal: 1m 39s\tremaining: 44.1s\n",
      "692:\tlearn: 0.8977336\ttotal: 1m 39s\tremaining: 43.9s\n",
      "693:\tlearn: 0.8977286\ttotal: 1m 39s\tremaining: 43.8s\n",
      "694:\tlearn: 0.8978287\ttotal: 1m 39s\tremaining: 43.7s\n",
      "695:\tlearn: 0.8978537\ttotal: 1m 39s\tremaining: 43.5s\n",
      "696:\tlearn: 0.8978837\ttotal: 1m 39s\tremaining: 43.4s\n",
      "697:\tlearn: 0.8979338\ttotal: 1m 39s\tremaining: 43.2s\n",
      "698:\tlearn: 0.8979688\ttotal: 1m 40s\tremaining: 43.1s\n",
      "699:\tlearn: 0.8980588\ttotal: 1m 40s\tremaining: 43s\n",
      "700:\tlearn: 0.8980588\ttotal: 1m 40s\tremaining: 42.8s\n",
      "701:\tlearn: 0.8980738\ttotal: 1m 40s\tremaining: 42.7s\n",
      "702:\tlearn: 0.8980638\ttotal: 1m 40s\tremaining: 42.5s\n",
      "703:\tlearn: 0.8980839\ttotal: 1m 40s\tremaining: 42.4s\n",
      "704:\tlearn: 0.8980889\ttotal: 1m 40s\tremaining: 42.2s\n",
      "705:\tlearn: 0.8981539\ttotal: 1m 41s\tremaining: 42.1s\n",
      "706:\tlearn: 0.8981739\ttotal: 1m 41s\tremaining: 41.9s\n",
      "707:\tlearn: 0.8981889\ttotal: 1m 41s\tremaining: 41.8s\n",
      "708:\tlearn: 0.8982590\ttotal: 1m 41s\tremaining: 41.7s\n",
      "709:\tlearn: 0.8983040\ttotal: 1m 41s\tremaining: 41.5s\n",
      "710:\tlearn: 0.8983040\ttotal: 1m 41s\tremaining: 41.4s\n",
      "711:\tlearn: 0.8983090\ttotal: 1m 41s\tremaining: 41.2s\n",
      "712:\tlearn: 0.8983140\ttotal: 1m 42s\tremaining: 41.1s\n",
      "713:\tlearn: 0.8984191\ttotal: 1m 42s\tremaining: 40.9s\n",
      "714:\tlearn: 0.8984491\ttotal: 1m 42s\tremaining: 40.8s\n",
      "715:\tlearn: 0.8984491\ttotal: 1m 42s\tremaining: 40.6s\n",
      "716:\tlearn: 0.8984491\ttotal: 1m 42s\tremaining: 40.5s\n",
      "717:\tlearn: 0.8984841\ttotal: 1m 42s\tremaining: 40.4s\n",
      "718:\tlearn: 0.8985041\ttotal: 1m 42s\tremaining: 40.2s\n",
      "719:\tlearn: 0.8986142\ttotal: 1m 43s\tremaining: 40.1s\n",
      "720:\tlearn: 0.8986842\ttotal: 1m 43s\tremaining: 39.9s\n",
      "721:\tlearn: 0.8987392\ttotal: 1m 43s\tremaining: 39.8s\n",
      "722:\tlearn: 0.8988043\ttotal: 1m 43s\tremaining: 39.6s\n",
      "723:\tlearn: 0.8988143\ttotal: 1m 43s\tremaining: 39.5s\n",
      "724:\tlearn: 0.8989194\ttotal: 1m 43s\tremaining: 39.4s\n",
      "725:\tlearn: 0.8989494\ttotal: 1m 43s\tremaining: 39.2s\n",
      "726:\tlearn: 0.8988993\ttotal: 1m 44s\tremaining: 39.1s\n",
      "727:\tlearn: 0.8989143\ttotal: 1m 44s\tremaining: 38.9s\n",
      "728:\tlearn: 0.8989294\ttotal: 1m 44s\tremaining: 38.8s\n",
      "729:\tlearn: 0.8989644\ttotal: 1m 44s\tremaining: 38.6s\n",
      "730:\tlearn: 0.8990244\ttotal: 1m 44s\tremaining: 38.5s\n",
      "731:\tlearn: 0.8990444\ttotal: 1m 44s\tremaining: 38.3s\n",
      "732:\tlearn: 0.8991445\ttotal: 1m 44s\tremaining: 38.2s\n",
      "733:\tlearn: 0.8991845\ttotal: 1m 45s\tremaining: 38.1s\n",
      "734:\tlearn: 0.8991645\ttotal: 1m 45s\tremaining: 37.9s\n",
      "735:\tlearn: 0.8992145\ttotal: 1m 45s\tremaining: 37.8s\n",
      "736:\tlearn: 0.8992345\ttotal: 1m 45s\tremaining: 37.6s\n",
      "737:\tlearn: 0.8992696\ttotal: 1m 45s\tremaining: 37.5s\n",
      "738:\tlearn: 0.8993846\ttotal: 1m 45s\tremaining: 37.4s\n",
      "739:\tlearn: 0.8993996\ttotal: 1m 45s\tremaining: 37.2s\n",
      "740:\tlearn: 0.8994096\ttotal: 1m 46s\tremaining: 37.1s\n",
      "741:\tlearn: 0.8994697\ttotal: 1m 46s\tremaining: 36.9s\n",
      "742:\tlearn: 0.8994947\ttotal: 1m 46s\tremaining: 36.8s\n",
      "743:\tlearn: 0.8994947\ttotal: 1m 46s\tremaining: 36.6s\n",
      "744:\tlearn: 0.8995948\ttotal: 1m 46s\tremaining: 36.5s\n",
      "745:\tlearn: 0.8996048\ttotal: 1m 46s\tremaining: 36.4s\n",
      "746:\tlearn: 0.8995697\ttotal: 1m 46s\tremaining: 36.2s\n",
      "747:\tlearn: 0.8996198\ttotal: 1m 47s\tremaining: 36.1s\n",
      "748:\tlearn: 0.8996398\ttotal: 1m 47s\tremaining: 35.9s\n",
      "749:\tlearn: 0.8996898\ttotal: 1m 47s\tremaining: 35.8s\n",
      "750:\tlearn: 0.8997849\ttotal: 1m 47s\tremaining: 35.6s\n",
      "751:\tlearn: 0.8997649\ttotal: 1m 47s\tremaining: 35.5s\n",
      "752:\tlearn: 0.8998049\ttotal: 1m 47s\tremaining: 35.3s\n",
      "753:\tlearn: 0.8999200\ttotal: 1m 47s\tremaining: 35.2s\n",
      "754:\tlearn: 0.8999149\ttotal: 1m 48s\tremaining: 35.1s\n",
      "755:\tlearn: 0.8999149\ttotal: 1m 48s\tremaining: 34.9s\n",
      "756:\tlearn: 0.9000150\ttotal: 1m 48s\tremaining: 34.8s\n",
      "757:\tlearn: 0.9001101\ttotal: 1m 48s\tremaining: 34.6s\n",
      "758:\tlearn: 0.9001851\ttotal: 1m 48s\tremaining: 34.5s\n",
      "759:\tlearn: 0.9001951\ttotal: 1m 48s\tremaining: 34.3s\n",
      "760:\tlearn: 0.9002451\ttotal: 1m 48s\tremaining: 34.2s\n",
      "761:\tlearn: 0.9002852\ttotal: 1m 49s\tremaining: 34.1s\n",
      "762:\tlearn: 0.9003102\ttotal: 1m 49s\tremaining: 33.9s\n",
      "763:\tlearn: 0.9004853\ttotal: 1m 49s\tremaining: 33.8s\n",
      "764:\tlearn: 0.9005153\ttotal: 1m 49s\tremaining: 33.6s\n",
      "765:\tlearn: 0.9004953\ttotal: 1m 49s\tremaining: 33.5s\n",
      "766:\tlearn: 0.9005353\ttotal: 1m 49s\tremaining: 33.3s\n",
      "767:\tlearn: 0.9005553\ttotal: 1m 49s\tremaining: 33.2s\n",
      "768:\tlearn: 0.9005703\ttotal: 1m 50s\tremaining: 33.1s\n",
      "769:\tlearn: 0.9006054\ttotal: 1m 50s\tremaining: 32.9s\n",
      "770:\tlearn: 0.9006254\ttotal: 1m 50s\tremaining: 32.8s\n",
      "771:\tlearn: 0.9006104\ttotal: 1m 50s\tremaining: 32.6s\n",
      "772:\tlearn: 0.9006204\ttotal: 1m 50s\tremaining: 32.5s\n",
      "773:\tlearn: 0.9007104\ttotal: 1m 50s\tremaining: 32.3s\n",
      "774:\tlearn: 0.9007304\ttotal: 1m 50s\tremaining: 32.2s\n",
      "775:\tlearn: 0.9007404\ttotal: 1m 51s\tremaining: 32.1s\n",
      "776:\tlearn: 0.9007454\ttotal: 1m 51s\tremaining: 31.9s\n",
      "777:\tlearn: 0.9007454\ttotal: 1m 51s\tremaining: 31.8s\n",
      "778:\tlearn: 0.9007805\ttotal: 1m 51s\tremaining: 31.6s\n",
      "779:\tlearn: 0.9008105\ttotal: 1m 51s\tremaining: 31.5s\n",
      "780:\tlearn: 0.9008505\ttotal: 1m 51s\tremaining: 31.3s\n",
      "781:\tlearn: 0.9008905\ttotal: 1m 51s\tremaining: 31.2s\n",
      "782:\tlearn: 0.9009656\ttotal: 1m 52s\tremaining: 31.1s\n",
      "783:\tlearn: 0.9009656\ttotal: 1m 52s\tremaining: 30.9s\n"
     ]
    },
    {
     "name": "stdout",
     "output_type": "stream",
     "text": [
      "784:\tlearn: 0.9010106\ttotal: 1m 52s\tremaining: 30.8s\n",
      "785:\tlearn: 0.9010857\ttotal: 1m 52s\tremaining: 30.6s\n",
      "786:\tlearn: 0.9011157\ttotal: 1m 52s\tremaining: 30.5s\n",
      "787:\tlearn: 0.9011757\ttotal: 1m 52s\tremaining: 30.3s\n",
      "788:\tlearn: 0.9011957\ttotal: 1m 52s\tremaining: 30.2s\n",
      "789:\tlearn: 0.9012558\ttotal: 1m 53s\tremaining: 30s\n",
      "790:\tlearn: 0.9012758\ttotal: 1m 53s\tremaining: 29.9s\n",
      "791:\tlearn: 0.9012758\ttotal: 1m 53s\tremaining: 29.8s\n",
      "792:\tlearn: 0.9012958\ttotal: 1m 53s\tremaining: 29.6s\n",
      "793:\tlearn: 0.9013858\ttotal: 1m 53s\tremaining: 29.5s\n",
      "794:\tlearn: 0.9014058\ttotal: 1m 53s\tremaining: 29.3s\n",
      "795:\tlearn: 0.9013858\ttotal: 1m 53s\tremaining: 29.2s\n",
      "796:\tlearn: 0.9013858\ttotal: 1m 53s\tremaining: 29s\n",
      "797:\tlearn: 0.9013858\ttotal: 1m 54s\tremaining: 28.9s\n",
      "798:\tlearn: 0.9014859\ttotal: 1m 54s\tremaining: 28.7s\n",
      "799:\tlearn: 0.9014909\ttotal: 1m 54s\tremaining: 28.6s\n",
      "800:\tlearn: 0.9015359\ttotal: 1m 54s\tremaining: 28.5s\n",
      "801:\tlearn: 0.9015860\ttotal: 1m 54s\tremaining: 28.3s\n",
      "802:\tlearn: 0.9016410\ttotal: 1m 54s\tremaining: 28.2s\n",
      "803:\tlearn: 0.9016910\ttotal: 1m 54s\tremaining: 28s\n",
      "804:\tlearn: 0.9017561\ttotal: 1m 55s\tremaining: 27.9s\n",
      "805:\tlearn: 0.9017410\ttotal: 1m 55s\tremaining: 27.7s\n",
      "806:\tlearn: 0.9018011\ttotal: 1m 55s\tremaining: 27.6s\n",
      "807:\tlearn: 0.9018511\ttotal: 1m 55s\tremaining: 27.5s\n",
      "808:\tlearn: 0.9018561\ttotal: 1m 55s\tremaining: 27.3s\n",
      "809:\tlearn: 0.9018761\ttotal: 1m 55s\tremaining: 27.2s\n",
      "810:\tlearn: 0.9018761\ttotal: 1m 55s\tremaining: 27s\n",
      "811:\tlearn: 0.9019562\ttotal: 1m 56s\tremaining: 26.9s\n",
      "812:\tlearn: 0.9020162\ttotal: 1m 56s\tremaining: 26.7s\n",
      "813:\tlearn: 0.9019962\ttotal: 1m 56s\tremaining: 26.6s\n",
      "814:\tlearn: 0.9020662\ttotal: 1m 56s\tremaining: 26.5s\n",
      "815:\tlearn: 0.9021113\ttotal: 1m 56s\tremaining: 26.3s\n",
      "816:\tlearn: 0.9021563\ttotal: 1m 56s\tremaining: 26.2s\n",
      "817:\tlearn: 0.9021963\ttotal: 1m 56s\tremaining: 26s\n",
      "818:\tlearn: 0.9022013\ttotal: 1m 57s\tremaining: 25.9s\n",
      "819:\tlearn: 0.9023114\ttotal: 1m 57s\tremaining: 25.7s\n",
      "820:\tlearn: 0.9023214\ttotal: 1m 57s\tremaining: 25.6s\n",
      "821:\tlearn: 0.9023514\ttotal: 1m 57s\tremaining: 25.5s\n",
      "822:\tlearn: 0.9024014\ttotal: 1m 57s\tremaining: 25.3s\n",
      "823:\tlearn: 0.9024114\ttotal: 1m 57s\tremaining: 25.2s\n",
      "824:\tlearn: 0.9024114\ttotal: 1m 58s\tremaining: 25s\n",
      "825:\tlearn: 0.9024765\ttotal: 1m 58s\tremaining: 24.9s\n",
      "826:\tlearn: 0.9024815\ttotal: 1m 58s\tremaining: 24.7s\n",
      "827:\tlearn: 0.9025165\ttotal: 1m 58s\tremaining: 24.6s\n",
      "828:\tlearn: 0.9025815\ttotal: 1m 58s\tremaining: 24.5s\n",
      "829:\tlearn: 0.9026516\ttotal: 1m 58s\tremaining: 24.3s\n",
      "830:\tlearn: 0.9026466\ttotal: 1m 58s\tremaining: 24.2s\n",
      "831:\tlearn: 0.9026866\ttotal: 1m 59s\tremaining: 24s\n",
      "832:\tlearn: 0.9027066\ttotal: 1m 59s\tremaining: 23.9s\n",
      "833:\tlearn: 0.9028467\ttotal: 1m 59s\tremaining: 23.7s\n",
      "834:\tlearn: 0.9028617\ttotal: 1m 59s\tremaining: 23.6s\n",
      "835:\tlearn: 0.9028767\ttotal: 1m 59s\tremaining: 23.5s\n",
      "836:\tlearn: 0.9028917\ttotal: 1m 59s\tremaining: 23.3s\n",
      "837:\tlearn: 0.9029218\ttotal: 1m 59s\tremaining: 23.2s\n",
      "838:\tlearn: 0.9030118\ttotal: 2m\tremaining: 23s\n",
      "839:\tlearn: 0.9030218\ttotal: 2m\tremaining: 22.9s\n",
      "840:\tlearn: 0.9030618\ttotal: 2m\tremaining: 22.7s\n",
      "841:\tlearn: 0.9030718\ttotal: 2m\tremaining: 22.6s\n",
      "842:\tlearn: 0.9031219\ttotal: 2m\tremaining: 22.5s\n",
      "843:\tlearn: 0.9031219\ttotal: 2m\tremaining: 22.3s\n",
      "844:\tlearn: 0.9031469\ttotal: 2m\tremaining: 22.2s\n",
      "845:\tlearn: 0.9032069\ttotal: 2m\tremaining: 22s\n",
      "846:\tlearn: 0.9032119\ttotal: 2m 1s\tremaining: 21.9s\n",
      "847:\tlearn: 0.9032520\ttotal: 2m 1s\tremaining: 21.7s\n",
      "848:\tlearn: 0.9032570\ttotal: 2m 1s\tremaining: 21.6s\n",
      "849:\tlearn: 0.9033120\ttotal: 2m 1s\tremaining: 21.5s\n",
      "850:\tlearn: 0.9033270\ttotal: 2m 1s\tremaining: 21.3s\n",
      "851:\tlearn: 0.9034221\ttotal: 2m 1s\tremaining: 21.2s\n",
      "852:\tlearn: 0.9035371\ttotal: 2m 2s\tremaining: 21s\n",
      "853:\tlearn: 0.9035221\ttotal: 2m 2s\tremaining: 20.9s\n",
      "854:\tlearn: 0.9035721\ttotal: 2m 2s\tremaining: 20.7s\n",
      "855:\tlearn: 0.9035721\ttotal: 2m 2s\tremaining: 20.6s\n",
      "856:\tlearn: 0.9037272\ttotal: 2m 2s\tremaining: 20.5s\n",
      "857:\tlearn: 0.9037272\ttotal: 2m 2s\tremaining: 20.3s\n",
      "858:\tlearn: 0.9037573\ttotal: 2m 2s\tremaining: 20.2s\n",
      "859:\tlearn: 0.9037573\ttotal: 2m 3s\tremaining: 20s\n",
      "860:\tlearn: 0.9038023\ttotal: 2m 3s\tremaining: 19.9s\n",
      "861:\tlearn: 0.9038423\ttotal: 2m 3s\tremaining: 19.8s\n",
      "862:\tlearn: 0.9039424\ttotal: 2m 3s\tremaining: 19.6s\n",
      "863:\tlearn: 0.9039974\ttotal: 2m 3s\tremaining: 19.5s\n",
      "864:\tlearn: 0.9039874\ttotal: 2m 3s\tremaining: 19.3s\n",
      "865:\tlearn: 0.9039874\ttotal: 2m 4s\tremaining: 19.2s\n",
      "866:\tlearn: 0.9040724\ttotal: 2m 4s\tremaining: 19.1s\n",
      "867:\tlearn: 0.9041425\ttotal: 2m 4s\tremaining: 18.9s\n",
      "868:\tlearn: 0.9041475\ttotal: 2m 4s\tremaining: 18.8s\n",
      "869:\tlearn: 0.9041675\ttotal: 2m 4s\tremaining: 18.6s\n",
      "870:\tlearn: 0.9041975\ttotal: 2m 4s\tremaining: 18.5s\n",
      "871:\tlearn: 0.9041975\ttotal: 2m 4s\tremaining: 18.3s\n",
      "872:\tlearn: 0.9042025\ttotal: 2m 5s\tremaining: 18.2s\n",
      "873:\tlearn: 0.9042626\ttotal: 2m 5s\tremaining: 18.1s\n",
      "874:\tlearn: 0.9042826\ttotal: 2m 5s\tremaining: 17.9s\n",
      "875:\tlearn: 0.9043426\ttotal: 2m 5s\tremaining: 17.8s\n",
      "876:\tlearn: 0.9044177\ttotal: 2m 5s\tremaining: 17.6s\n",
      "877:\tlearn: 0.9044427\ttotal: 2m 5s\tremaining: 17.5s\n",
      "878:\tlearn: 0.9045677\ttotal: 2m 5s\tremaining: 17.3s\n",
      "879:\tlearn: 0.9045978\ttotal: 2m 6s\tremaining: 17.2s\n",
      "880:\tlearn: 0.9045677\ttotal: 2m 6s\tremaining: 17s\n",
      "881:\tlearn: 0.9046128\ttotal: 2m 6s\tremaining: 16.9s\n",
      "882:\tlearn: 0.9046078\ttotal: 2m 6s\tremaining: 16.8s\n",
      "883:\tlearn: 0.9046628\ttotal: 2m 6s\tremaining: 16.6s\n",
      "884:\tlearn: 0.9046628\ttotal: 2m 6s\tremaining: 16.5s\n",
      "885:\tlearn: 0.9046378\ttotal: 2m 6s\tremaining: 16.3s\n",
      "886:\tlearn: 0.9046728\ttotal: 2m 7s\tremaining: 16.2s\n",
      "887:\tlearn: 0.9046728\ttotal: 2m 7s\tremaining: 16s\n",
      "888:\tlearn: 0.9046978\ttotal: 2m 7s\tremaining: 15.9s\n",
      "889:\tlearn: 0.9047478\ttotal: 2m 7s\tremaining: 15.8s\n",
      "890:\tlearn: 0.9047829\ttotal: 2m 7s\tremaining: 15.6s\n",
      "891:\tlearn: 0.9048129\ttotal: 2m 7s\tremaining: 15.5s\n",
      "892:\tlearn: 0.9048329\ttotal: 2m 7s\tremaining: 15.3s\n",
      "893:\tlearn: 0.9048779\ttotal: 2m 8s\tremaining: 15.2s\n",
      "894:\tlearn: 0.9049079\ttotal: 2m 8s\tremaining: 15s\n",
      "895:\tlearn: 0.9049630\ttotal: 2m 8s\tremaining: 14.9s\n",
      "896:\tlearn: 0.9050630\ttotal: 2m 8s\tremaining: 14.8s\n",
      "897:\tlearn: 0.9051281\ttotal: 2m 8s\tremaining: 14.6s\n",
      "898:\tlearn: 0.9051381\ttotal: 2m 8s\tremaining: 14.5s\n",
      "899:\tlearn: 0.9052081\ttotal: 2m 8s\tremaining: 14.3s\n",
      "900:\tlearn: 0.9052782\ttotal: 2m 9s\tremaining: 14.2s\n",
      "901:\tlearn: 0.9053332\ttotal: 2m 9s\tremaining: 14s\n",
      "902:\tlearn: 0.9054032\ttotal: 2m 9s\tremaining: 13.9s\n",
      "903:\tlearn: 0.9054633\ttotal: 2m 9s\tremaining: 13.8s\n",
      "904:\tlearn: 0.9054983\ttotal: 2m 9s\tremaining: 13.6s\n",
      "905:\tlearn: 0.9055483\ttotal: 2m 9s\tremaining: 13.5s\n",
      "906:\tlearn: 0.9055884\ttotal: 2m 9s\tremaining: 13.3s\n",
      "907:\tlearn: 0.9056034\ttotal: 2m 10s\tremaining: 13.2s\n",
      "908:\tlearn: 0.9057184\ttotal: 2m 10s\tremaining: 13s\n",
      "909:\tlearn: 0.9058035\ttotal: 2m 10s\tremaining: 12.9s\n",
      "910:\tlearn: 0.9058735\ttotal: 2m 10s\tremaining: 12.8s\n",
      "911:\tlearn: 0.9059386\ttotal: 2m 10s\tremaining: 12.6s\n",
      "912:\tlearn: 0.9059586\ttotal: 2m 10s\tremaining: 12.5s\n",
      "913:\tlearn: 0.9059986\ttotal: 2m 11s\tremaining: 12.3s\n",
      "914:\tlearn: 0.9059836\ttotal: 2m 11s\tremaining: 12.2s\n",
      "915:\tlearn: 0.9060486\ttotal: 2m 11s\tremaining: 12s\n",
      "916:\tlearn: 0.9060686\ttotal: 2m 11s\tremaining: 11.9s\n",
      "917:\tlearn: 0.9061637\ttotal: 2m 11s\tremaining: 11.8s\n",
      "918:\tlearn: 0.9061837\ttotal: 2m 11s\tremaining: 11.6s\n",
      "919:\tlearn: 0.9062087\ttotal: 2m 11s\tremaining: 11.5s\n",
      "920:\tlearn: 0.9062487\ttotal: 2m 12s\tremaining: 11.3s\n",
      "921:\tlearn: 0.9063038\ttotal: 2m 12s\tremaining: 11.2s\n",
      "922:\tlearn: 0.9063888\ttotal: 2m 12s\tremaining: 11s\n",
      "923:\tlearn: 0.9063888\ttotal: 2m 12s\tremaining: 10.9s\n",
      "924:\tlearn: 0.9063788\ttotal: 2m 12s\tremaining: 10.8s\n",
      "925:\tlearn: 0.9064289\ttotal: 2m 12s\tremaining: 10.6s\n",
      "926:\tlearn: 0.9064539\ttotal: 2m 12s\tremaining: 10.5s\n",
      "927:\tlearn: 0.9065389\ttotal: 2m 13s\tremaining: 10.3s\n",
      "928:\tlearn: 0.9065689\ttotal: 2m 13s\tremaining: 10.2s\n",
      "929:\tlearn: 0.9066440\ttotal: 2m 13s\tremaining: 10s\n",
      "930:\tlearn: 0.9067641\ttotal: 2m 13s\tremaining: 9.89s\n",
      "931:\tlearn: 0.9067490\ttotal: 2m 13s\tremaining: 9.75s\n",
      "932:\tlearn: 0.9067841\ttotal: 2m 13s\tremaining: 9.6s\n",
      "933:\tlearn: 0.9067891\ttotal: 2m 13s\tremaining: 9.46s\n",
      "934:\tlearn: 0.9068741\ttotal: 2m 14s\tremaining: 9.32s\n",
      "935:\tlearn: 0.9068441\ttotal: 2m 14s\tremaining: 9.17s\n",
      "936:\tlearn: 0.9069141\ttotal: 2m 14s\tremaining: 9.03s\n",
      "937:\tlearn: 0.9069442\ttotal: 2m 14s\tremaining: 8.89s\n",
      "938:\tlearn: 0.9069892\ttotal: 2m 14s\tremaining: 8.75s\n",
      "939:\tlearn: 0.9070592\ttotal: 2m 14s\tremaining: 8.6s\n",
      "940:\tlearn: 0.9070692\ttotal: 2m 14s\tremaining: 8.46s\n",
      "941:\tlearn: 0.9071093\ttotal: 2m 15s\tremaining: 8.32s\n"
     ]
    },
    {
     "name": "stdout",
     "output_type": "stream",
     "text": [
      "942:\tlearn: 0.9070993\ttotal: 2m 15s\tremaining: 8.17s\n",
      "943:\tlearn: 0.9070592\ttotal: 2m 15s\tremaining: 8.03s\n",
      "944:\tlearn: 0.9070592\ttotal: 2m 15s\tremaining: 7.89s\n",
      "945:\tlearn: 0.9071343\ttotal: 2m 15s\tremaining: 7.74s\n",
      "946:\tlearn: 0.9071643\ttotal: 2m 15s\tremaining: 7.6s\n",
      "947:\tlearn: 0.9071943\ttotal: 2m 15s\tremaining: 7.46s\n",
      "948:\tlearn: 0.9072493\ttotal: 2m 16s\tremaining: 7.31s\n",
      "949:\tlearn: 0.9072944\ttotal: 2m 16s\tremaining: 7.17s\n",
      "950:\tlearn: 0.9073294\ttotal: 2m 16s\tremaining: 7.03s\n",
      "951:\tlearn: 0.9073544\ttotal: 2m 16s\tremaining: 6.88s\n",
      "952:\tlearn: 0.9073794\ttotal: 2m 16s\tremaining: 6.74s\n",
      "953:\tlearn: 0.9073644\ttotal: 2m 16s\tremaining: 6.6s\n",
      "954:\tlearn: 0.9074245\ttotal: 2m 16s\tremaining: 6.45s\n",
      "955:\tlearn: 0.9075195\ttotal: 2m 17s\tremaining: 6.31s\n",
      "956:\tlearn: 0.9075595\ttotal: 2m 17s\tremaining: 6.17s\n",
      "957:\tlearn: 0.9075996\ttotal: 2m 17s\tremaining: 6.03s\n",
      "958:\tlearn: 0.9076696\ttotal: 2m 17s\tremaining: 5.88s\n",
      "959:\tlearn: 0.9076796\ttotal: 2m 17s\tremaining: 5.74s\n",
      "960:\tlearn: 0.9077096\ttotal: 2m 17s\tremaining: 5.59s\n",
      "961:\tlearn: 0.9076996\ttotal: 2m 18s\tremaining: 5.45s\n",
      "962:\tlearn: 0.9077847\ttotal: 2m 18s\tremaining: 5.31s\n",
      "963:\tlearn: 0.9078697\ttotal: 2m 18s\tremaining: 5.16s\n",
      "964:\tlearn: 0.9080148\ttotal: 2m 18s\tremaining: 5.02s\n",
      "965:\tlearn: 0.9080348\ttotal: 2m 18s\tremaining: 4.88s\n",
      "966:\tlearn: 0.9080298\ttotal: 2m 18s\tremaining: 4.73s\n",
      "967:\tlearn: 0.9081449\ttotal: 2m 18s\tremaining: 4.59s\n",
      "968:\tlearn: 0.9082049\ttotal: 2m 19s\tremaining: 4.45s\n",
      "969:\tlearn: 0.9081949\ttotal: 2m 19s\tremaining: 4.3s\n",
      "970:\tlearn: 0.9082199\ttotal: 2m 19s\tremaining: 4.16s\n",
      "971:\tlearn: 0.9082349\ttotal: 2m 19s\tremaining: 4.02s\n",
      "972:\tlearn: 0.9082800\ttotal: 2m 19s\tremaining: 3.87s\n",
      "973:\tlearn: 0.9082700\ttotal: 2m 19s\tremaining: 3.73s\n",
      "974:\tlearn: 0.9082700\ttotal: 2m 19s\tremaining: 3.58s\n",
      "975:\tlearn: 0.9083200\ttotal: 2m 19s\tremaining: 3.44s\n",
      "976:\tlearn: 0.9083300\ttotal: 2m 20s\tremaining: 3.3s\n",
      "977:\tlearn: 0.9083100\ttotal: 2m 20s\tremaining: 3.15s\n",
      "978:\tlearn: 0.9083150\ttotal: 2m 20s\tremaining: 3.01s\n",
      "979:\tlearn: 0.9083500\ttotal: 2m 20s\tremaining: 2.87s\n",
      "980:\tlearn: 0.9084251\ttotal: 2m 20s\tremaining: 2.73s\n",
      "981:\tlearn: 0.9085501\ttotal: 2m 20s\tremaining: 2.58s\n",
      "982:\tlearn: 0.9086002\ttotal: 2m 21s\tremaining: 2.44s\n",
      "983:\tlearn: 0.9086452\ttotal: 2m 21s\tremaining: 2.29s\n",
      "984:\tlearn: 0.9086802\ttotal: 2m 21s\tremaining: 2.15s\n",
      "985:\tlearn: 0.9087202\ttotal: 2m 21s\tremaining: 2.01s\n",
      "986:\tlearn: 0.9087903\ttotal: 2m 21s\tremaining: 1.86s\n",
      "987:\tlearn: 0.9088453\ttotal: 2m 21s\tremaining: 1.72s\n",
      "988:\tlearn: 0.9088053\ttotal: 2m 21s\tremaining: 1.58s\n",
      "989:\tlearn: 0.9088753\ttotal: 2m 22s\tremaining: 1.43s\n",
      "990:\tlearn: 0.9089254\ttotal: 2m 22s\tremaining: 1.29s\n",
      "991:\tlearn: 0.9089454\ttotal: 2m 22s\tremaining: 1.15s\n",
      "992:\tlearn: 0.9090254\ttotal: 2m 22s\tremaining: 1s\n",
      "993:\tlearn: 0.9090204\ttotal: 2m 22s\tremaining: 861ms\n",
      "994:\tlearn: 0.9090654\ttotal: 2m 22s\tremaining: 717ms\n",
      "995:\tlearn: 0.9091005\ttotal: 2m 22s\tremaining: 574ms\n",
      "996:\tlearn: 0.9091005\ttotal: 2m 23s\tremaining: 430ms\n",
      "997:\tlearn: 0.9090955\ttotal: 2m 23s\tremaining: 287ms\n",
      "998:\tlearn: 0.9091155\ttotal: 2m 23s\tremaining: 143ms\n",
      "999:\tlearn: 0.9091455\ttotal: 2m 23s\tremaining: 0us\n"
     ]
    },
    {
     "name": "stderr",
     "output_type": "stream",
     "text": [
      "/home/g21300602/anaconda3/lib/python3.7/site-packages/lightgbm/engine.py:148: UserWarning: Found `num_iterations` in params. Will use it instead of argument\n",
      "  warnings.warn(\"Found `{}` in params. Will use it instead of argument\".format(alias))\n"
     ]
    },
    {
     "data": {
      "text/plain": [
       "VotingClassifier(estimators=[('catb',\n",
       "                              <catboost.core.CatBoostClassifier object at 0x7fafcd69cd10>),\n",
       "                             ('xgb',\n",
       "                              XGBClassifier(base_score=0.5, booster='gbtree',\n",
       "                                            colsample_bylevel=1,\n",
       "                                            colsample_bynode=1,\n",
       "                                            colsample_bytree=1, gamma=0,\n",
       "                                            gpu_id=0, learning_rate=0.1,\n",
       "                                            max_delta_step=0, max_depth=9,\n",
       "                                            min_child_weight=1, missing=nan,\n",
       "                                            n_estimators=200, n_jobs=1,\n",
       "                                            nthread=None,\n",
       "                                            objective=...\n",
       "                                             learning_rate=0.1, max_bin=300,\n",
       "                                             max_depth=5, min_child_samples=20,\n",
       "                                             min_child_weight=0.1,\n",
       "                                             min_split_gain=0.1,\n",
       "                                             n_estimators=100, n_jobs=-1,\n",
       "                                             num_iterations=800, num_leaves=400,\n",
       "                                             objective=None, random_state=1234,\n",
       "                                             reg_alpha=0.0, reg_lambda=0.0,\n",
       "                                             silent=True, subsample=1.0,\n",
       "                                             subsample_for_bin=200000,\n",
       "                                             subsample_freq=0))],\n",
       "                 flatten_transform=True, n_jobs=None, voting='soft',\n",
       "                 weights=None)"
      ]
     },
     "execution_count": 36,
     "metadata": {},
     "output_type": "execute_result"
    }
   ],
   "source": [
    "eclf=VotingClassifier(estimators=[('catb', catb_model),('xgb',xgb_model),('lgbm', lgbm_model)], voting='soft')\n",
    "eclf.fit(train_X, train_y)"
   ]
  },
  {
   "cell_type": "code",
   "execution_count": 37,
   "metadata": {
    "scrolled": true
   },
   "outputs": [
    {
     "data": {
      "text/plain": [
       "VotingClassifier(estimators=[('catb',\n",
       "                              <catboost.core.CatBoostClassifier object at 0x7fafcd69cd10>),\n",
       "                             ('xgb',\n",
       "                              XGBClassifier(base_score=0.5, booster='gbtree',\n",
       "                                            colsample_bylevel=1,\n",
       "                                            colsample_bynode=1,\n",
       "                                            colsample_bytree=1, gamma=0,\n",
       "                                            gpu_id=0, learning_rate=0.1,\n",
       "                                            max_delta_step=0, max_depth=9,\n",
       "                                            min_child_weight=1, missing=nan,\n",
       "                                            n_estimators=200, n_jobs=1,\n",
       "                                            nthread=None,\n",
       "                                            objective=...\n",
       "                                             learning_rate=0.1, max_bin=300,\n",
       "                                             max_depth=5, min_child_samples=20,\n",
       "                                             min_child_weight=0.1,\n",
       "                                             min_split_gain=0.1,\n",
       "                                             n_estimators=100, n_jobs=-1,\n",
       "                                             num_iterations=800, num_leaves=400,\n",
       "                                             objective=None, random_state=1234,\n",
       "                                             reg_alpha=0.0, reg_lambda=0.0,\n",
       "                                             silent=True, subsample=1.0,\n",
       "                                             subsample_for_bin=200000,\n",
       "                                             subsample_freq=0))],\n",
       "                 flatten_transform=True, n_jobs=None, voting='soft',\n",
       "                 weights=None)"
      ]
     },
     "execution_count": 37,
     "metadata": {},
     "output_type": "execute_result"
    }
   ],
   "source": [
    "eclf"
   ]
  },
  {
   "cell_type": "code",
   "execution_count": 150,
   "metadata": {},
   "outputs": [],
   "source": [
    "cat_pred = catb_model.predict_proba(X_test)\n",
    "xgb_pred = xgb_model.predict_proba(X_test)"
   ]
  },
  {
   "cell_type": "code",
   "execution_count": 146,
   "metadata": {},
   "outputs": [
    {
     "data": {
      "text/plain": [
       "array([[8.91872659e-02, 6.95515168e-04, 1.20304942e-09, ...,\n",
       "        1.52353395e-08, 7.59580611e-06, 6.80944846e-04],\n",
       "       [3.82901079e-04, 7.40820446e-06, 1.10052667e-08, ...,\n",
       "        2.06688348e-08, 1.72725293e-06, 2.89379698e-04],\n",
       "       [8.93874545e-04, 2.31695562e-05, 2.28748209e-09, ...,\n",
       "        2.82421754e-08, 7.77799771e-06, 4.36316875e-04],\n",
       "       ...,\n",
       "       [2.27171431e-04, 1.04807394e-05, 8.09748534e-08, ...,\n",
       "        4.05356233e-07, 4.65784998e-05, 6.06033102e-02],\n",
       "       [1.10588044e-05, 6.59696704e-07, 1.08082328e-07, ...,\n",
       "        8.45671284e-07, 2.27767562e-05, 2.84201152e-04],\n",
       "       [2.47547411e-02, 8.07578744e-04, 2.71472659e-08, ...,\n",
       "        2.21075401e-07, 2.25162075e-05, 2.19491114e-02]])"
      ]
     },
     "execution_count": 146,
     "metadata": {},
     "output_type": "execute_result"
    }
   ],
   "source": [
    "cat_pred"
   ]
  },
  {
   "cell_type": "markdown",
   "metadata": {},
   "source": [
    "- 0, 7, 11, 12, 13, 17\n",
    "- 나머지 cat"
   ]
  },
  {
   "cell_type": "code",
   "execution_count": 143,
   "metadata": {},
   "outputs": [],
   "source": [
    "# Category Weighted Voting\n",
    "total_pred = []\n",
    "target_list = [0, 7, 11, 12, 13, 17]\n",
    "for idx in range(len(X_test)):\n",
    "    temp_list = []\n",
    "    max_idx = np.argmax(cat_pred[idx])\n",
    "    # CatB에서 잘 안나온 0, 7, 11, 12, 13, 17 category --> XG에 가중치 up\n",
    "    # 그 외 나머지는 cat에 가중치\n",
    "    if max_idx in target_list:\n",
    "        temp_list = (0.1 * cat_pred[idx] + 0.9 * xgb_pred[idx])\n",
    "    else:\n",
    "        temp_list = (0.9 * cat_pred[idx] + 0.1 * xgb_pred[idx])\n",
    "    \n",
    "    temp_list = temp_list.tolist()\n",
    "    total_pred.append(temp_list)\n",
    "    \n",
    "total_pred = np.array(total_pred)"
   ]
  },
  {
   "cell_type": "code",
   "execution_count": 144,
   "metadata": {
    "scrolled": false
   },
   "outputs": [
    {
     "data": {
      "text/plain": [
       "array([[8.14598441e-02, 6.34584604e-04, 3.33277174e-08, ...,\n",
       "        2.53929221e-08, 6.97816063e-06, 6.31140241e-04],\n",
       "       [3.52695589e-04, 6.84848358e-06, 3.11141955e-08, ...,\n",
       "        1.01455775e-07, 1.59996261e-06, 2.68745455e-04],\n",
       "       [8.77386205e-04, 2.32559403e-05, 8.31082050e-08, ...,\n",
       "        6.31241303e-08, 7.94733634e-06, 4.85227750e-04],\n",
       "       ...,\n",
       "       [2.08158538e-04, 1.01243062e-05, 2.59098838e-07, ...,\n",
       "        6.50531947e-07, 4.24689329e-05, 5.55115389e-02],\n",
       "       [1.90469804e-05, 8.37974623e-06, 2.92363191e-06, ...,\n",
       "        4.76227073e-06, 2.06301582e-05, 8.44956040e-05],\n",
       "       [2.28620168e-02, 7.56092472e-04, 2.49735480e-07, ...,\n",
       "        3.68937357e-07, 2.07538210e-05, 2.18600209e-02]])"
      ]
     },
     "execution_count": 144,
     "metadata": {},
     "output_type": "execute_result"
    }
   ],
   "source": [
    "total_pred"
   ]
  },
  {
   "cell_type": "markdown",
   "metadata": {},
   "source": [
    "### Voting category weighting에서 Validation 해보기"
   ]
  },
  {
   "cell_type": "code",
   "execution_count": 130,
   "metadata": {},
   "outputs": [],
   "source": [
    "# 최대 prob 를 1로 선정하기\n",
    "for i in range(len(total_pred)):\n",
    "    total_pred[i][max(total_pred[i]) == total_pred[i]] = 1\n",
    "    total_pred[i][max(total_pred[i]) != total_pred[i]] = 0"
   ]
  },
  {
   "cell_type": "code",
   "execution_count": 136,
   "metadata": {},
   "outputs": [],
   "source": [
    "# 최대 prob의 위치값을 기준으로 해당 category를 list에 담기\n",
    "temp_pred = []\n",
    "for idx in range(len(total_pred)):\n",
    "    max_idx = np.argmax(total_pred[idx])\n",
    "    temp_pred.append(max_idx)"
   ]
  },
  {
   "cell_type": "code",
   "execution_count": 153,
   "metadata": {},
   "outputs": [],
   "source": [
    "def logloss(true_label, predicted, eps=1e-15):\n",
    "  p = np.clip(predicted, eps, 1 - eps)\n",
    "  if true_label == 1:\n",
    "    return -log(p)\n",
    "  else:\n",
    "    return -log(1 - p)"
   ]
  },
  {
   "cell_type": "code",
   "execution_count": null,
   "metadata": {},
   "outputs": [],
   "source": [
    "# Validation으로 accuracy 측정해보기\n",
    "accuracy=accuracy_score(y_test, y_pred)\n",
    "print(\"Category Weighted Voting으로 찾은 accuracy결과: {0:.4f}\".format(accuracy))"
   ]
  },
  {
   "cell_type": "code",
   "execution_count": 145,
   "metadata": {},
   "outputs": [
    {
     "name": "stdout",
     "output_type": "stream",
     "text": [
      "Category Weighted Voting으로 찾은 log loss 결과: 0.2349\n"
     ]
    }
   ],
   "source": [
    "logloss = logloss(y_test, total_pred)\n",
    "print(\"Category Weighted Voting으로 찾은 log loss 결과: {0:.4f}\".format(logloss))"
   ]
  },
  {
   "cell_type": "code",
   "execution_count": 151,
   "metadata": {},
   "outputs": [
    {
     "name": "stdout",
     "output_type": "stream",
     "text": [
      "CatBoost으로 찾은 log loss 결과: 0.2698\n"
     ]
    }
   ],
   "source": [
    "logloss = log_loss(y_test, cat_pred)\n",
    "print(\"CatBoost으로 찾은 log loss 결과: {0:.4f}\".format(logloss))"
   ]
  },
  {
   "cell_type": "code",
   "execution_count": 152,
   "metadata": {},
   "outputs": [
    {
     "name": "stdout",
     "output_type": "stream",
     "text": [
      "XGBoosst으로 찾은 log loss 결과: 0.1491\n"
     ]
    }
   ],
   "source": [
    "xgb_pred\n",
    "logloss = log_loss(y_test, xgb_pred)\n",
    "print(\"XGBoosst으로 찾은 log loss 결과: {0:.4f}\".format(logloss))"
   ]
  },
  {
   "cell_type": "code",
   "execution_count": 56,
   "metadata": {
    "scrolled": true
   },
   "outputs": [
    {
     "name": "stdout",
     "output_type": "stream",
     "text": [
      "Voting으로 찾은 log loss 결과: 0.4900\n"
     ]
    }
   ],
   "source": [
    "logloss = log_loss(y_test, eclf_pred)\n",
    "print(\"Voting으로 찾은 log loss 결과: {0:.4f}\".format(logloss))"
   ]
  },
  {
   "cell_type": "code",
   "execution_count": 53,
   "metadata": {},
   "outputs": [
    {
     "data": {
      "text/plain": [
       "(39980,)"
      ]
     },
     "execution_count": 53,
     "metadata": {},
     "output_type": "execute_result"
    }
   ],
   "source": [
    "y_test.shape"
   ]
  },
  {
   "cell_type": "code",
   "execution_count": 54,
   "metadata": {},
   "outputs": [],
   "source": [
    "eclf_pred = eclf.predict_proba(X_test)"
   ]
  },
  {
   "cell_type": "code",
   "execution_count": null,
   "metadata": {},
   "outputs": [],
   "source": [
    "eclf_pred"
   ]
  },
  {
   "cell_type": "markdown",
   "metadata": {},
   "source": [
    "# >> 제출"
   ]
  },
  {
   "cell_type": "code",
   "execution_count": 38,
   "metadata": {
    "scrolled": true
   },
   "outputs": [],
   "source": [
    "# XGV_best = xgv.best_estimator_\n",
    "y_pred = eclf.predict_proba(test_x)"
   ]
  },
  {
   "cell_type": "code",
   "execution_count": 47,
   "metadata": {},
   "outputs": [
    {
     "data": {
      "text/plain": [
       "['200220_lgbm_best.pkl']"
      ]
     },
     "execution_count": 47,
     "metadata": {},
     "output_type": "execute_result"
    }
   ],
   "source": [
    "dump(lgbm_best, \"200220_lgbm_best.pkl\")"
   ]
  },
  {
   "cell_type": "code",
   "execution_count": 116,
   "metadata": {
    "scrolled": true
   },
   "outputs": [],
   "source": [
    "for i in range(len(y_pred)):\n",
    "    y_pred[i][max(y_pred[i]) == y_pred[i]] = 1\n",
    "    y_pred[i][max(y_pred[i]) != y_pred[i]] = 0"
   ]
  },
  {
   "cell_type": "code",
   "execution_count": 39,
   "metadata": {},
   "outputs": [],
   "source": [
    "submission = pd.DataFrame(data=y_pred, columns=sample_submission.columns, index=sample_submission.index)\n",
    "submission.to_csv('submission_200222_Voting.csv', index=True)"
   ]
  },
  {
   "cell_type": "markdown",
   "metadata": {},
   "source": [
    "# >> 모델 저장"
   ]
  },
  {
   "cell_type": "code",
   "execution_count": 179,
   "metadata": {},
   "outputs": [],
   "source": [
    "from joblib import dump, load"
   ]
  },
  {
   "cell_type": "code",
   "execution_count": 180,
   "metadata": {},
   "outputs": [
    {
     "data": {
      "text/plain": [
       "['200222_xgb_feature_weighting.pkl']"
      ]
     },
     "execution_count": 180,
     "metadata": {},
     "output_type": "execute_result"
    }
   ],
   "source": [
    "xgb_best = xgv.best_estimator_\n",
    "dump(xgb_best, \"200222_xgb_feature_weighting.pkl\")"
   ]
  }
 ],
 "metadata": {
  "kernelspec": {
   "display_name": "Python 3",
   "language": "python",
   "name": "python3"
  },
  "language_info": {
   "codemirror_mode": {
    "name": "ipython",
    "version": 3
   },
   "file_extension": ".py",
   "mimetype": "text/x-python",
   "name": "python",
   "nbconvert_exporter": "python",
   "pygments_lexer": "ipython3",
   "version": "3.6.5"
  }
 },
 "nbformat": 4,
 "nbformat_minor": 2
}
